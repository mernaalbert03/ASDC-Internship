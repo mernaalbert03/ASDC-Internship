{
 "cells": [
  {
   "cell_type": "markdown",
   "metadata": {},
   "source": [
    "# Task Description:\n",
    "\n",
    "Our goal is to train the model to recognize tooth numbers and conditions such as implants, root canals, or crowns in dental X-ray images.\n",
    "Dataset Overview:\n",
    "This dataset contains various dental X-ray images showcasing a range of conditions. The images will undergo processing using Instance Segmentation.\n",
    "\n",
    "Dataset Link: https://universe.roboflow.com/bassem-ahmed-ouwsa/dentistry-vbril"
   ]
  },
  {
   "cell_type": "markdown",
   "metadata": {},
   "source": [
    "## Instance Segmentation \n",
    "\n",
    "\n",
    "Instance segmentation is a computer vision task that involves identifying and delineating individual objects within an image at the pixel level. In this task, the goal is not only to classify objects and provide bounding boxes around them (as in object detection) but also to segment each instance of an object with high precision, distinguishing between different instances of the same class."
   ]
  },
  {
   "cell_type": "markdown",
   "metadata": {},
   "source": [
    "# 1. Import and install Libraries"
   ]
  },
  {
   "cell_type": "code",
   "execution_count": 2,
   "metadata": {
    "_cell_guid": "b1076dfc-b9ad-4769-8c92-a6c4dae69d19",
    "_uuid": "8f2839f25d086af736a60e9eeb907d3b93b6e0e5",
    "execution": {
     "iopub.execute_input": "2023-12-28T02:55:38.876430Z",
     "iopub.status.busy": "2023-12-28T02:55:38.876070Z",
     "iopub.status.idle": "2023-12-28T02:55:39.280729Z",
     "shell.execute_reply": "2023-12-28T02:55:39.279785Z",
     "shell.execute_reply.started": "2023-12-28T02:55:38.876400Z"
    }
   },
   "outputs": [
    {
     "name": "stdout",
     "output_type": "stream",
     "text": [
      "/kaggle/input/dentistry-image-dataset/README.dataset.txt\n",
      "/kaggle/input/dentistry-image-dataset/README.roboflow.txt\n",
      "/kaggle/input/dentistry-image-dataset/data.yaml\n",
      "/kaggle/input/dentistry-image-dataset/valid/labels/0000144_png_jpg.rf.aaaeadd7e8a15e69d1ee522095e12a07.txt\n",
      "/kaggle/input/dentistry-image-dataset/valid/labels/0000585_png_jpg.rf.a4359a8475a4702499260d3ba6288e1d.txt\n",
      "/kaggle/input/dentistry-image-dataset/valid/labels/0000314_png_jpg.rf.ee09a69c46a0cb26155e0e3921304145.txt\n",
      "/kaggle/input/dentistry-image-dataset/valid/labels/0000358_png_jpg.rf.2a068aac675532b3649d0009a01e5d0d.txt\n",
      "/kaggle/input/dentistry-image-dataset/valid/labels/0000231_png_jpg.rf.b4455df07a89550468c2ed5332081699.txt\n",
      "/kaggle/input/dentistry-image-dataset/valid/labels/0000567_png_jpg.rf.222e74190014c39ab72202db1bbc44f8.txt\n",
      "/kaggle/input/dentistry-image-dataset/valid/labels/0000494_png_jpg.rf.488250bdb6da9e7da1a2d1cc093e15d4.txt\n",
      "/kaggle/input/dentistry-image-dataset/valid/labels/0000308_png_jpg.rf.88b0bc35ce301d0fe4854cce1d734a8e.txt\n",
      "/kaggle/input/dentistry-image-dataset/valid/labels/0000586_png_jpg.rf.570b42de02cdd6314ace8eaa6274dc35.txt\n",
      "/kaggle/input/dentistry-image-dataset/valid/labels/0000036_png_jpg.rf.d13ba55d928cd4871619567963b42170.txt\n",
      "/kaggle/input/dentistry-image-dataset/valid/labels/0000445_png_jpg.rf.3bdafafe0bcbd61d52c2aa1a32b8f264.txt\n",
      "/kaggle/input/dentistry-image-dataset/valid/labels/0000432_png_jpg.rf.cfcd9a54351730750eda44d5f8dd44ea.txt\n",
      "/kaggle/input/dentistry-image-dataset/valid/labels/0000674_png_jpg.rf.e2b188f4af8933bdcd227835a4546baa.txt\n",
      "/kaggle/input/dentistry-image-dataset/valid/labels/0000434_png_jpg.rf.c64e77e3f9ed6b5e83da43d7c9fe0c38.txt\n",
      "/kaggle/input/dentistry-image-dataset/valid/labels/0000618_png_jpg.rf.3482799c6b59da6bb4cfb6cbdac532b7.txt\n",
      "/kaggle/input/dentistry-image-dataset/valid/labels/0000017_png_jpg.rf.1a57a2ec8a90de930bdc47910a29fc8b.txt\n",
      "/kaggle/input/dentistry-image-dataset/valid/labels/0000011_png_jpg.rf.2ade3169518f1bce12c0a976cf93a8c9.txt\n",
      "/kaggle/input/dentistry-image-dataset/valid/labels/0000610_png_jpg.rf.3ac99525aec783c716df875db8495684.txt\n",
      "/kaggle/input/dentistry-image-dataset/valid/labels/0000082_png_jpg.rf.6e82d43e3676954d88d033c16f3fbe54.txt\n",
      "/kaggle/input/dentistry-image-dataset/valid/labels/0000673_png_jpg.rf.4d2cd37e554f6083e89fd7a2ac7f3c9e.txt\n",
      "/kaggle/input/dentistry-image-dataset/valid/labels/0000430_png_jpg.rf.590d1a98504ebceb6197dd27a7bca808.txt\n",
      "/kaggle/input/dentistry-image-dataset/valid/labels/0000470_png_jpg.rf.b1cccf5aa03473ab66eeb267780ce7e5.txt\n",
      "/kaggle/input/dentistry-image-dataset/valid/labels/0000274_png_jpg.rf.e2bb3ee10f9cba92afdee9437b231e6d.txt\n",
      "/kaggle/input/dentistry-image-dataset/valid/labels/0000448_png_jpg.rf.536741971ac1ad9e1c2e21733d18c8b3.txt\n",
      "/kaggle/input/dentistry-image-dataset/valid/labels/0000115_png_jpg.rf.ba5d946f0e50d1aeda7aae917c788f99.txt\n",
      "/kaggle/input/dentistry-image-dataset/valid/labels/0000473_png_jpg.rf.dd9e9065fb38cd5c6772c3c660bc6dbe.txt\n",
      "/kaggle/input/dentistry-image-dataset/valid/labels/0000541_png_jpg.rf.366e37d52ac6a900e3e9b3a90605cb38.txt\n",
      "/kaggle/input/dentistry-image-dataset/valid/labels/0000373_png_jpg.rf.e060ed0900d85a7a737bf04ce1d8fd1c.txt\n",
      "/kaggle/input/dentistry-image-dataset/valid/labels/0000649_png_jpg.rf.0c5d3a9cc342160c63383578b71f4cf3.txt\n",
      "/kaggle/input/dentistry-image-dataset/valid/labels/0000589_png_jpg.rf.99dab42ce6e48dbdeb9aeda16982aa91.txt\n",
      "/kaggle/input/dentistry-image-dataset/valid/labels/0000323_png_jpg.rf.bb0cbba86f3d996d1e33188950166a31.txt\n",
      "/kaggle/input/dentistry-image-dataset/valid/labels/0000614_png_jpg.rf.baf0b344b77a8221fd37ae50e4d78d13.txt\n",
      "/kaggle/input/dentistry-image-dataset/valid/labels/0000255_png_jpg.rf.5cb8de32c73f890f42c945a637591ed3.txt\n",
      "/kaggle/input/dentistry-image-dataset/valid/labels/0000690_png_jpg.rf.239e656635bbc29d4ec12c8cf6a2998e.txt\n",
      "/kaggle/input/dentistry-image-dataset/valid/labels/0000521_png_jpg.rf.7c63bac2ddeaf3d82bcb1255f9efa50b.txt\n",
      "/kaggle/input/dentistry-image-dataset/valid/labels/0000245_png_jpg.rf.f3218473aaa23a2f1e2835540d1202be.txt\n",
      "/kaggle/input/dentistry-image-dataset/valid/labels/0000598_png_jpg.rf.b94597c432237ef13bc6c548aaeaa82f.txt\n",
      "/kaggle/input/dentistry-image-dataset/valid/labels/0000275_png_jpg.rf.b1f4cd7a4974409ce677aa4e1e00139c.txt\n",
      "/kaggle/input/dentistry-image-dataset/valid/labels/0000437_png_jpg.rf.2fcd812a4ad5ff9b490160d8f73cebdd.txt\n",
      "/kaggle/input/dentistry-image-dataset/valid/labels/0000635_png_jpg.rf.207b1af824094e01d532a7bafbaf78c2.txt\n",
      "/kaggle/input/dentistry-image-dataset/valid/labels/0000187_png_jpg.rf.ac05ab919f41233b3ccdf384eeeffd90.txt\n",
      "/kaggle/input/dentistry-image-dataset/valid/labels/0000271_png_jpg.rf.02cdaf5e83a1840e2f6e3d1ffbd21ec8.txt\n",
      "/kaggle/input/dentistry-image-dataset/valid/labels/0000257_png_jpg.rf.a95fcbc53711373f9ba394e5f0cfa1dc.txt\n",
      "/kaggle/input/dentistry-image-dataset/valid/labels/0000621_png_jpg.rf.69d57bef6218046cae3dce9f8275a8bd.txt\n",
      "/kaggle/input/dentistry-image-dataset/valid/labels/0000190_png_jpg.rf.541756551d3770507345072cb336e737.txt\n",
      "/kaggle/input/dentistry-image-dataset/valid/labels/0000284_png_jpg.rf.490509cd1f8449df0c12e47e80703fcf.txt\n",
      "/kaggle/input/dentistry-image-dataset/valid/labels/0000606_png_jpg.rf.995ff98c3235e60689569fa5a0eaddd8.txt\n",
      "/kaggle/input/dentistry-image-dataset/valid/labels/0000401_png_jpg.rf.f06e75fe14153460e3d2638036544cd7.txt\n",
      "/kaggle/input/dentistry-image-dataset/valid/labels/0000689_png_jpg.rf.80af31f6fc89b647a9b34b6699f4d50e.txt\n",
      "/kaggle/input/dentistry-image-dataset/valid/labels/0000138_png_jpg.rf.80c20ecd3226f6968f3aa498da004b2e.txt\n",
      "/kaggle/input/dentistry-image-dataset/valid/labels/0000233_png_jpg.rf.8474a24be5d5a29fd8d26b6c882e3387.txt\n",
      "/kaggle/input/dentistry-image-dataset/valid/labels/0000203_png_jpg.rf.4370901368f2a383750a9aba87a54f5b.txt\n",
      "/kaggle/input/dentistry-image-dataset/valid/labels/0000405_png_jpg.rf.f3907c76d582717047f27b2e66f30785.txt\n",
      "/kaggle/input/dentistry-image-dataset/valid/labels/0000129_png_jpg.rf.aa32b1c1a534059f25204cdd3abfa504.txt\n",
      "/kaggle/input/dentistry-image-dataset/valid/labels/0000020_png_jpg.rf.4f8234d7b7d88084536f13f0feca8ee8.txt\n",
      "/kaggle/input/dentistry-image-dataset/valid/labels/0000247_png_jpg.rf.d322dcd17375a5a0d0caefdf98ed7587.txt\n",
      "/kaggle/input/dentistry-image-dataset/valid/labels/0000694_png_jpg.rf.1b207e3f70c38d5c56830067140ed9fe.txt\n",
      "/kaggle/input/dentistry-image-dataset/valid/labels/0000495_png_jpg.rf.62cb83ea30add681566638f65ab2d7ca.txt\n",
      "/kaggle/input/dentistry-image-dataset/valid/labels/0000161_png_jpg.rf.ce51e0e3d7158685a04d453e6c8b4112.txt\n",
      "/kaggle/input/dentistry-image-dataset/valid/labels/0000044_png_jpg.rf.228846fa6b7dd889e9b314f59d816921.txt\n",
      "/kaggle/input/dentistry-image-dataset/valid/labels/0000442_png_jpg.rf.4ff730ad6fb59753acbff5e1efe03b70.txt\n",
      "/kaggle/input/dentistry-image-dataset/valid/labels/0000573_png_jpg.rf.401f5cbe79bce9cd8fb89ba53d059c09.txt\n",
      "/kaggle/input/dentistry-image-dataset/valid/labels/0000223_png_jpg.rf.961e9e1120648067a904e61e764f9b07.txt\n",
      "/kaggle/input/dentistry-image-dataset/valid/labels/0000226_png_jpg.rf.9cb6789bfd51bdc9ddfc1284a095d52d.txt\n",
      "/kaggle/input/dentistry-image-dataset/valid/labels/0000444_png_jpg.rf.caeccc0082d588b187623c1967e820a6.txt\n",
      "/kaggle/input/dentistry-image-dataset/valid/labels/0000127_png_jpg.rf.b28f9a65fd06ec0c2ce0c66d475f1c54.txt\n",
      "/kaggle/input/dentistry-image-dataset/valid/labels/0000443_png_jpg.rf.79141478b2a3e96b1ed1f5e491d542e7.txt\n",
      "/kaggle/input/dentistry-image-dataset/valid/labels/0000333_png_jpg.rf.19e012e5f99096fa2ec382e0b1fb7393.txt\n",
      "/kaggle/input/dentistry-image-dataset/valid/labels/0000183_png_jpg.rf.0675ea9590390e44e54bbb00f0b7e29b.txt\n",
      "/kaggle/input/dentistry-image-dataset/valid/labels/0000692_png_jpg.rf.86d92c769f94a311c66374c4f3534aee.txt\n",
      "/kaggle/input/dentistry-image-dataset/valid/labels/0000399_png_jpg.rf.d7ef7b8e4613a6541d3060bcca713b51.txt\n",
      "/kaggle/input/dentistry-image-dataset/valid/labels/0000362_png_jpg.rf.3c41b83c08beb1afcebb6a6c6d935232.txt\n",
      "/kaggle/input/dentistry-image-dataset/valid/labels/0000564_png_jpg.rf.7a0c2db64229b979272ae30fc9891f7f.txt\n",
      "/kaggle/input/dentistry-image-dataset/valid/labels/0000501_png_jpg.rf.63eea0a85541001551111a06c4e74c0c.txt\n",
      "/kaggle/input/dentistry-image-dataset/valid/labels/0000151_png_jpg.rf.0c7792414d42e6291d55db1b7f0ed3f7.txt\n",
      "/kaggle/input/dentistry-image-dataset/valid/labels/0000030_png_jpg.rf.31f3365b21b3a2fa618cb17af9416524.txt\n",
      "/kaggle/input/dentistry-image-dataset/valid/labels/0000452_png_jpg.rf.255d9c6639613c284e9fe369e0d93d36.txt\n",
      "/kaggle/input/dentistry-image-dataset/valid/labels/0000569_png_jpg.rf.fecc109704a990be4899f2dc9a8c0c71.txt\n",
      "/kaggle/input/dentistry-image-dataset/valid/labels/0000295_png_jpg.rf.a496a8b9adf0c5718e3764b47ad8f3bc.txt\n",
      "/kaggle/input/dentistry-image-dataset/valid/labels/0000097_png_jpg.rf.90bb033ad1ffe45f0b3866188415cdeb.txt\n",
      "/kaggle/input/dentistry-image-dataset/valid/labels/0000426_png_jpg.rf.40d108098166d592522a6af43c8f5fa3.txt\n",
      "/kaggle/input/dentistry-image-dataset/valid/labels/0000601_png_jpg.rf.bd07bbcac42f6f0ec2a9faeb88586d7b.txt\n",
      "/kaggle/input/dentistry-image-dataset/valid/labels/0000169_png_jpg.rf.2b60d21b117abc200c677467c83711a2.txt\n",
      "/kaggle/input/dentistry-image-dataset/valid/labels/0000542_png_jpg.rf.51adc5d0b5143113ddf874563cba1554.txt\n",
      "/kaggle/input/dentistry-image-dataset/valid/labels/0000294_png_jpg.rf.c504754ac7f7fd785b3950d54501f384.txt\n",
      "/kaggle/input/dentistry-image-dataset/valid/labels/0000092_png_jpg.rf.0bc18a07fa94201bb79397aa74810fd0.txt\n",
      "/kaggle/input/dentistry-image-dataset/valid/labels/0000346_png_jpg.rf.06b893e5dc76b5a4f8950dfb631c168b.txt\n",
      "/kaggle/input/dentistry-image-dataset/valid/labels/0000328_png_jpg.rf.0affa197f8c53f2d44122404054da30a.txt\n",
      "/kaggle/input/dentistry-image-dataset/valid/labels/0000132_png_jpg.rf.720151b70098531d8c098b39c6ccbed4.txt\n",
      "/kaggle/input/dentistry-image-dataset/valid/labels/0000322_png_jpg.rf.743bcce987f720075b62c35016d7afc2.txt\n",
      "/kaggle/input/dentistry-image-dataset/valid/labels/0000343_png_jpg.rf.2b31d32a60faa04266fb607f9833de4c.txt\n",
      "/kaggle/input/dentistry-image-dataset/valid/labels/0000480_png_jpg.rf.cc4139a0f37717f04121a3cadf11389c.txt\n",
      "/kaggle/input/dentistry-image-dataset/valid/labels/0000283_png_jpg.rf.f37e7afdd0ffd646dfef3464294a7109.txt\n",
      "/kaggle/input/dentistry-image-dataset/valid/labels/0000595_png_jpg.rf.d75a61638ce58df1fd91efae42ac17a5.txt\n",
      "/kaggle/input/dentistry-image-dataset/valid/labels/0000431_png_jpg.rf.c3e1efc95543f3bf0aab0167455fee77.txt\n",
      "/kaggle/input/dentistry-image-dataset/valid/labels/0000248_png_jpg.rf.ef838c07bc6194fa54602e1b063fa06d.txt\n",
      "/kaggle/input/dentistry-image-dataset/valid/labels/0000167_png_jpg.rf.50746a0ec91e5448ac76a7de344b16d9.txt\n",
      "/kaggle/input/dentistry-image-dataset/valid/labels/0000133_png_jpg.rf.79e471f2ee885b0961914765bc35df6b.txt\n",
      "/kaggle/input/dentistry-image-dataset/valid/labels/0000100_png_jpg.rf.e66a2a212efa70eb1ed37e3658848ca7.txt\n",
      "/kaggle/input/dentistry-image-dataset/valid/labels/0000164_png_jpg.rf.f54ef350f6bf8be670d44ff0beb9d2ef.txt\n",
      "/kaggle/input/dentistry-image-dataset/valid/labels/0000320_png_jpg.rf.b29990f2441f41987423d6db63098c67.txt\n",
      "/kaggle/input/dentistry-image-dataset/valid/labels/0000624_png_jpg.rf.c3bb4c3662c320b0ce5fe2b09752f212.txt\n",
      "/kaggle/input/dentistry-image-dataset/valid/labels/0000372_png_jpg.rf.c4836827a9362b39e3a3f66357a7a666.txt\n",
      "/kaggle/input/dentistry-image-dataset/valid/labels/0000688_png_jpg.rf.e7cf9606676d7ae079d077b378ff97b6.txt\n",
      "/kaggle/input/dentistry-image-dataset/valid/labels/0000005_png_jpg.rf.27d5911503f69d2a54f96a156e3094d6.txt\n",
      "/kaggle/input/dentistry-image-dataset/valid/labels/0000512_png_jpg.rf.fad2cd20baa865535cca5d2cbf95464f.txt\n",
      "/kaggle/input/dentistry-image-dataset/valid/labels/0000158_png_jpg.rf.a874ed1135c4448b920026a1a6954fb2.txt\n",
      "/kaggle/input/dentistry-image-dataset/valid/labels/0000653_png_jpg.rf.2a2a081513ad740c1c6ecd24f0551add.txt\n",
      "/kaggle/input/dentistry-image-dataset/valid/labels/0000153_png_jpg.rf.268bbe84225594068216e11ce6f738e0.txt\n",
      "/kaggle/input/dentistry-image-dataset/valid/labels/0000611_png_jpg.rf.fd5c8fbe596fcea4c4ca700ec3d3f4d9.txt\n",
      "/kaggle/input/dentistry-image-dataset/valid/labels/0000540_png_jpg.rf.79e29f097575e4f34d23d0640c05e1f5.txt\n",
      "/kaggle/input/dentistry-image-dataset/valid/labels/0000450_png_jpg.rf.643a98227659399849cf08537cbc89b5.txt\n",
      "/kaggle/input/dentistry-image-dataset/valid/labels/0000212_png_jpg.rf.5128f32b0ebdc4423d3df04a267ac591.txt\n",
      "/kaggle/input/dentistry-image-dataset/valid/images/0000275_png_jpg.rf.b1f4cd7a4974409ce677aa4e1e00139c.jpg\n",
      "/kaggle/input/dentistry-image-dataset/valid/images/0000346_png_jpg.rf.06b893e5dc76b5a4f8950dfb631c168b.jpg\n",
      "/kaggle/input/dentistry-image-dataset/valid/images/0000248_png_jpg.rf.ef838c07bc6194fa54602e1b063fa06d.jpg\n",
      "/kaggle/input/dentistry-image-dataset/valid/images/0000164_png_jpg.rf.f54ef350f6bf8be670d44ff0beb9d2ef.jpg\n",
      "/kaggle/input/dentistry-image-dataset/valid/images/0000426_png_jpg.rf.40d108098166d592522a6af43c8f5fa3.jpg\n",
      "/kaggle/input/dentistry-image-dataset/valid/images/0000144_png_jpg.rf.aaaeadd7e8a15e69d1ee522095e12a07.jpg\n",
      "/kaggle/input/dentistry-image-dataset/valid/images/0000161_png_jpg.rf.ce51e0e3d7158685a04d453e6c8b4112.jpg\n",
      "/kaggle/input/dentistry-image-dataset/valid/images/0000271_png_jpg.rf.02cdaf5e83a1840e2f6e3d1ffbd21ec8.jpg\n",
      "/kaggle/input/dentistry-image-dataset/valid/images/0000127_png_jpg.rf.b28f9a65fd06ec0c2ce0c66d475f1c54.jpg\n",
      "/kaggle/input/dentistry-image-dataset/valid/images/0000187_png_jpg.rf.ac05ab919f41233b3ccdf384eeeffd90.jpg\n",
      "/kaggle/input/dentistry-image-dataset/valid/images/0000097_png_jpg.rf.90bb033ad1ffe45f0b3866188415cdeb.jpg\n",
      "/kaggle/input/dentistry-image-dataset/valid/images/0000333_png_jpg.rf.19e012e5f99096fa2ec382e0b1fb7393.jpg\n",
      "/kaggle/input/dentistry-image-dataset/valid/images/0000082_png_jpg.rf.6e82d43e3676954d88d033c16f3fbe54.jpg\n",
      "/kaggle/input/dentistry-image-dataset/valid/images/0000437_png_jpg.rf.2fcd812a4ad5ff9b490160d8f73cebdd.jpg\n",
      "/kaggle/input/dentistry-image-dataset/valid/images/0000445_png_jpg.rf.3bdafafe0bcbd61d52c2aa1a32b8f264.jpg\n",
      "/kaggle/input/dentistry-image-dataset/valid/images/0000512_png_jpg.rf.fad2cd20baa865535cca5d2cbf95464f.jpg\n",
      "/kaggle/input/dentistry-image-dataset/valid/images/0000432_png_jpg.rf.cfcd9a54351730750eda44d5f8dd44ea.jpg\n",
      "/kaggle/input/dentistry-image-dataset/valid/images/0000624_png_jpg.rf.c3bb4c3662c320b0ce5fe2b09752f212.jpg\n",
      "/kaggle/input/dentistry-image-dataset/valid/images/0000444_png_jpg.rf.caeccc0082d588b187623c1967e820a6.jpg\n",
      "/kaggle/input/dentistry-image-dataset/valid/images/0000586_png_jpg.rf.570b42de02cdd6314ace8eaa6274dc35.jpg\n",
      "/kaggle/input/dentistry-image-dataset/valid/images/0000011_png_jpg.rf.2ade3169518f1bce12c0a976cf93a8c9.jpg\n",
      "/kaggle/input/dentistry-image-dataset/valid/images/0000618_png_jpg.rf.3482799c6b59da6bb4cfb6cbdac532b7.jpg\n",
      "/kaggle/input/dentistry-image-dataset/valid/images/0000294_png_jpg.rf.c504754ac7f7fd785b3950d54501f384.jpg\n",
      "/kaggle/input/dentistry-image-dataset/valid/images/0000621_png_jpg.rf.69d57bef6218046cae3dce9f8275a8bd.jpg\n",
      "/kaggle/input/dentistry-image-dataset/valid/images/0000694_png_jpg.rf.1b207e3f70c38d5c56830067140ed9fe.jpg\n",
      "/kaggle/input/dentistry-image-dataset/valid/images/0000443_png_jpg.rf.79141478b2a3e96b1ed1f5e491d542e7.jpg\n",
      "/kaggle/input/dentistry-image-dataset/valid/images/0000005_png_jpg.rf.27d5911503f69d2a54f96a156e3094d6.jpg\n",
      "/kaggle/input/dentistry-image-dataset/valid/images/0000473_png_jpg.rf.dd9e9065fb38cd5c6772c3c660bc6dbe.jpg\n",
      "/kaggle/input/dentistry-image-dataset/valid/images/0000167_png_jpg.rf.50746a0ec91e5448ac76a7de344b16d9.jpg\n",
      "/kaggle/input/dentistry-image-dataset/valid/images/0000598_png_jpg.rf.b94597c432237ef13bc6c548aaeaa82f.jpg\n",
      "/kaggle/input/dentistry-image-dataset/valid/images/0000601_png_jpg.rf.bd07bbcac42f6f0ec2a9faeb88586d7b.jpg\n",
      "/kaggle/input/dentistry-image-dataset/valid/images/0000606_png_jpg.rf.995ff98c3235e60689569fa5a0eaddd8.jpg\n",
      "/kaggle/input/dentistry-image-dataset/valid/images/0000564_png_jpg.rf.7a0c2db64229b979272ae30fc9891f7f.jpg\n",
      "/kaggle/input/dentistry-image-dataset/valid/images/0000283_png_jpg.rf.f37e7afdd0ffd646dfef3464294a7109.jpg\n",
      "/kaggle/input/dentistry-image-dataset/valid/images/0000138_png_jpg.rf.80c20ecd3226f6968f3aa498da004b2e.jpg\n",
      "/kaggle/input/dentistry-image-dataset/valid/images/0000328_png_jpg.rf.0affa197f8c53f2d44122404054da30a.jpg\n",
      "/kaggle/input/dentistry-image-dataset/valid/images/0000314_png_jpg.rf.ee09a69c46a0cb26155e0e3921304145.jpg\n",
      "/kaggle/input/dentistry-image-dataset/valid/images/0000610_png_jpg.rf.3ac99525aec783c716df875db8495684.jpg\n",
      "/kaggle/input/dentistry-image-dataset/valid/images/0000323_png_jpg.rf.bb0cbba86f3d996d1e33188950166a31.jpg\n",
      "/kaggle/input/dentistry-image-dataset/valid/images/0000541_png_jpg.rf.366e37d52ac6a900e3e9b3a90605cb38.jpg\n",
      "/kaggle/input/dentistry-image-dataset/valid/images/0000373_png_jpg.rf.e060ed0900d85a7a737bf04ce1d8fd1c.jpg\n",
      "/kaggle/input/dentistry-image-dataset/valid/images/0000044_png_jpg.rf.228846fa6b7dd889e9b314f59d816921.jpg\n",
      "/kaggle/input/dentistry-image-dataset/valid/images/0000494_png_jpg.rf.488250bdb6da9e7da1a2d1cc093e15d4.jpg\n",
      "/kaggle/input/dentistry-image-dataset/valid/images/0000255_png_jpg.rf.5cb8de32c73f890f42c945a637591ed3.jpg\n",
      "/kaggle/input/dentistry-image-dataset/valid/images/0000653_png_jpg.rf.2a2a081513ad740c1c6ecd24f0551add.jpg\n",
      "/kaggle/input/dentistry-image-dataset/valid/images/0000132_png_jpg.rf.720151b70098531d8c098b39c6ccbed4.jpg\n",
      "/kaggle/input/dentistry-image-dataset/valid/images/0000688_png_jpg.rf.e7cf9606676d7ae079d077b378ff97b6.jpg\n",
      "/kaggle/input/dentistry-image-dataset/valid/images/0000692_png_jpg.rf.86d92c769f94a311c66374c4f3534aee.jpg\n",
      "/kaggle/input/dentistry-image-dataset/valid/images/0000690_png_jpg.rf.239e656635bbc29d4ec12c8cf6a2998e.jpg\n",
      "/kaggle/input/dentistry-image-dataset/valid/images/0000573_png_jpg.rf.401f5cbe79bce9cd8fb89ba53d059c09.jpg\n",
      "/kaggle/input/dentistry-image-dataset/valid/images/0000245_png_jpg.rf.f3218473aaa23a2f1e2835540d1202be.jpg\n",
      "/kaggle/input/dentistry-image-dataset/valid/images/0000030_png_jpg.rf.31f3365b21b3a2fa618cb17af9416524.jpg\n",
      "/kaggle/input/dentistry-image-dataset/valid/images/0000308_png_jpg.rf.88b0bc35ce301d0fe4854cce1d734a8e.jpg\n",
      "/kaggle/input/dentistry-image-dataset/valid/images/0000115_png_jpg.rf.ba5d946f0e50d1aeda7aae917c788f99.jpg\n",
      "/kaggle/input/dentistry-image-dataset/valid/images/0000092_png_jpg.rf.0bc18a07fa94201bb79397aa74810fd0.jpg\n",
      "/kaggle/input/dentistry-image-dataset/valid/images/0000401_png_jpg.rf.f06e75fe14153460e3d2638036544cd7.jpg\n",
      "/kaggle/input/dentistry-image-dataset/valid/images/0000430_png_jpg.rf.590d1a98504ebceb6197dd27a7bca808.jpg\n",
      "/kaggle/input/dentistry-image-dataset/valid/images/0000405_png_jpg.rf.f3907c76d582717047f27b2e66f30785.jpg\n",
      "/kaggle/input/dentistry-image-dataset/valid/images/0000585_png_jpg.rf.a4359a8475a4702499260d3ba6288e1d.jpg\n",
      "/kaggle/input/dentistry-image-dataset/valid/images/0000233_png_jpg.rf.8474a24be5d5a29fd8d26b6c882e3387.jpg\n",
      "/kaggle/input/dentistry-image-dataset/valid/images/0000480_png_jpg.rf.cc4139a0f37717f04121a3cadf11389c.jpg\n",
      "/kaggle/input/dentistry-image-dataset/valid/images/0000295_png_jpg.rf.a496a8b9adf0c5718e3764b47ad8f3bc.jpg\n",
      "/kaggle/input/dentistry-image-dataset/valid/images/0000153_png_jpg.rf.268bbe84225594068216e11ce6f738e0.jpg\n",
      "/kaggle/input/dentistry-image-dataset/valid/images/0000689_png_jpg.rf.80af31f6fc89b647a9b34b6699f4d50e.jpg\n",
      "/kaggle/input/dentistry-image-dataset/valid/images/0000431_png_jpg.rf.c3e1efc95543f3bf0aab0167455fee77.jpg\n",
      "/kaggle/input/dentistry-image-dataset/valid/images/0000595_png_jpg.rf.d75a61638ce58df1fd91efae42ac17a5.jpg\n",
      "/kaggle/input/dentistry-image-dataset/valid/images/0000226_png_jpg.rf.9cb6789bfd51bdc9ddfc1284a095d52d.jpg\n",
      "/kaggle/input/dentistry-image-dataset/valid/images/0000495_png_jpg.rf.62cb83ea30add681566638f65ab2d7ca.jpg\n",
      "/kaggle/input/dentistry-image-dataset/valid/images/0000452_png_jpg.rf.255d9c6639613c284e9fe369e0d93d36.jpg\n",
      "/kaggle/input/dentistry-image-dataset/valid/images/0000223_png_jpg.rf.961e9e1120648067a904e61e764f9b07.jpg\n",
      "/kaggle/input/dentistry-image-dataset/valid/images/0000589_png_jpg.rf.99dab42ce6e48dbdeb9aeda16982aa91.jpg\n",
      "/kaggle/input/dentistry-image-dataset/valid/images/0000284_png_jpg.rf.490509cd1f8449df0c12e47e80703fcf.jpg\n",
      "/kaggle/input/dentistry-image-dataset/valid/images/0000358_png_jpg.rf.2a068aac675532b3649d0009a01e5d0d.jpg\n",
      "/kaggle/input/dentistry-image-dataset/valid/images/0000203_png_jpg.rf.4370901368f2a383750a9aba87a54f5b.jpg\n",
      "/kaggle/input/dentistry-image-dataset/valid/images/0000343_png_jpg.rf.2b31d32a60faa04266fb607f9833de4c.jpg\n",
      "/kaggle/input/dentistry-image-dataset/valid/images/0000151_png_jpg.rf.0c7792414d42e6291d55db1b7f0ed3f7.jpg\n",
      "/kaggle/input/dentistry-image-dataset/valid/images/0000183_png_jpg.rf.0675ea9590390e44e54bbb00f0b7e29b.jpg\n",
      "/kaggle/input/dentistry-image-dataset/valid/images/0000190_png_jpg.rf.541756551d3770507345072cb336e737.jpg\n",
      "/kaggle/input/dentistry-image-dataset/valid/images/0000649_png_jpg.rf.0c5d3a9cc342160c63383578b71f4cf3.jpg\n",
      "/kaggle/input/dentistry-image-dataset/valid/images/0000231_png_jpg.rf.b4455df07a89550468c2ed5332081699.jpg\n",
      "/kaggle/input/dentistry-image-dataset/valid/images/0000673_png_jpg.rf.4d2cd37e554f6083e89fd7a2ac7f3c9e.jpg\n",
      "/kaggle/input/dentistry-image-dataset/valid/images/0000322_png_jpg.rf.743bcce987f720075b62c35016d7afc2.jpg\n",
      "/kaggle/input/dentistry-image-dataset/valid/images/0000448_png_jpg.rf.536741971ac1ad9e1c2e21733d18c8b3.jpg\n",
      "/kaggle/input/dentistry-image-dataset/valid/images/0000320_png_jpg.rf.b29990f2441f41987423d6db63098c67.jpg\n",
      "/kaggle/input/dentistry-image-dataset/valid/images/0000567_png_jpg.rf.222e74190014c39ab72202db1bbc44f8.jpg\n",
      "/kaggle/input/dentistry-image-dataset/valid/images/0000158_png_jpg.rf.a874ed1135c4448b920026a1a6954fb2.jpg\n",
      "/kaggle/input/dentistry-image-dataset/valid/images/0000247_png_jpg.rf.d322dcd17375a5a0d0caefdf98ed7587.jpg\n",
      "/kaggle/input/dentistry-image-dataset/valid/images/0000434_png_jpg.rf.c64e77e3f9ed6b5e83da43d7c9fe0c38.jpg\n",
      "/kaggle/input/dentistry-image-dataset/valid/images/0000257_png_jpg.rf.a95fcbc53711373f9ba394e5f0cfa1dc.jpg\n",
      "/kaggle/input/dentistry-image-dataset/valid/images/0000399_png_jpg.rf.d7ef7b8e4613a6541d3060bcca713b51.jpg\n",
      "/kaggle/input/dentistry-image-dataset/valid/images/0000470_png_jpg.rf.b1cccf5aa03473ab66eeb267780ce7e5.jpg\n",
      "/kaggle/input/dentistry-image-dataset/valid/images/0000635_png_jpg.rf.207b1af824094e01d532a7bafbaf78c2.jpg\n",
      "/kaggle/input/dentistry-image-dataset/valid/images/0000017_png_jpg.rf.1a57a2ec8a90de930bdc47910a29fc8b.jpg\n",
      "/kaggle/input/dentistry-image-dataset/valid/images/0000169_png_jpg.rf.2b60d21b117abc200c677467c83711a2.jpg\n",
      "/kaggle/input/dentistry-image-dataset/valid/images/0000540_png_jpg.rf.79e29f097575e4f34d23d0640c05e1f5.jpg\n",
      "/kaggle/input/dentistry-image-dataset/valid/images/0000129_png_jpg.rf.aa32b1c1a534059f25204cdd3abfa504.jpg\n",
      "/kaggle/input/dentistry-image-dataset/valid/images/0000372_png_jpg.rf.c4836827a9362b39e3a3f66357a7a666.jpg\n",
      "/kaggle/input/dentistry-image-dataset/valid/images/0000521_png_jpg.rf.7c63bac2ddeaf3d82bcb1255f9efa50b.jpg\n",
      "/kaggle/input/dentistry-image-dataset/valid/images/0000569_png_jpg.rf.fecc109704a990be4899f2dc9a8c0c71.jpg\n",
      "/kaggle/input/dentistry-image-dataset/valid/images/0000501_png_jpg.rf.63eea0a85541001551111a06c4e74c0c.jpg\n",
      "/kaggle/input/dentistry-image-dataset/valid/images/0000450_png_jpg.rf.643a98227659399849cf08537cbc89b5.jpg\n",
      "/kaggle/input/dentistry-image-dataset/valid/images/0000212_png_jpg.rf.5128f32b0ebdc4423d3df04a267ac591.jpg\n",
      "/kaggle/input/dentistry-image-dataset/valid/images/0000036_png_jpg.rf.d13ba55d928cd4871619567963b42170.jpg\n",
      "/kaggle/input/dentistry-image-dataset/valid/images/0000133_png_jpg.rf.79e471f2ee885b0961914765bc35df6b.jpg\n",
      "/kaggle/input/dentistry-image-dataset/valid/images/0000442_png_jpg.rf.4ff730ad6fb59753acbff5e1efe03b70.jpg\n",
      "/kaggle/input/dentistry-image-dataset/valid/images/0000611_png_jpg.rf.fd5c8fbe596fcea4c4ca700ec3d3f4d9.jpg\n",
      "/kaggle/input/dentistry-image-dataset/valid/images/0000274_png_jpg.rf.e2bb3ee10f9cba92afdee9437b231e6d.jpg\n",
      "/kaggle/input/dentistry-image-dataset/valid/images/0000542_png_jpg.rf.51adc5d0b5143113ddf874563cba1554.jpg\n",
      "/kaggle/input/dentistry-image-dataset/valid/images/0000100_png_jpg.rf.e66a2a212efa70eb1ed37e3658848ca7.jpg\n",
      "/kaggle/input/dentistry-image-dataset/valid/images/0000614_png_jpg.rf.baf0b344b77a8221fd37ae50e4d78d13.jpg\n",
      "/kaggle/input/dentistry-image-dataset/valid/images/0000674_png_jpg.rf.e2b188f4af8933bdcd227835a4546baa.jpg\n",
      "/kaggle/input/dentistry-image-dataset/valid/images/0000362_png_jpg.rf.3c41b83c08beb1afcebb6a6c6d935232.jpg\n",
      "/kaggle/input/dentistry-image-dataset/valid/images/0000020_png_jpg.rf.4f8234d7b7d88084536f13f0feca8ee8.jpg\n",
      "/kaggle/input/dentistry-image-dataset/train/labels/0000196_png_jpg.rf.0368fab02a6e124bf58c77ded14b0246.txt\n",
      "/kaggle/input/dentistry-image-dataset/train/labels/0000106_png_jpg.rf.43da111636d26810b655529836446634.txt\n",
      "/kaggle/input/dentistry-image-dataset/train/labels/0000069_png_jpg.rf.5d693efd9c358d7a495f1e60fa94c445.txt\n",
      "/kaggle/input/dentistry-image-dataset/train/labels/0000154_png_jpg.rf.190f6af01f8d949c07d759d3df180182.txt\n",
      "/kaggle/input/dentistry-image-dataset/train/labels/0000015_png_jpg.rf.f832cd505622ad8582ac2b1be056a337.txt\n",
      "/kaggle/input/dentistry-image-dataset/train/labels/0000489_png_jpg.rf.87d932176859c279f775806f5a9a7a8c.txt\n",
      "/kaggle/input/dentistry-image-dataset/train/labels/0000446_png_jpg.rf.a84874932c5374338c6e6b8e046167e2.txt\n",
      "/kaggle/input/dentistry-image-dataset/train/labels/0000575_png_jpg.rf.9c4b2b24d00cb2f64f73786988a90d2e.txt\n",
      "/kaggle/input/dentistry-image-dataset/train/labels/0000681_png_jpg.rf.f8092bfa32943d85e04c44191d07a49f.txt\n",
      "/kaggle/input/dentistry-image-dataset/train/labels/0000683_png_jpg.rf.09a088d3143884cc26ac5cacd13d6075.txt\n",
      "/kaggle/input/dentistry-image-dataset/train/labels/0000012_png_jpg.rf.1928d117828bad3cf346a9610297916d.txt\n",
      "/kaggle/input/dentistry-image-dataset/train/labels/0000390_png_jpg.rf.3eb84abd5561437ebc608c1ac3c465ee.txt\n",
      "/kaggle/input/dentistry-image-dataset/train/labels/0000302_png_jpg.rf.ce4b891ae2b4e1c8cf692e9e158ee355.txt\n",
      "/kaggle/input/dentistry-image-dataset/train/labels/0000463_png_jpg.rf.97dd624f16235a4e1aa2422f7f2d93b8.txt\n",
      "/kaggle/input/dentistry-image-dataset/train/labels/0000159_png_jpg.rf.9f344bc581773b08eb09941c9801036d.txt\n",
      "/kaggle/input/dentistry-image-dataset/train/labels/0000039_png_jpg.rf.0e12bdb7fede4d2890906b3218454778.txt\n",
      "/kaggle/input/dentistry-image-dataset/train/labels/0000303_png_jpg.rf.6793f6aa5c3f6386742ccbb0863f5e9f.txt\n",
      "/kaggle/input/dentistry-image-dataset/train/labels/0000407_png_jpg.rf.31a5b713db458e3fcc4fd5af808418bd.txt\n",
      "/kaggle/input/dentistry-image-dataset/train/labels/0000179_png_jpg.rf.45021592c4ccccd7824ea9e164ad1322.txt\n",
      "/kaggle/input/dentistry-image-dataset/train/labels/0000447_png_jpg.rf.645d8818987a6014ff00c234c8e31531.txt\n",
      "/kaggle/input/dentistry-image-dataset/train/labels/0000387_png_jpg.rf.0db4c1282be3df71a79c27e76986ebbe.txt\n",
      "/kaggle/input/dentistry-image-dataset/train/labels/0000066_png_jpg.rf.c419be332effcb88de95355f1417e97d.txt\n",
      "/kaggle/input/dentistry-image-dataset/train/labels/0000192_png_jpg.rf.a4153925df11d1d4f11c123f0fd4af9b.txt\n",
      "/kaggle/input/dentistry-image-dataset/train/labels/0000028_png_jpg.rf.9620b75bcb7981beb4e0a0bb98c792bd.txt\n",
      "/kaggle/input/dentistry-image-dataset/train/labels/0000563_png_jpg.rf.753c5e99f73b2f3a50128edae1df15d6.txt\n",
      "/kaggle/input/dentistry-image-dataset/train/labels/0000341_png_jpg.rf.5ef8c60ac3319032c55cf11a60b98d0d.txt\n",
      "/kaggle/input/dentistry-image-dataset/train/labels/0000136_png_jpg.rf.cca43efc22057a1d31f18f00140515a1.txt\n",
      "/kaggle/input/dentistry-image-dataset/train/labels/0000170_png_jpg.rf.4cc1ccc09e1fca04680486c24fa28e54.txt\n",
      "/kaggle/input/dentistry-image-dataset/train/labels/0000518_png_jpg.rf.461f3b948189b796a13f0ff76dbfe269.txt\n",
      "/kaggle/input/dentistry-image-dataset/train/labels/0000655_png_jpg.rf.d918d7a58e416c248b131eaf82b96ceb.txt\n",
      "/kaggle/input/dentistry-image-dataset/train/labels/0000291_png_jpg.rf.35ce866db4607fe58013d6bce75f8c93.txt\n",
      "/kaggle/input/dentistry-image-dataset/train/labels/0000189_png_jpg.rf.35b0856b20e7d5b789306e1dedb7f6d9.txt\n",
      "/kaggle/input/dentistry-image-dataset/train/labels/0000206_png_jpg.rf.f529ce5bd290374c3414325536fa8190.txt\n",
      "/kaggle/input/dentistry-image-dataset/train/labels/0000418_png_jpg.rf.3c39f5023c67fdf4fed0982dc3a8a9db.txt\n",
      "/kaggle/input/dentistry-image-dataset/train/labels/0000458_png_jpg.rf.410ef44c384abc42a37c1efbc9e4d111.txt\n",
      "/kaggle/input/dentistry-image-dataset/train/labels/0000391_png_jpg.rf.b7b1766dcf4878e81001399ac9829b7d.txt\n",
      "/kaggle/input/dentistry-image-dataset/train/labels/0000038_png_jpg.rf.595d696cfb3f3cef9d93819c63279db9.txt\n",
      "/kaggle/input/dentistry-image-dataset/train/labels/0000037_png_jpg.rf.6312fb4a6ff7a7833bc884bab554b8b0.txt\n",
      "/kaggle/input/dentistry-image-dataset/train/labels/0000384_png_jpg.rf.3807e3d7b6a7d56c2f065f5047970cba.txt\n",
      "/kaggle/input/dentistry-image-dataset/train/labels/0000186_png_jpg.rf.6d64152467a33ee476a11a3424387f5d.txt\n",
      "/kaggle/input/dentistry-image-dataset/train/labels/0000429_png_jpg.rf.a24398b210ac3fc218eb3520cfb97d0f.txt\n",
      "/kaggle/input/dentistry-image-dataset/train/labels/0000173_png_jpg.rf.76f84d69deca33689b7bbfb3ae083769.txt\n",
      "/kaggle/input/dentistry-image-dataset/train/labels/0000535_png_jpg.rf.e2c5829e13d0c7ee98c62d628838b1f2.txt\n",
      "/kaggle/input/dentistry-image-dataset/train/labels/0000451_png_jpg.rf.911321aab45fc0cccbea68fddc0d7fba.txt\n",
      "/kaggle/input/dentistry-image-dataset/train/labels/0000356_png_jpg.rf.ed57af4d9b64f217a9d2280f98ac04d6.txt\n",
      "/kaggle/input/dentistry-image-dataset/train/labels/0000600_png_jpg.rf.405f4ed3601f0abcb524e70da7b55459.txt\n",
      "/kaggle/input/dentistry-image-dataset/train/labels/0000009_png_jpg.rf.9b26ea06cab36deecc7126682c95c311.txt\n",
      "/kaggle/input/dentistry-image-dataset/train/labels/0000214_png_jpg.rf.2b1f104b93248ab745f38537ee6d08ce.txt\n",
      "/kaggle/input/dentistry-image-dataset/train/labels/0000412_png_jpg.rf.5e16373ad43b4aefcc0d222d2d438d48.txt\n",
      "/kaggle/input/dentistry-image-dataset/train/labels/0000347_png_jpg.rf.0755925ef09b159e4b535db43662bf9e.txt\n",
      "/kaggle/input/dentistry-image-dataset/train/labels/0000396_png_jpg.rf.2653b6f34013e2c981bd1b79209727dc.txt\n",
      "/kaggle/input/dentistry-image-dataset/train/labels/0000436_png_jpg.rf.0f78772eda4ffcda7856023ea9e4a798.txt\n",
      "/kaggle/input/dentistry-image-dataset/train/labels/0000263_png_jpg.rf.53ede195924f61955fce95baaa89fde6.txt\n",
      "/kaggle/input/dentistry-image-dataset/train/labels/0000309_png_jpg.rf.e391453f7b03ab0afa3e513c9ae60b88.txt\n",
      "/kaggle/input/dentistry-image-dataset/train/labels/0000672_png_jpg.rf.8fb8c1f4bf628c59c022f4ec5394eba8.txt\n",
      "/kaggle/input/dentistry-image-dataset/train/labels/0000365_png_jpg.rf.4f3194607fb98fbc77c4bce54ea8bc1a.txt\n",
      "/kaggle/input/dentistry-image-dataset/train/labels/0000371_png_jpg.rf.ce6f6f47a7fe31748c35858fd9c26c96.txt\n",
      "/kaggle/input/dentistry-image-dataset/train/labels/0000032_png_jpg.rf.0ca1c81b6d4894bf6d6bd4b4eb69f719.txt\n",
      "/kaggle/input/dentistry-image-dataset/train/labels/0000457_png_jpg.rf.a7afbe9a95d21dfd837c8772838a03e7.txt\n",
      "/kaggle/input/dentistry-image-dataset/train/labels/0000172_png_jpg.rf.986a9c09b47d4e4a04f77614cb643cc3.txt\n",
      "/kaggle/input/dentistry-image-dataset/train/labels/0000612_png_jpg.rf.ab69193e91af008a91e301292b0eef8e.txt\n",
      "/kaggle/input/dentistry-image-dataset/train/labels/0000232_png_jpg.rf.1b04aefb77b192555f0544a30ed60385.txt\n",
      "/kaggle/input/dentistry-image-dataset/train/labels/0000002_png_jpg.rf.3710c7effccf15e5c4c6596d8acdf1ea.txt\n",
      "/kaggle/input/dentistry-image-dataset/train/labels/0000109_png_jpg.rf.17493e01f30c146c3842b5637a013315.txt\n",
      "/kaggle/input/dentistry-image-dataset/train/labels/0000301_png_jpg.rf.6b55d4c739d4a5f14fb5ec354a89c5a2.txt\n",
      "/kaggle/input/dentistry-image-dataset/train/labels/0000094_png_jpg.rf.ce39951eee64ac5a9a1173e28526849e.txt\n",
      "/kaggle/input/dentistry-image-dataset/train/labels/0000413_png_jpg.rf.0791c73a78f6172477ff3791a6bb5149.txt\n",
      "/kaggle/input/dentistry-image-dataset/train/labels/0000104_png_jpg.rf.872cd1c03b216162516fb751ddb49ca4.txt\n",
      "/kaggle/input/dentistry-image-dataset/train/labels/0000249_png_jpg.rf.28723ed4bf6d8138e4f797672d3eb1fe.txt\n",
      "/kaggle/input/dentistry-image-dataset/train/labels/0000696_png_jpg.rf.b1ed71c4a6f8719f6e377eb77cce5b7c.txt\n",
      "/kaggle/input/dentistry-image-dataset/train/labels/0000122_png_jpg.rf.e765ded1b0c387011329f1e6153b176f.txt\n",
      "/kaggle/input/dentistry-image-dataset/train/labels/0000278_png_jpg.rf.3f813c904a95aecb0abc0e9640b208b2.txt\n",
      "/kaggle/input/dentistry-image-dataset/train/labels/0000149_png_jpg.rf.0ac475b92f2f1835955af39ccd7c8bec.txt\n",
      "/kaggle/input/dentistry-image-dataset/train/labels/0000123_png_jpg.rf.cabe5c71d48d980822ae53e6d2d2c41c.txt\n",
      "/kaggle/input/dentistry-image-dataset/train/labels/0000339_png_jpg.rf.8e7eed6232123ef881541541bb8ec058.txt\n",
      "/kaggle/input/dentistry-image-dataset/train/labels/0000252_png_jpg.rf.a6863879d1a9899fb8348691f35a3a33.txt\n",
      "/kaggle/input/dentistry-image-dataset/train/labels/0000609_png_jpg.rf.21e89c781ab4ef891ed2ca30a08c380b.txt\n",
      "/kaggle/input/dentistry-image-dataset/train/labels/0000222_png_jpg.rf.fc1dd2c147574e0a3050f5e3d12acb36.txt\n",
      "/kaggle/input/dentistry-image-dataset/train/labels/0000238_png_jpg.rf.df920b71c433b7d47206e95850c5c0cc.txt\n",
      "/kaggle/input/dentistry-image-dataset/train/labels/0000003_png_jpg.rf.f1c39d147b81b221a608f2234bd832c3.txt\n",
      "/kaggle/input/dentistry-image-dataset/train/labels/0000045_png_jpg.rf.9a754b404f6f57b8beeb3a77e1ac6f98.txt\n",
      "/kaggle/input/dentistry-image-dataset/train/labels/0000394_png_jpg.rf.c89614430dd4f3577403dfd609e9fd59.txt\n",
      "/kaggle/input/dentistry-image-dataset/train/labels/0000298_png_jpg.rf.8792d81dd4273fe10670c00dc83545d9.txt\n",
      "/kaggle/input/dentistry-image-dataset/train/labels/0000083_png_jpg.rf.8554471556c89a8cdf25e899f66d34b3.txt\n",
      "/kaggle/input/dentistry-image-dataset/train/labels/0000071_png_jpg.rf.89e984ebb2d0f90a088c2e4bf43c22dc.txt\n",
      "/kaggle/input/dentistry-image-dataset/train/labels/0000684_png_jpg.rf.6a3af251a5cfceef7ae650523f256b3d.txt\n",
      "/kaggle/input/dentistry-image-dataset/train/labels/0000665_png_jpg.rf.63660ba0cde7082a5129e2008941ccf2.txt\n",
      "/kaggle/input/dentistry-image-dataset/train/labels/0000406_png_jpg.rf.c3c9330cc2f9a6282bfc46035f5af7b2.txt\n",
      "/kaggle/input/dentistry-image-dataset/train/labels/0000259_png_jpg.rf.423d4c2abe9113081d4bbe8c2845bfad.txt\n",
      "/kaggle/input/dentistry-image-dataset/train/labels/0000459_png_jpg.rf.fd89e09831463e80705ad05c000fcb90.txt\n",
      "/kaggle/input/dentistry-image-dataset/train/labels/0000157_png_jpg.rf.2dad0d9fef948bb160fc0c00c438fc3d.txt\n",
      "/kaggle/input/dentistry-image-dataset/train/labels/0000031_png_jpg.rf.19fa364a2ee88f39a406cddc84f3631c.txt\n",
      "/kaggle/input/dentistry-image-dataset/train/labels/0000050_png_jpg.rf.07ec374ca1099594a00eefdc1b300c26.txt\n",
      "/kaggle/input/dentistry-image-dataset/train/labels/0000224_png_jpg.rf.8810ba29a9840045f5450206b6d237a5.txt\n",
      "/kaggle/input/dentistry-image-dataset/train/labels/0000182_png_jpg.rf.bcdc0a1fc5fa2786ee652fd665f5a473.txt\n",
      "/kaggle/input/dentistry-image-dataset/train/labels/0000685_png_jpg.rf.40eb50ae235ee64c0d8f3893fa3cee0e.txt\n",
      "/kaggle/input/dentistry-image-dataset/train/labels/0000204_png_jpg.rf.8d6dc3e07539b8858f851c1e37a34e86.txt\n",
      "/kaggle/input/dentistry-image-dataset/train/labels/0000010_png_jpg.rf.6a5843295faf9323a21fc5ddc231ea7e.txt\n",
      "/kaggle/input/dentistry-image-dataset/train/labels/0000217_png_jpg.rf.6863a4368c37fa2013e604321d0585d7.txt\n",
      "/kaggle/input/dentistry-image-dataset/train/labels/0000077_png_jpg.rf.bb354a6f757eac3b90f645bd8056baa4.txt\n",
      "/kaggle/input/dentistry-image-dataset/train/labels/0000353_png_jpg.rf.6213dedfd344210da72aef758e502373.txt\n",
      "/kaggle/input/dentistry-image-dataset/train/labels/0000335_png_jpg.rf.8f79b72cc531855def2f7ddc4fa1fedb.txt\n",
      "/kaggle/input/dentistry-image-dataset/train/labels/0000615_png_jpg.rf.09a21c3689c152fac1099d5fa0a30300.txt\n",
      "/kaggle/input/dentistry-image-dataset/train/labels/0000312_png_jpg.rf.3a1951438d21e5b48549d47c47b18c94.txt\n",
      "/kaggle/input/dentistry-image-dataset/train/labels/0000086_png_jpg.rf.846a6c764459a8a951b708eaf989aa9d.txt\n",
      "/kaggle/input/dentistry-image-dataset/train/labels/0000675_png_jpg.rf.87a70a5a8fde46ebd42ed594b2578d71.txt\n",
      "/kaggle/input/dentistry-image-dataset/train/labels/0000636_png_jpg.rf.24199eb4b1739d1779b360c64c2d66a9.txt\n",
      "/kaggle/input/dentistry-image-dataset/train/labels/0000580_png_jpg.rf.7dc2c3926fbba2073f240cb6828d5a02.txt\n",
      "/kaggle/input/dentistry-image-dataset/train/labels/0000637_png_jpg.rf.becae02313908b1efd4db889b0f484e4.txt\n",
      "/kaggle/input/dentistry-image-dataset/train/labels/0000642_png_jpg.rf.5fe9f4e66d5c413b979522000c41e200.txt\n",
      "/kaggle/input/dentistry-image-dataset/train/labels/0000456_png_jpg.rf.5eefe41e1a37fd4f977fb805ebb3b6c1.txt\n",
      "/kaggle/input/dentistry-image-dataset/train/labels/0000367_png_jpg.rf.bb58d320ad88bcdc5e765fedf2a86fdd.txt\n",
      "/kaggle/input/dentistry-image-dataset/train/labels/0000656_png_jpg.rf.d7112519fc1d275784c5c0ad48fca98d.txt\n",
      "/kaggle/input/dentistry-image-dataset/train/labels/0000150_png_jpg.rf.b2e348b9ffe0bd67ad7e1bcabaff77cc.txt\n",
      "/kaggle/input/dentistry-image-dataset/train/labels/0000180_png_jpg.rf.60013c021e310ff18c2c4626f47848c6.txt\n",
      "/kaggle/input/dentistry-image-dataset/train/labels/0000398_png_jpg.rf.3d3907eb18bfbd226b3f08fba3051aba.txt\n",
      "/kaggle/input/dentistry-image-dataset/train/labels/0000640_png_jpg.rf.3eb37b5b7cccce32248ee3830beebd81.txt\n",
      "/kaggle/input/dentistry-image-dataset/train/labels/0000054_png_jpg.rf.a5a860d350ac724fdbf5556cd327a5f7.txt\n",
      "/kaggle/input/dentistry-image-dataset/train/labels/0000053_png_jpg.rf.51f70ee778adcc1fea5e29bfe3bf1ea1.txt\n",
      "/kaggle/input/dentistry-image-dataset/train/labels/0000526_png_jpg.rf.a4230ce713435773a4a1f803bfd432e7.txt\n",
      "/kaggle/input/dentistry-image-dataset/train/labels/0000648_png_jpg.rf.b1da83241bee91a805e344dfafbd049a.txt\n",
      "/kaggle/input/dentistry-image-dataset/train/labels/0000221_png_jpg.rf.1b56df661ead9a0693fabf9a4dba3974.txt\n",
      "/kaggle/input/dentistry-image-dataset/train/labels/0000550_png_jpg.rf.af96502b0033fea9ec75b4a31be14ba4.txt\n",
      "/kaggle/input/dentistry-image-dataset/train/labels/0000181_png_jpg.rf.ce51914d59c4a05721e6d5bbc8074823.txt\n",
      "/kaggle/input/dentistry-image-dataset/train/labels/0000307_png_jpg.rf.bf4cc3a27297b13f43a3f5ed8bf4aded.txt\n",
      "/kaggle/input/dentistry-image-dataset/train/labels/0000013_png_jpg.rf.a7faa40bd8099a593a5e14a5a87aee5a.txt\n",
      "/kaggle/input/dentistry-image-dataset/train/labels/0000410_png_jpg.rf.babe21ed9c542e2ae905afc4abbb40b2.txt\n",
      "/kaggle/input/dentistry-image-dataset/train/labels/0000462_png_jpg.rf.9ade0563e92d8062d632a3eee2675452.txt\n",
      "/kaggle/input/dentistry-image-dataset/train/labels/0000319_png_jpg.rf.c9a328b75a4f4197ffa6ca81452e4ec2.txt\n",
      "/kaggle/input/dentistry-image-dataset/train/labels/0000352_png_jpg.rf.a320bc3ba3cd0a532ce0df882f730d3f.txt\n",
      "/kaggle/input/dentistry-image-dataset/train/labels/0000188_png_jpg.rf.0eb869909c5e753a334f548f9b725a8c.txt\n",
      "/kaggle/input/dentistry-image-dataset/train/labels/0000490_png_jpg.rf.ea0bcc140aad27e4e2a2e64874a53776.txt\n",
      "/kaggle/input/dentistry-image-dataset/train/labels/0000208_png_jpg.rf.7de58c67784aec0990c4be15be18d8ae.txt\n",
      "/kaggle/input/dentistry-image-dataset/train/labels/0000566_png_jpg.rf.a764ddcbeb328e90739b70d20fd07225.txt\n",
      "/kaggle/input/dentistry-image-dataset/train/labels/0000388_png_jpg.rf.b2d918e8b8bfa0c4ce99688755a539aa.txt\n",
      "/kaggle/input/dentistry-image-dataset/train/labels/0000001_png_jpg.rf.0cd144851d07ecf2b651b731a38e17b8.txt\n",
      "/kaggle/input/dentistry-image-dataset/train/labels/0000047_png_jpg.rf.48885f0115148098065fdbfe0b3ed488.txt\n",
      "/kaggle/input/dentistry-image-dataset/train/labels/0000415_png_jpg.rf.c07b15a36e7376665eb85ce79a740b48.txt\n",
      "/kaggle/input/dentistry-image-dataset/train/labels/0000225_png_jpg.rf.1cd4a4e49ba98fe32868a67e5a1d0ee6.txt\n",
      "/kaggle/input/dentistry-image-dataset/train/labels/0000519_png_jpg.rf.8b3ec9961b1d89a289a945737f97ae3a.txt\n",
      "/kaggle/input/dentistry-image-dataset/train/labels/0000659_png_jpg.rf.9d9468f307482eb42ba12f122ff7364f.txt\n",
      "/kaggle/input/dentistry-image-dataset/train/labels/0000162_png_jpg.rf.104ffae0fdf82dcb1b2d64371e664859.txt\n",
      "/kaggle/input/dentistry-image-dataset/train/labels/0000101_png_jpg.rf.065984d40b8455aeacdfc68ed7955fc7.txt\n",
      "/kaggle/input/dentistry-image-dataset/train/labels/0000345_png_jpg.rf.adcb46791a878c244e54097372cd5018.txt\n",
      "/kaggle/input/dentistry-image-dataset/train/labels/0000120_png_jpg.rf.7d5bf210ab3e30479d3fbfe913f4a1f9.txt\n",
      "/kaggle/input/dentistry-image-dataset/train/labels/0000297_png_jpg.rf.8cb07728257a597ae0247af73333b14c.txt\n",
      "/kaggle/input/dentistry-image-dataset/train/labels/0000700_png_jpg.rf.8a646adc6233de506fbc11fc8988997e.txt\n",
      "/kaggle/input/dentistry-image-dataset/train/labels/0000165_png_jpg.rf.dbe5f4870cea0d7c2ba4c4e46649d90e.txt\n",
      "/kaggle/input/dentistry-image-dataset/train/labels/0000539_png_jpg.rf.8396a91ace8957c5879f33a87bbda626.txt\n",
      "/kaggle/input/dentistry-image-dataset/train/labels/0000334_png_jpg.rf.8e9b22ca0ac37d7d9a3a742351fb4793.txt\n",
      "/kaggle/input/dentistry-image-dataset/train/labels/0000084_png_jpg.rf.658ff628769d245d80089ae72ea9e6f9.txt\n",
      "/kaggle/input/dentistry-image-dataset/train/labels/0000185_png_jpg.rf.75f5d70843f7700dc6a0e48440b61ba8.txt\n",
      "/kaggle/input/dentistry-image-dataset/train/labels/0000135_png_jpg.rf.403924042e8a1b99589ec45aafcd1b0e.txt\n",
      "/kaggle/input/dentistry-image-dataset/train/labels/0000033_png_jpg.rf.1107a2275325023bb0c0a2d4f817ef51.txt\n",
      "/kaggle/input/dentistry-image-dataset/train/labels/0000516_png_jpg.rf.bbe3bf77d149709c15773c55dfcec952.txt\n",
      "/kaggle/input/dentistry-image-dataset/train/labels/0000137_png_jpg.rf.8774deb71ca6ff1e84e061a135454ab3.txt\n",
      "/kaggle/input/dentistry-image-dataset/train/labels/0000310_png_jpg.rf.ecff74e4219c92ca4c4008402e01f0e5.txt\n",
      "/kaggle/input/dentistry-image-dataset/train/labels/0000168_png_jpg.rf.b15ff683260d37abf39caa7853f99a09.txt\n",
      "/kaggle/input/dentistry-image-dataset/train/labels/0000152_png_jpg.rf.25b7dce5c722fd77865819b39c62c718.txt\n",
      "/kaggle/input/dentistry-image-dataset/train/labels/0000201_png_jpg.rf.17850159980a140d656e7429ae5c6c35.txt\n",
      "/kaggle/input/dentistry-image-dataset/train/labels/0000148_png_jpg.rf.42275f1dd1a9912418633ec7273475c8.txt\n",
      "/kaggle/input/dentistry-image-dataset/train/labels/0000125_png_jpg.rf.42804f2c5737aa7262d7f5c6319b920d.txt\n",
      "/kaggle/input/dentistry-image-dataset/train/labels/0000498_png_jpg.rf.e15f78b10cffa2e5201ba3138cf5bc56.txt\n",
      "/kaggle/input/dentistry-image-dataset/train/labels/0000355_png_jpg.rf.1ebaa318033de054077fcef65d5ef82f.txt\n",
      "/kaggle/input/dentistry-image-dataset/train/labels/0000427_png_jpg.rf.8d6b92e157c5b309eb35126cf72b2617.txt\n",
      "/kaggle/input/dentistry-image-dataset/train/labels/0000266_png_jpg.rf.1d06fc5076337fe204e66a6bde1b517d.txt\n",
      "/kaggle/input/dentistry-image-dataset/train/labels/0000348_png_jpg.rf.9175635eb27b9fd9c435c3a4fe1f81c6.txt\n",
      "/kaggle/input/dentistry-image-dataset/train/labels/0000007_png_jpg.rf.917842da82da85fb676d7c8fc3473263.txt\n",
      "/kaggle/input/dentistry-image-dataset/train/labels/0000515_png_jpg.rf.6d92a5e36946897551dcb145be3fc8a2.txt\n",
      "/kaggle/input/dentistry-image-dataset/train/labels/0000607_png_jpg.rf.4b738bf4fe25135645b790ebc3416903.txt\n",
      "/kaggle/input/dentistry-image-dataset/train/labels/0000166_png_jpg.rf.914d94881d77fc880baf064a0dbe9a05.txt\n",
      "/kaggle/input/dentistry-image-dataset/train/labels/0000488_png_jpg.rf.a81385252d0fa76cae755b3914193353.txt\n",
      "/kaggle/input/dentistry-image-dataset/train/labels/0000349_png_jpg.rf.c61ecba166fa2043dbe7faf0652ef5ab.txt\n",
      "/kaggle/input/dentistry-image-dataset/train/labels/0000279_png_jpg.rf.d363be117ed643d16b7bffde09c138f8.txt\n",
      "/kaggle/input/dentistry-image-dataset/train/labels/0000593_png_jpg.rf.a0001c16190dd3479d1950a606a25dc3.txt\n",
      "/kaggle/input/dentistry-image-dataset/train/labels/0000321_png_jpg.rf.cafb711bc749e9c7ae486599de4df725.txt\n",
      "/kaggle/input/dentistry-image-dataset/train/labels/0000099_png_jpg.rf.0bc9e927e083c9fe10a82c1ec3cec885.txt\n",
      "/kaggle/input/dentistry-image-dataset/train/labels/0000533_png_jpg.rf.d1335f471a0391a86ac3d103ed0f2dac.txt\n",
      "/kaggle/input/dentistry-image-dataset/train/labels/0000079_png_jpg.rf.1486c166fc2b4767859e519fe9e3db29.txt\n",
      "/kaggle/input/dentistry-image-dataset/train/labels/0000286_png_jpg.rf.e44c7b2d443dc030f22e9940c4f2978e.txt\n",
      "/kaggle/input/dentistry-image-dataset/train/labels/0000118_png_jpg.rf.b052e9e51f6ba211ca8fa5e6d26ec9fd.txt\n",
      "/kaggle/input/dentistry-image-dataset/train/labels/0000441_png_jpg.rf.50b2fe75816f51004b76388f5b611742.txt\n",
      "/kaggle/input/dentistry-image-dataset/train/labels/0000402_png_jpg.rf.4356331f5f1ad0a04a8680492486f739.txt\n",
      "/kaggle/input/dentistry-image-dataset/train/labels/0000466_png_jpg.rf.e643115d75a6ab2f80fb278c70f897a3.txt\n",
      "/kaggle/input/dentistry-image-dataset/train/labels/0000211_png_jpg.rf.2c44b4064ccf5669577bedf180d80324.txt\n",
      "/kaggle/input/dentistry-image-dataset/train/labels/0000506_png_jpg.rf.c5ab3b6a94051b69af1d6de492e8bc5a.txt\n",
      "/kaggle/input/dentistry-image-dataset/train/labels/0000239_png_jpg.rf.b046f0aea8cf6883d6d7d2da4438043e.txt\n",
      "/kaggle/input/dentistry-image-dataset/train/labels/0000024_png_jpg.rf.9ea6b868008b9939a371df0759296d3e.txt\n",
      "/kaggle/input/dentistry-image-dataset/train/labels/0000300_png_jpg.rf.94b4bdd45763f9067b42285dd21e2ce7.txt\n",
      "/kaggle/input/dentistry-image-dataset/train/labels/0000085_png_jpg.rf.e0ebef41faed86740064f8438d65bc66.txt\n",
      "/kaggle/input/dentistry-image-dataset/train/labels/0000662_png_jpg.rf.1436684467c9dfd354fac4950b7a99a7.txt\n",
      "/kaggle/input/dentistry-image-dataset/train/labels/0000630_png_jpg.rf.fa7f92f0a03a1348285c13f24130372d.txt\n",
      "/kaggle/input/dentistry-image-dataset/train/labels/0000074_png_jpg.rf.bc885b17a48f9803db5ea77bdba31813.txt\n",
      "/kaggle/input/dentistry-image-dataset/train/labels/0000484_png_jpg.rf.00c9bc3b1ae3805af536510b97485e73.txt\n",
      "/kaggle/input/dentistry-image-dataset/train/labels/0000633_png_jpg.rf.da2bbc07eee5a88dd39b198c7ce2de4d.txt\n",
      "/kaggle/input/dentistry-image-dataset/train/labels/0000304_png_jpg.rf.0e6fef6d7845bffcb23fd7a54ea7781b.txt\n",
      "/kaggle/input/dentistry-image-dataset/train/labels/0000481_png_jpg.rf.94c27aeb4ee9d2d4dd2f7e032600c829.txt\n",
      "/kaggle/input/dentistry-image-dataset/train/labels/0000403_png_jpg.rf.b7b8976786c84f5a9faeb4efdf09547a.txt\n",
      "/kaggle/input/dentistry-image-dataset/train/labels/0000395_png_jpg.rf.07f2da04f3874d586b9398da96002b8c.txt\n",
      "/kaggle/input/dentistry-image-dataset/train/labels/0000351_png_jpg.rf.5b71262c0e86ffcd59d9da64a50868e2.txt\n",
      "/kaggle/input/dentistry-image-dataset/train/labels/0000536_png_jpg.rf.07699c45e2463a6a17c722f4091e8ecc.txt\n",
      "/kaggle/input/dentistry-image-dataset/train/labels/0000103_png_jpg.rf.b3d5386a261538da38813f224af75f2d.txt\n",
      "/kaggle/input/dentistry-image-dataset/train/labels/0000477_png_jpg.rf.061110809044ccfe955a4919ae7aa90b.txt\n",
      "/kaggle/input/dentistry-image-dataset/train/labels/0000049_png_jpg.rf.dec8302bc916e95c8711c3e939bce22b.txt\n",
      "/kaggle/input/dentistry-image-dataset/train/labels/0000557_png_jpg.rf.73764d4b00b58f05768c71f9df40a1ce.txt\n",
      "/kaggle/input/dentistry-image-dataset/train/labels/0000658_png_jpg.rf.6a0d8779ac7061fc4fc04d0492d0174c.txt\n",
      "/kaggle/input/dentistry-image-dataset/train/labels/0000324_png_jpg.rf.4f5197de438fe10c926f95b3faeb8300.txt\n",
      "/kaggle/input/dentistry-image-dataset/train/labels/0000250_png_jpg.rf.66f77b0ea0c94de092901f5e005049e0.txt\n",
      "/kaggle/input/dentistry-image-dataset/train/labels/0000411_png_jpg.rf.7a670f29546058b0f973fc58754456ab.txt\n",
      "/kaggle/input/dentistry-image-dataset/train/labels/0000552_png_jpg.rf.02598d278c1aab54f935d64fc7d11289.txt\n",
      "/kaggle/input/dentistry-image-dataset/train/labels/0000095_png_jpg.rf.12767c1d80d10c199f1691b3533844a6.txt\n",
      "/kaggle/input/dentistry-image-dataset/train/labels/0000357_png_jpg.rf.a195630b0a4879937b61e4dce29fa458.txt\n",
      "/kaggle/input/dentistry-image-dataset/train/labels/0000220_png_jpg.rf.7cc297f0623329bb2734a4f636904e45.txt\n",
      "/kaggle/input/dentistry-image-dataset/train/labels/0000315_png_jpg.rf.739d17ea604d1ce072daa3bda4a009c7.txt\n",
      "/kaggle/input/dentistry-image-dataset/train/labels/0000424_png_jpg.rf.0b043fabf7165edbfa4cc7f49ad452a9.txt\n",
      "/kaggle/input/dentistry-image-dataset/train/labels/0000229_png_jpg.rf.8d31a43a647bbcbab334fad814b1cbae.txt\n",
      "/kaggle/input/dentistry-image-dataset/train/labels/0000117_png_jpg.rf.594dad28116af1810e8d39f3518a8d43.txt\n",
      "/kaggle/input/dentistry-image-dataset/train/labels/0000305_png_jpg.rf.25635778367387b6521dd9db97aa85cf.txt\n",
      "/kaggle/input/dentistry-image-dataset/train/labels/0000260_png_jpg.rf.b0a2deca9026e49e6039a6ad52bf760e.txt\n",
      "/kaggle/input/dentistry-image-dataset/train/labels/0000423_png_jpg.rf.c8d46c3bf7edf0f712454d2506357d18.txt\n",
      "/kaggle/input/dentistry-image-dataset/train/labels/0000316_png_jpg.rf.2543e0204f8723fff4e4da0255b09b65.txt\n",
      "/kaggle/input/dentistry-image-dataset/train/labels/0000363_png_jpg.rf.9d1ac2a605a62ecbc069a492f0ea0b7a.txt\n",
      "/kaggle/input/dentistry-image-dataset/train/labels/0000078_png_jpg.rf.94395276dde9fc1ef60a7a9a118636ff.txt\n",
      "/kaggle/input/dentistry-image-dataset/train/labels/0000465_png_jpg.rf.c8b66d9e0b252d682305ba943373ae39.txt\n",
      "/kaggle/input/dentistry-image-dataset/train/labels/0000576_png_jpg.rf.7302dee56b8f745f237a5f8638d14901.txt\n",
      "/kaggle/input/dentistry-image-dataset/train/labels/0000617_png_jpg.rf.e90205c899cda8c65c70159881968cac.txt\n",
      "/kaggle/input/dentistry-image-dataset/train/labels/0000509_png_jpg.rf.b20d067e80d93dfac38ca6d99f6b67eb.txt\n",
      "/kaggle/input/dentistry-image-dataset/train/labels/0000269_png_jpg.rf.60f1581f0b0812cc374e85be5690db38.txt\n",
      "/kaggle/input/dentistry-image-dataset/train/labels/0000479_png_jpg.rf.c08a8fc1e95eddb5ba37e2a11fcbcf6e.txt\n",
      "/kaggle/input/dentistry-image-dataset/train/labels/0000344_png_jpg.rf.fda841379c4425ae9bcaf6362d886f7d.txt\n",
      "/kaggle/input/dentistry-image-dataset/train/labels/0000089_png_jpg.rf.f10926fbddf2986a385266b08c6492ce.txt\n",
      "/kaggle/input/dentistry-image-dataset/train/labels/0000644_png_jpg.rf.e4cbef49c7e1114191e69385a7623998.txt\n",
      "/kaggle/input/dentistry-image-dataset/train/labels/0000143_png_jpg.rf.e257e10f2123192e2b74bcb4739a12e7.txt\n",
      "/kaggle/input/dentistry-image-dataset/train/labels/0000107_png_jpg.rf.ddbd2efc31de0776769e18db31aa25b4.txt\n",
      "/kaggle/input/dentistry-image-dataset/train/labels/0000176_png_jpg.rf.2184f0abfdbb4abbe7db32cb68a60a9b.txt\n",
      "/kaggle/input/dentistry-image-dataset/train/labels/0000096_png_jpg.rf.f3baffb0bb4e6fe7bf5727a85dffe78d.txt\n",
      "/kaggle/input/dentistry-image-dataset/train/labels/0000237_png_jpg.rf.6cb7987c8169f54e0d4848d6efca2681.txt\n",
      "/kaggle/input/dentistry-image-dataset/train/labels/0000048_png_jpg.rf.bd890b95ddb66861521ec803ffdf06cf.txt\n",
      "/kaggle/input/dentistry-image-dataset/train/labels/0000110_png_jpg.rf.07d063804511ec5ba8a0d29ff46ec01b.txt\n",
      "/kaggle/input/dentistry-image-dataset/train/labels/0000004_png_jpg.rf.eaa8739627fff81d462b46815c2a5bd4.txt\n",
      "/kaggle/input/dentistry-image-dataset/train/labels/0000629_png_jpg.rf.1a5b25633a45e40c5ca600a2e60c6663.txt\n",
      "/kaggle/input/dentistry-image-dataset/train/labels/0000130_png_jpg.rf.635351bdc0029bf3bb7fa01c23f34319.txt\n",
      "/kaggle/input/dentistry-image-dataset/train/labels/0000207_png_jpg.rf.22bff1ca22334c989871d934dd98e245.txt\n",
      "/kaggle/input/dentistry-image-dataset/train/labels/0000025_png_jpg.rf.85d42f1d09aced118e0ceb8ee3744193.txt\n",
      "/kaggle/input/dentistry-image-dataset/train/labels/0000332_png_jpg.rf.37a909594d746bc81c736ea0339b5e05.txt\n",
      "/kaggle/input/dentistry-image-dataset/train/labels/0000428_png_jpg.rf.a584fd17127db70b1d2378f636d05ae9.txt\n",
      "/kaggle/input/dentistry-image-dataset/train/labels/0000199_png_jpg.rf.1c88d3c93729eaeefd25d29a114d8721.txt\n",
      "/kaggle/input/dentistry-image-dataset/train/labels/0000584_png_jpg.rf.4d44ce90f445b79e9b85a20c779673eb.txt\n",
      "/kaggle/input/dentistry-image-dataset/train/labels/0000253_png_jpg.rf.4ca7d4d96a3b91f8ce99fe6c7bc73004.txt\n",
      "/kaggle/input/dentistry-image-dataset/train/labels/0000160_png_jpg.rf.7f5edc23aa4b43b230398dc23f81a234.txt\n",
      "/kaggle/input/dentistry-image-dataset/train/labels/0000408_png_jpg.rf.d4270ee4f1065db6defe4f6afc01f9dc.txt\n",
      "/kaggle/input/dentistry-image-dataset/train/labels/0000508_png_jpg.rf.b91b42f5ceb8676a97f55fb380f27fed.txt\n",
      "/kaggle/input/dentistry-image-dataset/train/labels/0000502_png_jpg.rf.97496f2523618b671ab0a54772c885ab.txt\n",
      "/kaggle/input/dentistry-image-dataset/train/labels/0000555_png_jpg.rf.3dd6693a155b668b8917f843b86099e0.txt\n",
      "/kaggle/input/dentistry-image-dataset/train/labels/0000499_png_jpg.rf.1dfd724b46a3b011d6a47240c076afed.txt\n",
      "/kaggle/input/dentistry-image-dataset/train/labels/0000258_png_jpg.rf.91739b2160a1fb26d79d57b8d42487bc.txt\n",
      "/kaggle/input/dentistry-image-dataset/train/labels/0000215_png_jpg.rf.262b32f555af3f10294cb39888946fdb.txt\n",
      "/kaggle/input/dentistry-image-dataset/train/labels/0000051_png_jpg.rf.f90fe1b88553618e1223ee6c651e85b4.txt\n",
      "/kaggle/input/dentistry-image-dataset/train/labels/0000570_png_jpg.rf.a2ff6596b65bc82efec2ce6ca3749710.txt\n",
      "/kaggle/input/dentistry-image-dataset/train/labels/0000472_png_jpg.rf.7e0e9b9683727c0ec50bc93ab22f475a.txt\n",
      "/kaggle/input/dentistry-image-dataset/train/labels/0000661_png_jpg.rf.fb9ec276e625ada1aa064338d44a45af.txt\n",
      "/kaggle/input/dentistry-image-dataset/train/labels/0000531_png_jpg.rf.2dd42a071c74a2626de298ab4f121233.txt\n",
      "/kaggle/input/dentistry-image-dataset/train/labels/0000198_png_jpg.rf.18278c07827cf18c624e3b6b1bad63e0.txt\n",
      "/kaggle/input/dentistry-image-dataset/train/labels/0000147_png_jpg.rf.3f5d2143b5de12a11e0f4b5d4932b1ed.txt\n",
      "/kaggle/input/dentistry-image-dataset/train/labels/0000088_png_jpg.rf.5543888fb078d2921aaea2a64da9568e.txt\n",
      "/kaggle/input/dentistry-image-dataset/train/labels/0000035_png_jpg.rf.58ebacd67f3ce90bfc0920c78f66b3c4.txt\n",
      "/kaggle/input/dentistry-image-dataset/train/labels/0000026_png_jpg.rf.4a93be0d867eee6100a0a2411031ffd6.txt\n",
      "/kaggle/input/dentistry-image-dataset/train/labels/0000098_png_jpg.rf.fb8c43949b827a8fca770b6f626395f4.txt\n",
      "/kaggle/input/dentistry-image-dataset/train/labels/0000065_png_jpg.rf.282dbaed022f0b374864cac9716d80d4.txt\n",
      "/kaggle/input/dentistry-image-dataset/train/labels/0000064_png_jpg.rf.1684c568f446a9e8ee52d316d2fc67dc.txt\n",
      "/kaggle/input/dentistry-image-dataset/train/labels/0000205_png_jpg.rf.87b1a7fd49025f379b1c9c6f10fd5508.txt\n",
      "/kaggle/input/dentistry-image-dataset/train/labels/0000251_png_jpg.rf.500ddddb9dde25f62a1b1201392b2654.txt\n",
      "/kaggle/input/dentistry-image-dataset/train/labels/0000057_png_jpg.rf.7c08a205aa357155053ca14eec9ef7be.txt\n",
      "/kaggle/input/dentistry-image-dataset/train/labels/0000514_png_jpg.rf.950492b2c07148c0dba2a29b83d8ec37.txt\n",
      "/kaggle/input/dentistry-image-dataset/train/labels/0000464_png_jpg.rf.1b4c18b0f3788b3c17f8e704052af653.txt\n",
      "/kaggle/input/dentistry-image-dataset/train/labels/0000368_png_jpg.rf.6c13e8c46e57e44ed70a2545be72faea.txt\n",
      "/kaggle/input/dentistry-image-dataset/train/labels/0000338_png_jpg.rf.f364cb5fa43c1349fd58258899beae0b.txt\n",
      "/kaggle/input/dentistry-image-dataset/train/labels/0000682_png_jpg.rf.87aba194afff7879b06314fb97607a8d.txt\n",
      "/kaggle/input/dentistry-image-dataset/train/labels/0000102_png_jpg.rf.0c190792d369177cc572ea627de6127e.txt\n",
      "/kaggle/input/dentistry-image-dataset/train/labels/0000029_png_jpg.rf.84e9ea5efcb408c65a693dd36406a525.txt\n",
      "/kaggle/input/dentistry-image-dataset/train/labels/0000174_png_jpg.rf.438cf8f8a064eb6f8c4361e6deb1fcfa.txt\n",
      "/kaggle/input/dentistry-image-dataset/train/labels/0000558_png_jpg.rf.283dd4559dde39d1c7152a018b8bd6f0.txt\n",
      "/kaggle/input/dentistry-image-dataset/train/labels/0000134_png_jpg.rf.7950ae714d564ce8d3f4866be8b13a36.txt\n",
      "/kaggle/input/dentistry-image-dataset/train/labels/0000326_png_jpg.rf.7077a443e1a8f69603aabe173e441df2.txt\n",
      "/kaggle/input/dentistry-image-dataset/train/labels/0000645_png_jpg.rf.576371932838c19960b14564385ef88f.txt\n",
      "/kaggle/input/dentistry-image-dataset/train/labels/0000318_png_jpg.rf.5f4f3108c952cfa8694dbd5ae41bcd2b.txt\n",
      "/kaggle/input/dentistry-image-dataset/train/labels/0000505_png_jpg.rf.8a7b538d2b29ee7a6f008dc7c444f4ae.txt\n",
      "/kaggle/input/dentistry-image-dataset/train/labels/0000376_png_jpg.rf.5ecc0dbc5417c7406fd4119f82889205.txt\n",
      "/kaggle/input/dentistry-image-dataset/train/labels/0000562_png_jpg.rf.cf159a9df194920d5d93b30b5c8f59a9.txt\n",
      "/kaggle/input/dentistry-image-dataset/train/labels/0000177_png_jpg.rf.1eccd728638f32d753d1b76e177ff646.txt\n",
      "/kaggle/input/dentistry-image-dataset/train/labels/0000289_png_jpg.rf.6cfe1f450aae8e6be6621b3cfdd42484.txt\n",
      "/kaggle/input/dentistry-image-dataset/train/labels/0000613_png_jpg.rf.373115bdf5c57820f611a38ab36c74c3.txt\n",
      "/kaggle/input/dentistry-image-dataset/train/labels/0000076_png_jpg.rf.c0a602d5537985742722520af39fa647.txt\n",
      "/kaggle/input/dentistry-image-dataset/train/labels/0000561_png_jpg.rf.9ef2157014e9f5f5b95ace581fff6876.txt\n",
      "/kaggle/input/dentistry-image-dataset/train/labels/0000492_png_jpg.rf.d24357340fbfe9993fe1cf6a19f09de9.txt\n",
      "/kaggle/input/dentistry-image-dataset/train/labels/0000287_png_jpg.rf.124739ae69df343bc999ff917cb0d819.txt\n",
      "/kaggle/input/dentistry-image-dataset/train/labels/0000491_png_jpg.rf.4bb5041e742e3b63523108e444dceb67.txt\n",
      "/kaggle/input/dentistry-image-dataset/train/labels/0000377_png_jpg.rf.6a6f2914dc23c7775b362f80c9d7276e.txt\n",
      "/kaggle/input/dentistry-image-dataset/train/labels/0000469_png_jpg.rf.81081e6c537a5d41b0c8d0c18bf94881.txt\n",
      "/kaggle/input/dentistry-image-dataset/train/labels/0000583_png_jpg.rf.a63e224bcc591bb9d3632628a8b49cc6.txt\n",
      "/kaggle/input/dentistry-image-dataset/train/labels/0000128_png_jpg.rf.309c8504143d2b314eee5ad981f4160e.txt\n",
      "/kaggle/input/dentistry-image-dataset/train/labels/0000090_png_jpg.rf.1f339d8e4cc6b2dbdfd0e4cb8628cdf3.txt\n",
      "/kaggle/input/dentistry-image-dataset/train/labels/0000285_png_jpg.rf.93d85510a5da551aa12cc65ed41abac5.txt\n",
      "/kaggle/input/dentistry-image-dataset/train/labels/0000067_png_jpg.rf.39a6cc8eed9805c42138ce047e6d0134.txt\n",
      "/kaggle/input/dentistry-image-dataset/train/labels/0000209_png_jpg.rf.96c3fd72374e9b05d2ba633e708db924.txt\n",
      "/kaggle/input/dentistry-image-dataset/train/labels/0000375_png_jpg.rf.a07c501c9802dc4bf7d439fa53986937.txt\n",
      "/kaggle/input/dentistry-image-dataset/train/labels/0000654_png_jpg.rf.50f535a11000c97ebc6e44e317c93d07.txt\n",
      "/kaggle/input/dentistry-image-dataset/train/labels/0000108_png_jpg.rf.3276de0cc5b79b58939d103814639aa3.txt\n",
      "/kaggle/input/dentistry-image-dataset/train/labels/0000184_png_jpg.rf.73287cc7e13dedc79912b8eae209dafa.txt\n",
      "/kaggle/input/dentistry-image-dataset/train/labels/0000227_png_jpg.rf.0b21e4bd50e72db7800b57a532c598c7.txt\n",
      "/kaggle/input/dentistry-image-dataset/train/labels/0000693_png_jpg.rf.1329b921c9ed2784051a14732de17bad.txt\n",
      "/kaggle/input/dentistry-image-dataset/train/labels/0000241_png_jpg.rf.4cde57053d58db97dc1631966665d0ca.txt\n",
      "/kaggle/input/dentistry-image-dataset/train/labels/0000202_png_jpg.rf.b89b417f61fc76f81e8ce50a9a42fee8.txt\n",
      "/kaggle/input/dentistry-image-dataset/train/labels/0000040_png_jpg.rf.d4eaad35496c5021a8209ce4e3d63188.txt\n",
      "/kaggle/input/dentistry-image-dataset/train/labels/0000041_png_jpg.rf.b69aacf86b074bd2dff6d25ffaebd02f.txt\n",
      "/kaggle/input/dentistry-image-dataset/train/labels/0000105_png_jpg.rf.bbc5dd16bd5df15ee4584131e6334211.txt\n",
      "/kaggle/input/dentistry-image-dataset/train/labels/0000699_png_jpg.rf.950206ded84620f8ceef6de3e5143eb6.txt\n",
      "/kaggle/input/dentistry-image-dataset/train/labels/0000111_png_jpg.rf.fd16a2991606340127bf789a2dc707de.txt\n",
      "/kaggle/input/dentistry-image-dataset/train/labels/0000210_png_jpg.rf.5a861304f5f3b326d128741615dceb42.txt\n",
      "/kaggle/input/dentistry-image-dataset/train/labels/0000236_png_jpg.rf.590cdf0e6274ac6b11de6ef99ac31431.txt\n",
      "/kaggle/input/dentistry-image-dataset/train/labels/0000676_png_jpg.rf.7a0a630c98e2128ce624039e2a1c2a45.txt\n",
      "/kaggle/input/dentistry-image-dataset/train/labels/0000171_png_jpg.rf.33985d796f6561f58e819718386a5e64.txt\n",
      "/kaggle/input/dentistry-image-dataset/train/labels/0000240_png_jpg.rf.abafeff4d961a579adc05a6152472dc4.txt\n",
      "/kaggle/input/dentistry-image-dataset/train/labels/0000500_png_jpg.rf.25952bcb1ca0b1f34307ebf3b0f4f812.txt\n",
      "/kaggle/input/dentistry-image-dataset/train/labels/0000018_png_jpg.rf.6dbbf8fd812a9006c73ba711e571f342.txt\n",
      "/kaggle/input/dentistry-image-dataset/train/labels/0000487_png_jpg.rf.91355c2dc3605b6a7bad1416cd9765d5.txt\n",
      "/kaggle/input/dentistry-image-dataset/train/labels/0000454_png_jpg.rf.aca72614701132aee4c9cfc5a31da364.txt\n",
      "/kaggle/input/dentistry-image-dataset/train/labels/0000389_png_jpg.rf.4af68be979526668966247192cf1168d.txt\n",
      "/kaggle/input/dentistry-image-dataset/train/labels/0000697_png_jpg.rf.4140b36c940e145351efea8830c9bc30.txt\n",
      "/kaggle/input/dentistry-image-dataset/train/labels/0000235_png_jpg.rf.3635b4aa67c7379ae382c5274f845ef8.txt\n",
      "/kaggle/input/dentistry-image-dataset/train/labels/0000113_png_jpg.rf.e642964cc86498b225118b29a81d18c6.txt\n",
      "/kaggle/input/dentistry-image-dataset/train/labels/0000163_png_jpg.rf.736637eb40916f8540648dacfdfb3b64.txt\n",
      "/kaggle/input/dentistry-image-dataset/train/labels/0000019_png_jpg.rf.1e29dee96ee017efeee7fa119e034db8.txt\n",
      "/kaggle/input/dentistry-image-dataset/train/labels/0000560_png_jpg.rf.1048046ac877109f89753944bf11fe60.txt\n",
      "/kaggle/input/dentistry-image-dataset/train/labels/0000545_png_jpg.rf.a36dbc4adea13af3570bd23389ebca95.txt\n",
      "/kaggle/input/dentistry-image-dataset/train/labels/0000119_png_jpg.rf.8d48d8ca3c558755487c65f3245f4381.txt\n",
      "/kaggle/input/dentistry-image-dataset/train/labels/0000522_png_jpg.rf.5a5df7fd4e82e1a11165a8914526e531.txt\n",
      "/kaggle/input/dentistry-image-dataset/train/labels/0000191_png_jpg.rf.10a76e311e74c8692edb7fe1a3477225.txt\n",
      "/kaggle/input/dentistry-image-dataset/train/labels/0000493_png_jpg.rf.ebf8e940ff7b29a0dabb88cfcb555dd1.txt\n",
      "/kaggle/input/dentistry-image-dataset/train/labels/0000073_png_jpg.rf.9e1e1a4deeb880b813428f45d748c97c.txt\n",
      "/kaggle/input/dentistry-image-dataset/train/labels/0000478_png_jpg.rf.42bcb5873007915ce96f1543f8d1f94a.txt\n",
      "/kaggle/input/dentistry-image-dataset/train/labels/0000140_png_jpg.rf.2a5f33722ee81ac70d274b14a5d55250.txt\n",
      "/kaggle/input/dentistry-image-dataset/train/labels/0000256_png_jpg.rf.406adcca089e7201b4cc8fc2dc37808d.txt\n",
      "/kaggle/input/dentistry-image-dataset/train/labels/0000453_png_jpg.rf.e117e94eebf48e0b9e273d6ef1bc92ba.txt\n",
      "/kaggle/input/dentistry-image-dataset/train/labels/0000414_png_jpg.rf.3fc04cab68c35b0c4bb4e3e231b5793f.txt\n",
      "/kaggle/input/dentistry-image-dataset/train/labels/0000381_png_jpg.rf.ecda2eb0659fac94726a77a526e00f2b.txt\n",
      "/kaggle/input/dentistry-image-dataset/train/labels/0000114_png_jpg.rf.18f3acc644648bb9f214454ef28b93f1.txt\n",
      "/kaggle/input/dentistry-image-dataset/train/labels/0000524_png_jpg.rf.4bd0b3c9adaae1a04c967920ef930703.txt\n",
      "/kaggle/input/dentistry-image-dataset/train/labels/0000121_png_jpg.rf.7e28aeff461194eb78e8536c354b0137.txt\n",
      "/kaggle/input/dentistry-image-dataset/train/labels/0000264_png_jpg.rf.a61b7179957b6fd2ee714d2d28c906a3.txt\n",
      "/kaggle/input/dentistry-image-dataset/train/labels/0000280_png_jpg.rf.eadc957dec62e43059b022ad34074762.txt\n",
      "/kaggle/input/dentistry-image-dataset/train/labels/0000574_png_jpg.rf.de51667f1f491e301c6ddf6a424f5734.txt\n",
      "/kaggle/input/dentistry-image-dataset/train/labels/0000325_png_jpg.rf.bb9e9fcb75fdd69a9ce3801fcc9b13b3.txt\n",
      "/kaggle/input/dentistry-image-dataset/train/labels/0000262_png_jpg.rf.4cb4ff5ea1b93ca9942641a93810c7dd.txt\n",
      "/kaggle/input/dentistry-image-dataset/train/labels/0000178_png_jpg.rf.0d968c3f74bb858935bf110840b3ed80.txt\n",
      "/kaggle/input/dentistry-image-dataset/train/labels/0000059_png_jpg.rf.95973a2f10361bd598c590bfdeba91e4.txt\n",
      "/kaggle/input/dentistry-image-dataset/train/labels/0000650_png_jpg.rf.c1377f99ad430c0acefda94fa8929338.txt\n",
      "/kaggle/input/dentistry-image-dataset/train/labels/0000244_png_jpg.rf.f7514d3a054250134e3b58096b20ba7e.txt\n",
      "/kaggle/input/dentistry-image-dataset/train/labels/0000416_png_jpg.rf.55b4e42d7ef32b94269d7a0a3a0f2301.txt\n",
      "/kaggle/input/dentistry-image-dataset/train/labels/0000027_png_jpg.rf.49e132d4b21c91958a475ef1b9193a42.txt\n",
      "/kaggle/input/dentistry-image-dataset/train/labels/0000559_png_jpg.rf.d15b1c1394947e30f51e302e17805a9b.txt\n",
      "/kaggle/input/dentistry-image-dataset/train/labels/0000378_png_jpg.rf.7e7dc00200176de80fd94b0292ad1e53.txt\n",
      "/kaggle/input/dentistry-image-dataset/train/labels/0000292_png_jpg.rf.4f3a646afaa34c10f810419c267d3206.txt\n",
      "/kaggle/input/dentistry-image-dataset/train/labels/0000486_png_jpg.rf.3048082ff194243127c20d995c0224b6.txt\n",
      "/kaggle/input/dentistry-image-dataset/train/labels/0000597_png_jpg.rf.9055ed9903d623b49e539d101c176ce1.txt\n",
      "/kaggle/input/dentistry-image-dataset/train/labels/0000438_png_jpg.rf.2e0991cffcab4589aeefcd3c6579e362.txt\n",
      "/kaggle/input/dentistry-image-dataset/train/labels/0000063_png_jpg.rf.41bdbe708a52329bb9b61f80a07d54a5.txt\n",
      "/kaggle/input/dentistry-image-dataset/train/labels/0000317_png_jpg.rf.cc484c334288107fe486e7ef45f02ca1.txt\n",
      "/kaggle/input/dentistry-image-dataset/train/labels/0000511_png_jpg.rf.d004608599052301c9e21c95bdba6775.txt\n",
      "/kaggle/input/dentistry-image-dataset/train/labels/0000242_png_jpg.rf.ae66ed31e3ccc500040ae71faee00472.txt\n",
      "/kaggle/input/dentistry-image-dataset/train/labels/0000622_png_jpg.rf.f057d8c5f24181ea07b324803b977396.txt\n",
      "/kaggle/input/dentistry-image-dataset/train/labels/0000055_png_jpg.rf.fcc5b5080acb3c24403c7d622dd048d4.txt\n",
      "/kaggle/input/dentistry-image-dataset/train/labels/0000243_png_jpg.rf.9423149e5ecaba92638dd67aac9d71ac.txt\n",
      "/kaggle/input/dentistry-image-dataset/train/labels/0000420_png_jpg.rf.33f48087b10166cf383267dbeb6ac17c.txt\n",
      "/kaggle/input/dentistry-image-dataset/train/labels/0000273_png_jpg.rf.7723fd5a8ff8ad5dfea9f00ffacbf907.txt\n",
      "/kaggle/input/dentistry-image-dataset/train/labels/0000579_png_jpg.rf.92fe69da7b731eb6965cd3d14a03ef5f.txt\n",
      "/kaggle/input/dentistry-image-dataset/train/labels/0000277_png_jpg.rf.aafd8e4bb8a1b147eb2f1c90192cbfba.txt\n",
      "/kaggle/input/dentistry-image-dataset/train/labels/0000139_png_jpg.rf.abb965c4bd80e92787577159b15a54f1.txt\n",
      "/kaggle/input/dentistry-image-dataset/train/labels/0000093_png_jpg.rf.e5664824c21b8a2c74a1695b5ee919a4.txt\n",
      "/kaggle/input/dentistry-image-dataset/train/labels/0000080_png_jpg.rf.fb6ce648c74404e6b5c3b615523c28ed.txt\n",
      "/kaggle/input/dentistry-image-dataset/train/labels/0000290_png_jpg.rf.7f9dff6b7e6e7e92a9701303fc83e087.txt\n",
      "/kaggle/input/dentistry-image-dataset/train/labels/0000200_png_jpg.rf.e14d8b5cac50b628d55e7f366e1aea45.txt\n",
      "/kaggle/input/dentistry-image-dataset/train/labels/0000081_png_jpg.rf.66a6d0838520a9552fb1abd6daa9db65.txt\n",
      "/kaggle/input/dentistry-image-dataset/train/labels/0000014_png_jpg.rf.5b328fc4a20136c7fc105ce6d38bf3ff.txt\n",
      "/kaggle/input/dentistry-image-dataset/train/labels/0000197_png_jpg.rf.b803d6e827b7b0eab1ff6863d8e9436d.txt\n",
      "/kaggle/input/dentistry-image-dataset/train/labels/0000061_png_jpg.rf.4d2117c364dd8df2ae90b7a04618504e.txt\n",
      "/kaggle/input/dentistry-image-dataset/train/labels/0000538_png_jpg.rf.273fa2ba21daaf8c6e7bccaa648dc648.txt\n",
      "/kaggle/input/dentistry-image-dataset/train/labels/0000329_png_jpg.rf.b1686caaeddb08efcf1eec8526f5c1bf.txt\n",
      "/kaggle/input/dentistry-image-dataset/train/labels/0000016_png_jpg.rf.e00fe354d52a02e06716818604788800.txt\n",
      "/kaggle/input/dentistry-image-dataset/train/labels/0000293_png_jpg.rf.dda81c3be5f91d58e94c4bc4569309b5.txt\n",
      "/kaggle/input/dentistry-image-dataset/train/labels/0000213_png_jpg.rf.11e10f4208e2cc387ec5f37cbe44475f.txt\n",
      "/kaggle/input/dentistry-image-dataset/train/labels/0000288_png_jpg.rf.92cc8a90d407037aba0f90cd1c7df897.txt\n",
      "/kaggle/input/dentistry-image-dataset/train/labels/0000228_png_jpg.rf.173e1c0f5a2fe3ad40ebee303473e23c.txt\n",
      "/kaggle/input/dentistry-image-dataset/train/labels/0000267_png_jpg.rf.d62b3f4ae6ff6fb62f39d01963733907.txt\n",
      "/kaggle/input/dentistry-image-dataset/train/labels/0000474_png_jpg.rf.fc1aea86c4655edde9ad37e0e66fc478.txt\n",
      "/kaggle/input/dentistry-image-dataset/train/labels/0000397_png_jpg.rf.090aac41f360695d4e5e4db4933b0d2f.txt\n",
      "/kaggle/input/dentistry-image-dataset/train/labels/0000392_png_jpg.rf.2a1a50a41d4779d4ea747a8724ec6cb5.txt\n",
      "/kaggle/input/dentistry-image-dataset/train/labels/0000058_png_jpg.rf.4767a033ab09910762a777320324c72a.txt\n",
      "/kaggle/input/dentistry-image-dataset/train/labels/0000075_png_jpg.rf.bff9798ca68bd4a5314eebf7d312899d.txt\n",
      "/kaggle/input/dentistry-image-dataset/train/labels/0000327_png_jpg.rf.65ccff9baa33afd60a4befd23e188094.txt\n",
      "/kaggle/input/dentistry-image-dataset/train/labels/0000216_png_jpg.rf.6cc3c14eba6f898c7582c16a63647124.txt\n",
      "/kaggle/input/dentistry-image-dataset/train/labels/0000421_png_jpg.rf.05db83a97d3de7e9c387708ca946296f.txt\n",
      "/kaggle/input/dentistry-image-dataset/train/labels/0000046_png_jpg.rf.093febc7102326eb6f32872fdc497799.txt\n",
      "/kaggle/input/dentistry-image-dataset/train/labels/0000660_png_jpg.rf.2b95a47f41fe159d7431eac47ffbe970.txt\n",
      "/kaggle/input/dentistry-image-dataset/train/labels/0000072_png_jpg.rf.54f3b1b87c20bb0373103c568f1d6871.txt\n",
      "/kaggle/input/dentistry-image-dataset/train/labels/0000337_png_jpg.rf.2a321f72cd95d32ddb7b3f9034582a24.txt\n",
      "/kaggle/input/dentistry-image-dataset/train/labels/0000282_png_jpg.rf.f273c7976ab41babca77801ce4a40be7.txt\n",
      "/kaggle/input/dentistry-image-dataset/train/labels/0000578_png_jpg.rf.86a3f2ff843a9afbf8560a12fb444e41.txt\n",
      "/kaggle/input/dentistry-image-dataset/train/labels/0000608_png_jpg.rf.db89b3428c9a226194a3a2d11eb9845c.txt\n",
      "/kaggle/input/dentistry-image-dataset/train/labels/0000281_png_jpg.rf.9de0ce7eb010fb5eb408c027d26b018d.txt\n",
      "/kaggle/input/dentistry-image-dataset/train/labels/0000034_png_jpg.rf.a6e006fbc533e2adb8d1a670f4c9f843.txt\n",
      "/kaggle/input/dentistry-image-dataset/train/labels/0000627_png_jpg.rf.43a529322522d8cb4c4de464062557ce.txt\n",
      "/kaggle/input/dentistry-image-dataset/train/labels/0000116_png_jpg.rf.7efd0dbed0955f98b7226bfa2d1d886d.txt\n",
      "/kaggle/input/dentistry-image-dataset/train/labels/0000628_png_jpg.rf.303c262bcdc0fe1ab30d2846c6b2a972.txt\n",
      "/kaggle/input/dentistry-image-dataset/train/labels/0000087_png_jpg.rf.e24a6e853074f7b2bb97491f6dc499d2.txt\n",
      "/kaggle/input/dentistry-image-dataset/train/labels/0000265_png_jpg.rf.e917a41521d0167e85fa22389661dbcc.txt\n",
      "/kaggle/input/dentistry-image-dataset/train/labels/0000572_png_jpg.rf.6876b8f6189e2d3247faaf51a495d7f7.txt\n",
      "/kaggle/input/dentistry-image-dataset/train/labels/0000056_png_jpg.rf.60a68bb85596633ac4cefeb2cf8c66ed.txt\n",
      "/kaggle/input/dentistry-image-dataset/train/labels/0000006_png_jpg.rf.118f53b4cb59d885f4e88013c6ea2e8e.txt\n",
      "/kaggle/input/dentistry-image-dataset/train/labels/0000513_png_jpg.rf.5800673e99d27f1cedc4b66f96706221.txt\n",
      "/kaggle/input/dentistry-image-dataset/train/labels/0000299_png_jpg.rf.2267ac33d04cd24093f4b0bb8b784341.txt\n",
      "/kaggle/input/dentistry-image-dataset/train/labels/0000230_png_jpg.rf.3cb93b9e8947e2e9dc10124b4693bc2f.txt\n",
      "/kaggle/input/dentistry-image-dataset/train/labels/0000485_png_jpg.rf.3b81610c8f2789d9ee9928373af7bab7.txt\n",
      "/kaggle/input/dentistry-image-dataset/train/labels/0000330_png_jpg.rf.9920c7c48a31a9efb265d957f854e0ce.txt\n",
      "/kaggle/input/dentistry-image-dataset/train/labels/0000671_png_jpg.rf.8d68c32288f094c2b07ae38f1f2d4701.txt\n",
      "/kaggle/input/dentistry-image-dataset/train/labels/0000261_png_jpg.rf.4f23d902a320ca06a45f471e1f2c7d9a.txt\n",
      "/kaggle/input/dentistry-image-dataset/train/labels/0000276_png_jpg.rf.3ef6a39d11431c09c0a6cba2cd958102.txt\n",
      "/kaggle/input/dentistry-image-dataset/train/labels/0000532_png_jpg.rf.d9057aa789b0c1cda3c870e54ee3a871.txt\n",
      "/kaggle/input/dentistry-image-dataset/train/labels/0000270_png_jpg.rf.d2f397e08628027faf0b5df1f5648577.txt\n",
      "/kaggle/input/dentistry-image-dataset/train/labels/0000296_png_jpg.rf.9e23ef918acdef87113ad30feef659e3.txt\n",
      "/kaggle/input/dentistry-image-dataset/train/labels/0000577_png_jpg.rf.1f5984923eab146af3163220b508026c.txt\n",
      "/kaggle/input/dentistry-image-dataset/train/labels/0000313_png_jpg.rf.96845500cab4a3f4a9de9250e7af17d1.txt\n",
      "/kaggle/input/dentistry-image-dataset/train/labels/0000126_png_jpg.rf.d1352cd491bc84c3ea59f04590cc4405.txt\n",
      "/kaggle/input/dentistry-image-dataset/train/labels/0000052_png_jpg.rf.933b15347d6831ea978c74b8e8f24d26.txt\n",
      "/kaggle/input/dentistry-image-dataset/train/labels/0000254_png_jpg.rf.9f09d953be1d03c797c1df7ede5f6ad3.txt\n",
      "/kaggle/input/dentistry-image-dataset/train/labels/0000306_png_jpg.rf.a03332e5bac6a0e92e3b2ebd80b42877.txt\n",
      "/kaggle/input/dentistry-image-dataset/train/labels/0000588_png_jpg.rf.7bb657b027c5ece022b11e03fd80f138.txt\n",
      "/kaggle/input/dentistry-image-dataset/train/labels/0000643_png_jpg.rf.4dac6059703fda3cf98f5c0b7be29b99.txt\n",
      "/kaggle/input/dentistry-image-dataset/train/labels/0000529_png_jpg.rf.ab5d8561e69b61063178fbb90dc5575d.txt\n",
      "/kaggle/input/dentistry-image-dataset/train/labels/0000142_png_jpg.rf.f63975a4291696d26d4939ca0c4ee9c6.txt\n",
      "/kaggle/input/dentistry-image-dataset/train/labels/0000687_png_jpg.rf.99561691356a57732b49f092dc9c1c0c.txt\n",
      "/kaggle/input/dentistry-image-dataset/train/labels/0000021_png_jpg.rf.a66b4d65f6410b7e5c567b89de75afb2.txt\n",
      "/kaggle/input/dentistry-image-dataset/train/labels/0000272_png_jpg.rf.5c78c43abf6f4c6e4a49924c0b3389c3.txt\n",
      "/kaggle/input/dentistry-image-dataset/train/labels/0000616_png_jpg.rf.6f5265cb074700b98a607254478ffb1c.txt\n",
      "/kaggle/input/dentistry-image-dataset/train/labels/0000551_png_jpg.rf.46403127390812043dfee91caef85624.txt\n",
      "/kaggle/input/dentistry-image-dataset/train/labels/0000534_png_jpg.rf.4ce49a8283375f74909d4892d641df94.txt\n",
      "/kaggle/input/dentistry-image-dataset/train/labels/0000528_png_jpg.rf.e5727231620cabb9352004eb56a01b19.txt\n",
      "/kaggle/input/dentistry-image-dataset/train/labels/0000268_png_jpg.rf.a22464a1490fe8a585a4c2eedf739f89.txt\n",
      "/kaggle/input/dentistry-image-dataset/train/labels/0000062_png_jpg.rf.1dc56b4f96dff7230f61a390b5def87a.txt\n",
      "/kaggle/input/dentistry-image-dataset/train/labels/0000417_png_jpg.rf.105b5f54c87764a40a26c63feff63462.txt\n",
      "/kaggle/input/dentistry-image-dataset/train/labels/0000404_png_jpg.rf.afa2c1035b07646f1a78e6f234a6aa27.txt\n",
      "/kaggle/input/dentistry-image-dataset/train/labels/0000175_png_jpg.rf.448077f338f850d76873046f2121ec41.txt\n",
      "/kaggle/input/dentistry-image-dataset/train/images/0000515_png_jpg.rf.6d92a5e36946897551dcb145be3fc8a2.jpg\n",
      "/kaggle/input/dentistry-image-dataset/train/images/0000407_png_jpg.rf.31a5b713db458e3fcc4fd5af808418bd.jpg\n",
      "/kaggle/input/dentistry-image-dataset/train/images/0000149_png_jpg.rf.0ac475b92f2f1835955af39ccd7c8bec.jpg\n",
      "/kaggle/input/dentistry-image-dataset/train/images/0000128_png_jpg.rf.309c8504143d2b314eee5ad981f4160e.jpg\n",
      "/kaggle/input/dentistry-image-dataset/train/images/0000181_png_jpg.rf.ce51914d59c4a05721e6d5bbc8074823.jpg\n",
      "/kaggle/input/dentistry-image-dataset/train/images/0000059_png_jpg.rf.95973a2f10361bd598c590bfdeba91e4.jpg\n",
      "/kaggle/input/dentistry-image-dataset/train/images/0000140_png_jpg.rf.2a5f33722ee81ac70d274b14a5d55250.jpg\n",
      "/kaggle/input/dentistry-image-dataset/train/images/0000024_png_jpg.rf.9ea6b868008b9939a371df0759296d3e.jpg\n",
      "/kaggle/input/dentistry-image-dataset/train/images/0000479_png_jpg.rf.c08a8fc1e95eddb5ba37e2a11fcbcf6e.jpg\n",
      "/kaggle/input/dentistry-image-dataset/train/images/0000073_png_jpg.rf.9e1e1a4deeb880b813428f45d748c97c.jpg\n",
      "/kaggle/input/dentistry-image-dataset/train/images/0000572_png_jpg.rf.6876b8f6189e2d3247faaf51a495d7f7.jpg\n",
      "/kaggle/input/dentistry-image-dataset/train/images/0000395_png_jpg.rf.07f2da04f3874d586b9398da96002b8c.jpg\n",
      "/kaggle/input/dentistry-image-dataset/train/images/0000561_png_jpg.rf.9ef2157014e9f5f5b95ace581fff6876.jpg\n",
      "/kaggle/input/dentistry-image-dataset/train/images/0000522_png_jpg.rf.5a5df7fd4e82e1a11165a8914526e531.jpg\n",
      "/kaggle/input/dentistry-image-dataset/train/images/0000288_png_jpg.rf.92cc8a90d407037aba0f90cd1c7df897.jpg\n",
      "/kaggle/input/dentistry-image-dataset/train/images/0000253_png_jpg.rf.4ca7d4d96a3b91f8ce99fe6c7bc73004.jpg\n",
      "/kaggle/input/dentistry-image-dataset/train/images/0000616_png_jpg.rf.6f5265cb074700b98a607254478ffb1c.jpg\n",
      "/kaggle/input/dentistry-image-dataset/train/images/0000027_png_jpg.rf.49e132d4b21c91958a475ef1b9193a42.jpg\n",
      "/kaggle/input/dentistry-image-dataset/train/images/0000327_png_jpg.rf.65ccff9baa33afd60a4befd23e188094.jpg\n",
      "/kaggle/input/dentistry-image-dataset/train/images/0000296_png_jpg.rf.9e23ef918acdef87113ad30feef659e3.jpg\n",
      "/kaggle/input/dentistry-image-dataset/train/images/0000535_png_jpg.rf.e2c5829e13d0c7ee98c62d628838b1f2.jpg\n",
      "/kaggle/input/dentistry-image-dataset/train/images/0000469_png_jpg.rf.81081e6c537a5d41b0c8d0c18bf94881.jpg\n",
      "/kaggle/input/dentistry-image-dataset/train/images/0000324_png_jpg.rf.4f5197de438fe10c926f95b3faeb8300.jpg\n",
      "/kaggle/input/dentistry-image-dataset/train/images/0000682_png_jpg.rf.87aba194afff7879b06314fb97607a8d.jpg\n",
      "/kaggle/input/dentistry-image-dataset/train/images/0000462_png_jpg.rf.9ade0563e92d8062d632a3eee2675452.jpg\n",
      "/kaggle/input/dentistry-image-dataset/train/images/0000025_png_jpg.rf.85d42f1d09aced118e0ceb8ee3744193.jpg\n",
      "/kaggle/input/dentistry-image-dataset/train/images/0000114_png_jpg.rf.18f3acc644648bb9f214454ef28b93f1.jpg\n",
      "/kaggle/input/dentistry-image-dataset/train/images/0000174_png_jpg.rf.438cf8f8a064eb6f8c4361e6deb1fcfa.jpg\n",
      "/kaggle/input/dentistry-image-dataset/train/images/0000613_png_jpg.rf.373115bdf5c57820f611a38ab36c74c3.jpg\n",
      "/kaggle/input/dentistry-image-dataset/train/images/0000356_png_jpg.rf.ed57af4d9b64f217a9d2280f98ac04d6.jpg\n",
      "/kaggle/input/dentistry-image-dataset/train/images/0000499_png_jpg.rf.1dfd724b46a3b011d6a47240c076afed.jpg\n",
      "/kaggle/input/dentistry-image-dataset/train/images/0000466_png_jpg.rf.e643115d75a6ab2f80fb278c70f897a3.jpg\n",
      "/kaggle/input/dentistry-image-dataset/train/images/0000384_png_jpg.rf.3807e3d7b6a7d56c2f065f5047970cba.jpg\n",
      "/kaggle/input/dentistry-image-dataset/train/images/0000243_png_jpg.rf.9423149e5ecaba92638dd67aac9d71ac.jpg\n",
      "/kaggle/input/dentistry-image-dataset/train/images/0000392_png_jpg.rf.2a1a50a41d4779d4ea747a8724ec6cb5.jpg\n",
      "/kaggle/input/dentistry-image-dataset/train/images/0000415_png_jpg.rf.c07b15a36e7376665eb85ce79a740b48.jpg\n",
      "/kaggle/input/dentistry-image-dataset/train/images/0000335_png_jpg.rf.8f79b72cc531855def2f7ddc4fa1fedb.jpg\n",
      "/kaggle/input/dentistry-image-dataset/train/images/0000559_png_jpg.rf.d15b1c1394947e30f51e302e17805a9b.jpg\n",
      "/kaggle/input/dentistry-image-dataset/train/images/0000162_png_jpg.rf.104ffae0fdf82dcb1b2d64371e664859.jpg\n",
      "/kaggle/input/dentistry-image-dataset/train/images/0000388_png_jpg.rf.b2d918e8b8bfa0c4ce99688755a539aa.jpg\n",
      "/kaggle/input/dentistry-image-dataset/train/images/0000086_png_jpg.rf.846a6c764459a8a951b708eaf989aa9d.jpg\n",
      "/kaggle/input/dentistry-image-dataset/train/images/0000317_png_jpg.rf.cc484c334288107fe486e7ef45f02ca1.jpg\n",
      "/kaggle/input/dentistry-image-dataset/train/images/0000064_png_jpg.rf.1684c568f446a9e8ee52d316d2fc67dc.jpg\n",
      "/kaggle/input/dentistry-image-dataset/train/images/0000015_png_jpg.rf.f832cd505622ad8582ac2b1be056a337.jpg\n",
      "/kaggle/input/dentistry-image-dataset/train/images/0000040_png_jpg.rf.d4eaad35496c5021a8209ce4e3d63188.jpg\n",
      "/kaggle/input/dentistry-image-dataset/train/images/0000633_png_jpg.rf.da2bbc07eee5a88dd39b198c7ce2de4d.jpg\n",
      "/kaggle/input/dentistry-image-dataset/train/images/0000170_png_jpg.rf.4cc1ccc09e1fca04680486c24fa28e54.jpg\n",
      "/kaggle/input/dentistry-image-dataset/train/images/0000191_png_jpg.rf.10a76e311e74c8692edb7fe1a3477225.jpg\n",
      "/kaggle/input/dentistry-image-dataset/train/images/0000424_png_jpg.rf.0b043fabf7165edbfa4cc7f49ad452a9.jpg\n",
      "/kaggle/input/dentistry-image-dataset/train/images/0000099_png_jpg.rf.0bc9e927e083c9fe10a82c1ec3cec885.jpg\n",
      "/kaggle/input/dentistry-image-dataset/train/images/0000080_png_jpg.rf.fb6ce648c74404e6b5c3b615523c28ed.jpg\n",
      "/kaggle/input/dentistry-image-dataset/train/images/0000269_png_jpg.rf.60f1581f0b0812cc374e85be5690db38.jpg\n",
      "/kaggle/input/dentistry-image-dataset/train/images/0000538_png_jpg.rf.273fa2ba21daaf8c6e7bccaa648dc648.jpg\n",
      "/kaggle/input/dentistry-image-dataset/train/images/0000084_png_jpg.rf.658ff628769d245d80089ae72ea9e6f9.jpg\n",
      "/kaggle/input/dentistry-image-dataset/train/images/0000168_png_jpg.rf.b15ff683260d37abf39caa7853f99a09.jpg\n",
      "/kaggle/input/dentistry-image-dataset/train/images/0000058_png_jpg.rf.4767a033ab09910762a777320324c72a.jpg\n",
      "/kaggle/input/dentistry-image-dataset/train/images/0000348_png_jpg.rf.9175635eb27b9fd9c435c3a4fe1f81c6.jpg\n",
      "/kaggle/input/dentistry-image-dataset/train/images/0000353_png_jpg.rf.6213dedfd344210da72aef758e502373.jpg\n",
      "/kaggle/input/dentistry-image-dataset/train/images/0000643_png_jpg.rf.4dac6059703fda3cf98f5c0b7be29b99.jpg\n",
      "/kaggle/input/dentistry-image-dataset/train/images/0000683_png_jpg.rf.09a088d3143884cc26ac5cacd13d6075.jpg\n",
      "/kaggle/input/dentistry-image-dataset/train/images/0000180_png_jpg.rf.60013c021e310ff18c2c4626f47848c6.jpg\n",
      "/kaggle/input/dentistry-image-dataset/train/images/0000230_png_jpg.rf.3cb93b9e8947e2e9dc10124b4693bc2f.jpg\n",
      "/kaggle/input/dentistry-image-dataset/train/images/0000069_png_jpg.rf.5d693efd9c358d7a495f1e60fa94c445.jpg\n",
      "/kaggle/input/dentistry-image-dataset/train/images/0000420_png_jpg.rf.33f48087b10166cf383267dbeb6ac17c.jpg\n",
      "/kaggle/input/dentistry-image-dataset/train/images/0000486_png_jpg.rf.3048082ff194243127c20d995c0224b6.jpg\n",
      "/kaggle/input/dentistry-image-dataset/train/images/0000545_png_jpg.rf.a36dbc4adea13af3570bd23389ebca95.jpg\n",
      "/kaggle/input/dentistry-image-dataset/train/images/0000110_png_jpg.rf.07d063804511ec5ba8a0d29ff46ec01b.jpg\n",
      "/kaggle/input/dentistry-image-dataset/train/images/0000334_png_jpg.rf.8e9b22ca0ac37d7d9a3a742351fb4793.jpg\n",
      "/kaggle/input/dentistry-image-dataset/train/images/0000062_png_jpg.rf.1dc56b4f96dff7230f61a390b5def87a.jpg\n",
      "/kaggle/input/dentistry-image-dataset/train/images/0000173_png_jpg.rf.76f84d69deca33689b7bbfb3ae083769.jpg\n",
      "/kaggle/input/dentistry-image-dataset/train/images/0000576_png_jpg.rf.7302dee56b8f745f237a5f8638d14901.jpg\n",
      "/kaggle/input/dentistry-image-dataset/train/images/0000154_png_jpg.rf.190f6af01f8d949c07d759d3df180182.jpg\n",
      "/kaggle/input/dentistry-image-dataset/train/images/0000357_png_jpg.rf.a195630b0a4879937b61e4dce29fa458.jpg\n",
      "/kaggle/input/dentistry-image-dataset/train/images/0000208_png_jpg.rf.7de58c67784aec0990c4be15be18d8ae.jpg\n",
      "/kaggle/input/dentistry-image-dataset/train/images/0000014_png_jpg.rf.5b328fc4a20136c7fc105ce6d38bf3ff.jpg\n",
      "/kaggle/input/dentistry-image-dataset/train/images/0000509_png_jpg.rf.b20d067e80d93dfac38ca6d99f6b67eb.jpg\n",
      "/kaggle/input/dentistry-image-dataset/train/images/0000046_png_jpg.rf.093febc7102326eb6f32872fdc497799.jpg\n",
      "/kaggle/input/dentistry-image-dataset/train/images/0000096_png_jpg.rf.f3baffb0bb4e6fe7bf5727a85dffe78d.jpg\n",
      "/kaggle/input/dentistry-image-dataset/train/images/0000159_png_jpg.rf.9f344bc581773b08eb09941c9801036d.jpg\n",
      "/kaggle/input/dentistry-image-dataset/train/images/0000349_png_jpg.rf.c61ecba166fa2043dbe7faf0652ef5ab.jpg\n",
      "/kaggle/input/dentistry-image-dataset/train/images/0000550_png_jpg.rf.af96502b0033fea9ec75b4a31be14ba4.jpg\n",
      "/kaggle/input/dentistry-image-dataset/train/images/0000237_png_jpg.rf.6cb7987c8169f54e0d4848d6efca2681.jpg\n",
      "/kaggle/input/dentistry-image-dataset/train/images/0000286_png_jpg.rf.e44c7b2d443dc030f22e9940c4f2978e.jpg\n",
      "/kaggle/input/dentistry-image-dataset/train/images/0000628_png_jpg.rf.303c262bcdc0fe1ab30d2846c6b2a972.jpg\n",
      "/kaggle/input/dentistry-image-dataset/train/images/0000072_png_jpg.rf.54f3b1b87c20bb0373103c568f1d6871.jpg\n",
      "/kaggle/input/dentistry-image-dataset/train/images/0000292_png_jpg.rf.4f3a646afaa34c10f810419c267d3206.jpg\n",
      "/kaggle/input/dentistry-image-dataset/train/images/0000381_png_jpg.rf.ecda2eb0659fac94726a77a526e00f2b.jpg\n",
      "/kaggle/input/dentistry-image-dataset/train/images/0000436_png_jpg.rf.0f78772eda4ffcda7856023ea9e4a798.jpg\n",
      "/kaggle/input/dentistry-image-dataset/train/images/0000028_png_jpg.rf.9620b75bcb7981beb4e0a0bb98c792bd.jpg\n",
      "/kaggle/input/dentistry-image-dataset/train/images/0000368_png_jpg.rf.6c13e8c46e57e44ed70a2545be72faea.jpg\n",
      "/kaggle/input/dentistry-image-dataset/train/images/0000459_png_jpg.rf.fd89e09831463e80705ad05c000fcb90.jpg\n",
      "/kaggle/input/dentistry-image-dataset/train/images/0000339_png_jpg.rf.8e7eed6232123ef881541541bb8ec058.jpg\n",
      "/kaggle/input/dentistry-image-dataset/train/images/0000033_png_jpg.rf.1107a2275325023bb0c0a2d4f817ef51.jpg\n",
      "/kaggle/input/dentistry-image-dataset/train/images/0000326_png_jpg.rf.7077a443e1a8f69603aabe173e441df2.jpg\n",
      "/kaggle/input/dentistry-image-dataset/train/images/0000056_png_jpg.rf.60a68bb85596633ac4cefeb2cf8c66ed.jpg\n",
      "/kaggle/input/dentistry-image-dataset/train/images/0000160_png_jpg.rf.7f5edc23aa4b43b230398dc23f81a234.jpg\n",
      "/kaggle/input/dentistry-image-dataset/train/images/0000644_png_jpg.rf.e4cbef49c7e1114191e69385a7623998.jpg\n",
      "/kaggle/input/dentistry-image-dataset/train/images/0000693_png_jpg.rf.1329b921c9ed2784051a14732de17bad.jpg\n",
      "/kaggle/input/dentistry-image-dataset/train/images/0000579_png_jpg.rf.92fe69da7b731eb6965cd3d14a03ef5f.jpg\n",
      "/kaggle/input/dentistry-image-dataset/train/images/0000277_png_jpg.rf.aafd8e4bb8a1b147eb2f1c90192cbfba.jpg\n",
      "/kaggle/input/dentistry-image-dataset/train/images/0000557_png_jpg.rf.73764d4b00b58f05768c71f9df40a1ce.jpg\n",
      "/kaggle/input/dentistry-image-dataset/train/images/0000004_png_jpg.rf.eaa8739627fff81d462b46815c2a5bd4.jpg\n",
      "/kaggle/input/dentistry-image-dataset/train/images/0000216_png_jpg.rf.6cc3c14eba6f898c7582c16a63647124.jpg\n",
      "/kaggle/input/dentistry-image-dataset/train/images/0000363_png_jpg.rf.9d1ac2a605a62ecbc069a492f0ea0b7a.jpg\n",
      "/kaggle/input/dentistry-image-dataset/train/images/0000552_png_jpg.rf.02598d278c1aab54f935d64fc7d11289.jpg\n",
      "/kaggle/input/dentistry-image-dataset/train/images/0000225_png_jpg.rf.1cd4a4e49ba98fe32868a67e5a1d0ee6.jpg\n",
      "/kaggle/input/dentistry-image-dataset/train/images/0000491_png_jpg.rf.4bb5041e742e3b63523108e444dceb67.jpg\n",
      "/kaggle/input/dentistry-image-dataset/train/images/0000371_png_jpg.rf.ce6f6f47a7fe31748c35858fd9c26c96.jpg\n",
      "/kaggle/input/dentistry-image-dataset/train/images/0000502_png_jpg.rf.97496f2523618b671ab0a54772c885ab.jpg\n",
      "/kaggle/input/dentistry-image-dataset/train/images/0000260_png_jpg.rf.b0a2deca9026e49e6039a6ad52bf760e.jpg\n",
      "/kaggle/input/dentistry-image-dataset/train/images/0000142_png_jpg.rf.f63975a4291696d26d4939ca0c4ee9c6.jpg\n",
      "/kaggle/input/dentistry-image-dataset/train/images/0000659_png_jpg.rf.9d9468f307482eb42ba12f122ff7364f.jpg\n",
      "/kaggle/input/dentistry-image-dataset/train/images/0000045_png_jpg.rf.9a754b404f6f57b8beeb3a77e1ac6f98.jpg\n",
      "/kaggle/input/dentistry-image-dataset/train/images/0000215_png_jpg.rf.262b32f555af3f10294cb39888946fdb.jpg\n",
      "/kaggle/input/dentistry-image-dataset/train/images/0000427_png_jpg.rf.8d6b92e157c5b309eb35126cf72b2617.jpg\n",
      "/kaggle/input/dentistry-image-dataset/train/images/0000519_png_jpg.rf.8b3ec9961b1d89a289a945737f97ae3a.jpg\n",
      "/kaggle/input/dentistry-image-dataset/train/images/0000093_png_jpg.rf.e5664824c21b8a2c74a1695b5ee919a4.jpg\n",
      "/kaggle/input/dentistry-image-dataset/train/images/0000276_png_jpg.rf.3ef6a39d11431c09c0a6cba2cd958102.jpg\n",
      "/kaggle/input/dentistry-image-dataset/train/images/0000493_png_jpg.rf.ebf8e940ff7b29a0dabb88cfcb555dd1.jpg\n",
      "/kaggle/input/dentistry-image-dataset/train/images/0000305_png_jpg.rf.25635778367387b6521dd9db97aa85cf.jpg\n",
      "/kaggle/input/dentistry-image-dataset/train/images/0000505_png_jpg.rf.8a7b538d2b29ee7a6f008dc7c444f4ae.jpg\n",
      "/kaggle/input/dentistry-image-dataset/train/images/0000188_png_jpg.rf.0eb869909c5e753a334f548f9b725a8c.jpg\n",
      "/kaggle/input/dentistry-image-dataset/train/images/0000222_png_jpg.rf.fc1dd2c147574e0a3050f5e3d12acb36.jpg\n",
      "/kaggle/input/dentistry-image-dataset/train/images/0000355_png_jpg.rf.1ebaa318033de054077fcef65d5ef82f.jpg\n",
      "/kaggle/input/dentistry-image-dataset/train/images/0000570_png_jpg.rf.a2ff6596b65bc82efec2ce6ca3749710.jpg\n",
      "/kaggle/input/dentistry-image-dataset/train/images/0000636_png_jpg.rf.24199eb4b1739d1779b360c64c2d66a9.jpg\n",
      "/kaggle/input/dentistry-image-dataset/train/images/0000413_png_jpg.rf.0791c73a78f6172477ff3791a6bb5149.jpg\n",
      "/kaggle/input/dentistry-image-dataset/train/images/0000367_png_jpg.rf.bb58d320ad88bcdc5e765fedf2a86fdd.jpg\n",
      "/kaggle/input/dentistry-image-dataset/train/images/0000095_png_jpg.rf.12767c1d80d10c199f1691b3533844a6.jpg\n",
      "/kaggle/input/dentistry-image-dataset/train/images/0000038_png_jpg.rf.595d696cfb3f3cef9d93819c63279db9.jpg\n",
      "/kaggle/input/dentistry-image-dataset/train/images/0000029_png_jpg.rf.84e9ea5efcb408c65a693dd36406a525.jpg\n",
      "/kaggle/input/dentistry-image-dataset/train/images/0000197_png_jpg.rf.b803d6e827b7b0eab1ff6863d8e9436d.jpg\n",
      "/kaggle/input/dentistry-image-dataset/train/images/0000528_png_jpg.rf.e5727231620cabb9352004eb56a01b19.jpg\n",
      "/kaggle/input/dentistry-image-dataset/train/images/0000289_png_jpg.rf.6cfe1f450aae8e6be6621b3cfdd42484.jpg\n",
      "/kaggle/input/dentistry-image-dataset/train/images/0000404_png_jpg.rf.afa2c1035b07646f1a78e6f234a6aa27.jpg\n",
      "/kaggle/input/dentistry-image-dataset/train/images/0000266_png_jpg.rf.1d06fc5076337fe204e66a6bde1b517d.jpg\n",
      "/kaggle/input/dentistry-image-dataset/train/images/0000508_png_jpg.rf.b91b42f5ceb8676a97f55fb380f27fed.jpg\n",
      "/kaggle/input/dentistry-image-dataset/train/images/0000338_png_jpg.rf.f364cb5fa43c1349fd58258899beae0b.jpg\n",
      "/kaggle/input/dentistry-image-dataset/train/images/0000438_png_jpg.rf.2e0991cffcab4589aeefcd3c6579e362.jpg\n",
      "/kaggle/input/dentistry-image-dataset/train/images/0000329_png_jpg.rf.b1686caaeddb08efcf1eec8526f5c1bf.jpg\n",
      "/kaggle/input/dentistry-image-dataset/train/images/0000229_png_jpg.rf.8d31a43a647bbcbab334fad814b1cbae.jpg\n",
      "/kaggle/input/dentistry-image-dataset/train/images/0000474_png_jpg.rf.fc1aea86c4655edde9ad37e0e66fc478.jpg\n",
      "/kaggle/input/dentistry-image-dataset/train/images/0000418_png_jpg.rf.3c39f5023c67fdf4fed0982dc3a8a9db.jpg\n",
      "/kaggle/input/dentistry-image-dataset/train/images/0000298_png_jpg.rf.8792d81dd4273fe10670c00dc83545d9.jpg\n",
      "/kaggle/input/dentistry-image-dataset/train/images/0000377_png_jpg.rf.6a6f2914dc23c7775b362f80c9d7276e.jpg\n",
      "/kaggle/input/dentistry-image-dataset/train/images/0000282_png_jpg.rf.f273c7976ab41babca77801ce4a40be7.jpg\n",
      "/kaggle/input/dentistry-image-dataset/train/images/0000066_png_jpg.rf.c419be332effcb88de95355f1417e97d.jpg\n",
      "/kaggle/input/dentistry-image-dataset/train/images/0000136_png_jpg.rf.cca43efc22057a1d31f18f00140515a1.jpg\n",
      "/kaggle/input/dentistry-image-dataset/train/images/0000661_png_jpg.rf.fb9ec276e625ada1aa064338d44a45af.jpg\n",
      "/kaggle/input/dentistry-image-dataset/train/images/0000532_png_jpg.rf.d9057aa789b0c1cda3c870e54ee3a871.jpg\n",
      "/kaggle/input/dentistry-image-dataset/train/images/0000387_png_jpg.rf.0db4c1282be3df71a79c27e76986ebbe.jpg\n",
      "/kaggle/input/dentistry-image-dataset/train/images/0000457_png_jpg.rf.a7afbe9a95d21dfd837c8772838a03e7.jpg\n",
      "/kaggle/input/dentistry-image-dataset/train/images/0000031_png_jpg.rf.19fa364a2ee88f39a406cddc84f3631c.jpg\n",
      "/kaggle/input/dentistry-image-dataset/train/images/0000236_png_jpg.rf.590cdf0e6274ac6b11de6ef99ac31431.jpg\n",
      "/kaggle/input/dentistry-image-dataset/train/images/0000130_png_jpg.rf.635351bdc0029bf3bb7fa01c23f34319.jpg\n",
      "/kaggle/input/dentistry-image-dataset/train/images/0000696_png_jpg.rf.b1ed71c4a6f8719f6e377eb77cce5b7c.jpg\n",
      "/kaggle/input/dentistry-image-dataset/train/images/0000035_png_jpg.rf.58ebacd67f3ce90bfc0920c78f66b3c4.jpg\n",
      "/kaggle/input/dentistry-image-dataset/train/images/0000313_png_jpg.rf.96845500cab4a3f4a9de9250e7af17d1.jpg\n",
      "/kaggle/input/dentistry-image-dataset/train/images/0000032_png_jpg.rf.0ca1c81b6d4894bf6d6bd4b4eb69f719.jpg\n",
      "/kaggle/input/dentistry-image-dataset/train/images/0000272_png_jpg.rf.5c78c43abf6f4c6e4a49924c0b3389c3.jpg\n",
      "/kaggle/input/dentistry-image-dataset/train/images/0000629_png_jpg.rf.1a5b25633a45e40c5ca600a2e60c6663.jpg\n",
      "/kaggle/input/dentistry-image-dataset/train/images/0000524_png_jpg.rf.4bd0b3c9adaae1a04c967920ef930703.jpg\n",
      "/kaggle/input/dentistry-image-dataset/train/images/0000176_png_jpg.rf.2184f0abfdbb4abbe7db32cb68a60a9b.jpg\n",
      "/kaggle/input/dentistry-image-dataset/train/images/0000658_png_jpg.rf.6a0d8779ac7061fc4fc04d0492d0174c.jpg\n",
      "/kaggle/input/dentistry-image-dataset/train/images/0000428_png_jpg.rf.a584fd17127db70b1d2378f636d05ae9.jpg\n",
      "/kaggle/input/dentistry-image-dataset/train/images/0000539_png_jpg.rf.8396a91ace8957c5879f33a87bbda626.jpg\n",
      "/kaggle/input/dentistry-image-dataset/train/images/0000051_png_jpg.rf.f90fe1b88553618e1223ee6c651e85b4.jpg\n",
      "/kaggle/input/dentistry-image-dataset/train/images/0000301_png_jpg.rf.6b55d4c739d4a5f14fb5ec354a89c5a2.jpg\n",
      "/kaggle/input/dentistry-image-dataset/train/images/0000583_png_jpg.rf.a63e224bcc591bb9d3632628a8b49cc6.jpg\n",
      "/kaggle/input/dentistry-image-dataset/train/images/0000341_png_jpg.rf.5ef8c60ac3319032c55cf11a60b98d0d.jpg\n",
      "/kaggle/input/dentistry-image-dataset/train/images/0000319_png_jpg.rf.c9a328b75a4f4197ffa6ca81452e4ec2.jpg\n",
      "/kaggle/input/dentistry-image-dataset/train/images/0000090_png_jpg.rf.1f339d8e4cc6b2dbdfd0e4cb8628cdf3.jpg\n",
      "/kaggle/input/dentistry-image-dataset/train/images/0000143_png_jpg.rf.e257e10f2123192e2b74bcb4739a12e7.jpg\n",
      "/kaggle/input/dentistry-image-dataset/train/images/0000287_png_jpg.rf.124739ae69df343bc999ff917cb0d819.jpg\n",
      "/kaggle/input/dentistry-image-dataset/train/images/0000477_png_jpg.rf.061110809044ccfe955a4919ae7aa90b.jpg\n",
      "/kaggle/input/dentistry-image-dataset/train/images/0000106_png_jpg.rf.43da111636d26810b655529836446634.jpg\n",
      "/kaggle/input/dentistry-image-dataset/train/images/0000209_png_jpg.rf.96c3fd72374e9b05d2ba633e708db924.jpg\n",
      "/kaggle/input/dentistry-image-dataset/train/images/0000560_png_jpg.rf.1048046ac877109f89753944bf11fe60.jpg\n",
      "/kaggle/input/dentistry-image-dataset/train/images/0000250_png_jpg.rf.66f77b0ea0c94de092901f5e005049e0.jpg\n",
      "/kaggle/input/dentistry-image-dataset/train/images/0000074_png_jpg.rf.bc885b17a48f9803db5ea77bdba31813.jpg\n",
      "/kaggle/input/dentistry-image-dataset/train/images/0000171_png_jpg.rf.33985d796f6561f58e819718386a5e64.jpg\n",
      "/kaggle/input/dentistry-image-dataset/train/images/0000416_png_jpg.rf.55b4e42d7ef32b94269d7a0a3a0f2301.jpg\n",
      "/kaggle/input/dentistry-image-dataset/train/images/0000102_png_jpg.rf.0c190792d369177cc572ea627de6127e.jpg\n",
      "/kaggle/input/dentistry-image-dataset/train/images/0000007_png_jpg.rf.917842da82da85fb676d7c8fc3473263.jpg\n",
      "/kaggle/input/dentistry-image-dataset/train/images/0000285_png_jpg.rf.93d85510a5da551aa12cc65ed41abac5.jpg\n",
      "/kaggle/input/dentistry-image-dataset/train/images/0000485_png_jpg.rf.3b81610c8f2789d9ee9928373af7bab7.jpg\n",
      "/kaggle/input/dentistry-image-dataset/train/images/0000251_png_jpg.rf.500ddddb9dde25f62a1b1201392b2654.jpg\n",
      "/kaggle/input/dentistry-image-dataset/train/images/0000615_png_jpg.rf.09a21c3689c152fac1099d5fa0a30300.jpg\n",
      "/kaggle/input/dentistry-image-dataset/train/images/0000021_png_jpg.rf.a66b4d65f6410b7e5c567b89de75afb2.jpg\n",
      "/kaggle/input/dentistry-image-dataset/train/images/0000204_png_jpg.rf.8d6dc3e07539b8858f851c1e37a34e86.jpg\n",
      "/kaggle/input/dentistry-image-dataset/train/images/0000555_png_jpg.rf.3dd6693a155b668b8917f843b86099e0.jpg\n",
      "/kaggle/input/dentistry-image-dataset/train/images/0000278_png_jpg.rf.3f813c904a95aecb0abc0e9640b208b2.jpg\n",
      "/kaggle/input/dentistry-image-dataset/train/images/0000118_png_jpg.rf.b052e9e51f6ba211ca8fa5e6d26ec9fd.jpg\n",
      "/kaggle/input/dentistry-image-dataset/train/images/0000263_png_jpg.rf.53ede195924f61955fce95baaa89fde6.jpg\n",
      "/kaggle/input/dentistry-image-dataset/train/images/0000047_png_jpg.rf.48885f0115148098065fdbfe0b3ed488.jpg\n",
      "/kaggle/input/dentistry-image-dataset/train/images/0000265_png_jpg.rf.e917a41521d0167e85fa22389661dbcc.jpg\n",
      "/kaggle/input/dentistry-image-dataset/train/images/0000048_png_jpg.rf.bd890b95ddb66861521ec803ffdf06cf.jpg\n",
      "/kaggle/input/dentistry-image-dataset/train/images/0000390_png_jpg.rf.3eb84abd5561437ebc608c1ac3c465ee.jpg\n",
      "/kaggle/input/dentistry-image-dataset/train/images/0000321_png_jpg.rf.cafb711bc749e9c7ae486599de4df725.jpg\n",
      "/kaggle/input/dentistry-image-dataset/train/images/0000026_png_jpg.rf.4a93be0d867eee6100a0a2411031ffd6.jpg\n",
      "/kaggle/input/dentistry-image-dataset/train/images/0000574_png_jpg.rf.de51667f1f491e301c6ddf6a424f5734.jpg\n",
      "/kaggle/input/dentistry-image-dataset/train/images/0000182_png_jpg.rf.bcdc0a1fc5fa2786ee652fd665f5a473.jpg\n",
      "/kaggle/input/dentistry-image-dataset/train/images/0000121_png_jpg.rf.7e28aeff461194eb78e8536c354b0137.jpg\n",
      "/kaggle/input/dentistry-image-dataset/train/images/0000009_png_jpg.rf.9b26ea06cab36deecc7126682c95c311.jpg\n",
      "/kaggle/input/dentistry-image-dataset/train/images/0000186_png_jpg.rf.6d64152467a33ee476a11a3424387f5d.jpg\n",
      "/kaggle/input/dentistry-image-dataset/train/images/0000597_png_jpg.rf.9055ed9903d623b49e539d101c176ce1.jpg\n",
      "/kaggle/input/dentistry-image-dataset/train/images/0000256_png_jpg.rf.406adcca089e7201b4cc8fc2dc37808d.jpg\n",
      "/kaggle/input/dentistry-image-dataset/train/images/0000458_png_jpg.rf.410ef44c384abc42a37c1efbc9e4d111.jpg\n",
      "/kaggle/input/dentistry-image-dataset/train/images/0000600_png_jpg.rf.405f4ed3601f0abcb524e70da7b55459.jpg\n",
      "/kaggle/input/dentistry-image-dataset/train/images/0000184_png_jpg.rf.73287cc7e13dedc79912b8eae209dafa.jpg\n",
      "/kaggle/input/dentistry-image-dataset/train/images/0000642_png_jpg.rf.5fe9f4e66d5c413b979522000c41e200.jpg\n",
      "/kaggle/input/dentistry-image-dataset/train/images/0000588_png_jpg.rf.7bb657b027c5ece022b11e03fd80f138.jpg\n",
      "/kaggle/input/dentistry-image-dataset/train/images/0000098_png_jpg.rf.fb8c43949b827a8fca770b6f626395f4.jpg\n",
      "/kaggle/input/dentistry-image-dataset/train/images/0000394_png_jpg.rf.c89614430dd4f3577403dfd609e9fd59.jpg\n",
      "/kaggle/input/dentistry-image-dataset/train/images/0000365_png_jpg.rf.4f3194607fb98fbc77c4bce54ea8bc1a.jpg\n",
      "/kaggle/input/dentistry-image-dataset/train/images/0000094_png_jpg.rf.ce39951eee64ac5a9a1173e28526849e.jpg\n",
      "/kaggle/input/dentistry-image-dataset/train/images/0000113_png_jpg.rf.e642964cc86498b225118b29a81d18c6.jpg\n",
      "/kaggle/input/dentistry-image-dataset/train/images/0000166_png_jpg.rf.914d94881d77fc880baf064a0dbe9a05.jpg\n",
      "/kaggle/input/dentistry-image-dataset/train/images/0000003_png_jpg.rf.f1c39d147b81b221a608f2234bd832c3.jpg\n",
      "/kaggle/input/dentistry-image-dataset/train/images/0000488_png_jpg.rf.a81385252d0fa76cae755b3914193353.jpg\n",
      "/kaggle/input/dentistry-image-dataset/train/images/0000199_png_jpg.rf.1c88d3c93729eaeefd25d29a114d8721.jpg\n",
      "/kaggle/input/dentistry-image-dataset/train/images/0000660_png_jpg.rf.2b95a47f41fe159d7431eac47ffbe970.jpg\n",
      "/kaggle/input/dentistry-image-dataset/train/images/0000010_png_jpg.rf.6a5843295faf9323a21fc5ddc231ea7e.jpg\n",
      "/kaggle/input/dentistry-image-dataset/train/images/0000481_png_jpg.rf.94c27aeb4ee9d2d4dd2f7e032600c829.jpg\n",
      "/kaggle/input/dentistry-image-dataset/train/images/0000578_png_jpg.rf.86a3f2ff843a9afbf8560a12fb444e41.jpg\n",
      "/kaggle/input/dentistry-image-dataset/train/images/0000175_png_jpg.rf.448077f338f850d76873046f2121ec41.jpg\n",
      "/kaggle/input/dentistry-image-dataset/train/images/0000111_png_jpg.rf.fd16a2991606340127bf789a2dc707de.jpg\n",
      "/kaggle/input/dentistry-image-dataset/train/images/0000267_png_jpg.rf.d62b3f4ae6ff6fb62f39d01963733907.jpg\n",
      "/kaggle/input/dentistry-image-dataset/train/images/0000558_png_jpg.rf.283dd4559dde39d1c7152a018b8bd6f0.jpg\n",
      "/kaggle/input/dentistry-image-dataset/train/images/0000259_png_jpg.rf.423d4c2abe9113081d4bbe8c2845bfad.jpg\n",
      "/kaggle/input/dentistry-image-dataset/train/images/0000375_png_jpg.rf.a07c501c9802dc4bf7d439fa53986937.jpg\n",
      "/kaggle/input/dentistry-image-dataset/train/images/0000464_png_jpg.rf.1b4c18b0f3788b3c17f8e704052af653.jpg\n",
      "/kaggle/input/dentistry-image-dataset/train/images/0000078_png_jpg.rf.94395276dde9fc1ef60a7a9a118636ff.jpg\n",
      "/kaggle/input/dentistry-image-dataset/train/images/0000593_png_jpg.rf.a0001c16190dd3479d1950a606a25dc3.jpg\n",
      "/kaggle/input/dentistry-image-dataset/train/images/0000566_png_jpg.rf.a764ddcbeb328e90739b70d20fd07225.jpg\n",
      "/kaggle/input/dentistry-image-dataset/train/images/0000119_png_jpg.rf.8d48d8ca3c558755487c65f3245f4381.jpg\n",
      "/kaggle/input/dentistry-image-dataset/train/images/0000675_png_jpg.rf.87a70a5a8fde46ebd42ed594b2578d71.jpg\n",
      "/kaggle/input/dentistry-image-dataset/train/images/0000297_png_jpg.rf.8cb07728257a597ae0247af73333b14c.jpg\n",
      "/kaggle/input/dentistry-image-dataset/train/images/0000472_png_jpg.rf.7e0e9b9683727c0ec50bc93ab22f475a.jpg\n",
      "/kaggle/input/dentistry-image-dataset/train/images/0000699_png_jpg.rf.950206ded84620f8ceef6de3e5143eb6.jpg\n",
      "/kaggle/input/dentistry-image-dataset/train/images/0000202_png_jpg.rf.b89b417f61fc76f81e8ce50a9a42fee8.jpg\n",
      "/kaggle/input/dentistry-image-dataset/train/images/0000577_png_jpg.rf.1f5984923eab146af3163220b508026c.jpg\n",
      "/kaggle/input/dentistry-image-dataset/train/images/0000034_png_jpg.rf.a6e006fbc533e2adb8d1a670f4c9f843.jpg\n",
      "/kaggle/input/dentistry-image-dataset/train/images/0000239_png_jpg.rf.b046f0aea8cf6883d6d7d2da4438043e.jpg\n",
      "/kaggle/input/dentistry-image-dataset/train/images/0000280_png_jpg.rf.eadc957dec62e43059b022ad34074762.jpg\n",
      "/kaggle/input/dentistry-image-dataset/train/images/0000563_png_jpg.rf.753c5e99f73b2f3a50128edae1df15d6.jpg\n",
      "/kaggle/input/dentistry-image-dataset/train/images/0000002_png_jpg.rf.3710c7effccf15e5c4c6596d8acdf1ea.jpg\n",
      "/kaggle/input/dentistry-image-dataset/train/images/0000637_png_jpg.rf.becae02313908b1efd4db889b0f484e4.jpg\n",
      "/kaggle/input/dentistry-image-dataset/train/images/0000220_png_jpg.rf.7cc297f0623329bb2734a4f636904e45.jpg\n",
      "/kaggle/input/dentistry-image-dataset/train/images/0000300_png_jpg.rf.94b4bdd45763f9067b42285dd21e2ce7.jpg\n",
      "/kaggle/input/dentistry-image-dataset/train/images/0000120_png_jpg.rf.7d5bf210ab3e30479d3fbfe913f4a1f9.jpg\n",
      "/kaggle/input/dentistry-image-dataset/train/images/0000125_png_jpg.rf.42804f2c5737aa7262d7f5c6319b920d.jpg\n",
      "/kaggle/input/dentistry-image-dataset/train/images/0000185_png_jpg.rf.75f5d70843f7700dc6a0e48440b61ba8.jpg\n",
      "/kaggle/input/dentistry-image-dataset/train/images/0000640_png_jpg.rf.3eb37b5b7cccce32248ee3830beebd81.jpg\n",
      "/kaggle/input/dentistry-image-dataset/train/images/0000332_png_jpg.rf.37a909594d746bc81c736ea0339b5e05.jpg\n",
      "/kaggle/input/dentistry-image-dataset/train/images/0000065_png_jpg.rf.282dbaed022f0b374864cac9716d80d4.jpg\n",
      "/kaggle/input/dentistry-image-dataset/train/images/0000104_png_jpg.rf.872cd1c03b216162516fb751ddb49ca4.jpg\n",
      "/kaggle/input/dentistry-image-dataset/train/images/0000465_png_jpg.rf.c8b66d9e0b252d682305ba943373ae39.jpg\n",
      "/kaggle/input/dentistry-image-dataset/train/images/0000291_png_jpg.rf.35ce866db4607fe58013d6bce75f8c93.jpg\n",
      "/kaggle/input/dentistry-image-dataset/train/images/0000075_png_jpg.rf.bff9798ca68bd4a5314eebf7d312899d.jpg\n",
      "/kaggle/input/dentistry-image-dataset/train/images/0000211_png_jpg.rf.2c44b4064ccf5669577bedf180d80324.jpg\n",
      "/kaggle/input/dentistry-image-dataset/train/images/0000315_png_jpg.rf.739d17ea604d1ce072daa3bda4a009c7.jpg\n",
      "/kaggle/input/dentistry-image-dataset/train/images/0000235_png_jpg.rf.3635b4aa67c7379ae382c5274f845ef8.jpg\n",
      "/kaggle/input/dentistry-image-dataset/train/images/0000200_png_jpg.rf.e14d8b5cac50b628d55e7f366e1aea45.jpg\n",
      "/kaggle/input/dentistry-image-dataset/train/images/0000684_png_jpg.rf.6a3af251a5cfceef7ae650523f256b3d.jpg\n",
      "/kaggle/input/dentistry-image-dataset/train/images/0000148_png_jpg.rf.42275f1dd1a9912418633ec7273475c8.jpg\n",
      "/kaggle/input/dentistry-image-dataset/train/images/0000672_png_jpg.rf.8fb8c1f4bf628c59c022f4ec5394eba8.jpg\n",
      "/kaggle/input/dentistry-image-dataset/train/images/0000700_png_jpg.rf.8a646adc6233de506fbc11fc8988997e.jpg\n",
      "/kaggle/input/dentistry-image-dataset/train/images/0000079_png_jpg.rf.1486c166fc2b4767859e519fe9e3db29.jpg\n",
      "/kaggle/input/dentistry-image-dataset/train/images/0000609_png_jpg.rf.21e89c781ab4ef891ed2ca30a08c380b.jpg\n",
      "/kaggle/input/dentistry-image-dataset/train/images/0000306_png_jpg.rf.a03332e5bac6a0e92e3b2ebd80b42877.jpg\n",
      "/kaggle/input/dentistry-image-dataset/train/images/0000134_png_jpg.rf.7950ae714d564ce8d3f4866be8b13a36.jpg\n",
      "/kaggle/input/dentistry-image-dataset/train/images/0000518_png_jpg.rf.461f3b948189b796a13f0ff76dbfe269.jpg\n",
      "/kaggle/input/dentistry-image-dataset/train/images/0000511_png_jpg.rf.d004608599052301c9e21c95bdba6775.jpg\n",
      "/kaggle/input/dentistry-image-dataset/train/images/0000172_png_jpg.rf.986a9c09b47d4e4a04f77614cb643cc3.jpg\n",
      "/kaggle/input/dentistry-image-dataset/train/images/0000421_png_jpg.rf.05db83a97d3de7e9c387708ca946296f.jpg\n",
      "/kaggle/input/dentistry-image-dataset/train/images/0000240_png_jpg.rf.abafeff4d961a579adc05a6152472dc4.jpg\n",
      "/kaggle/input/dentistry-image-dataset/train/images/0000006_png_jpg.rf.118f53b4cb59d885f4e88013c6ea2e8e.jpg\n",
      "/kaggle/input/dentistry-image-dataset/train/images/0000001_png_jpg.rf.0cd144851d07ecf2b651b731a38e17b8.jpg\n",
      "/kaggle/input/dentistry-image-dataset/train/images/0000410_png_jpg.rf.babe21ed9c542e2ae905afc4abbb40b2.jpg\n",
      "/kaggle/input/dentistry-image-dataset/train/images/0000654_png_jpg.rf.50f535a11000c97ebc6e44e317c93d07.jpg\n",
      "/kaggle/input/dentistry-image-dataset/train/images/0000177_png_jpg.rf.1eccd728638f32d753d1b76e177ff646.jpg\n",
      "/kaggle/input/dentistry-image-dataset/train/images/0000016_png_jpg.rf.e00fe354d52a02e06716818604788800.jpg\n",
      "/kaggle/input/dentistry-image-dataset/train/images/0000378_png_jpg.rf.7e7dc00200176de80fd94b0292ad1e53.jpg\n",
      "/kaggle/input/dentistry-image-dataset/train/images/0000147_png_jpg.rf.3f5d2143b5de12a11e0f4b5d4932b1ed.jpg\n",
      "/kaggle/input/dentistry-image-dataset/train/images/0000214_png_jpg.rf.2b1f104b93248ab745f38537ee6d08ce.jpg\n",
      "/kaggle/input/dentistry-image-dataset/train/images/0000037_png_jpg.rf.6312fb4a6ff7a7833bc884bab554b8b0.jpg\n",
      "/kaggle/input/dentistry-image-dataset/train/images/0000697_png_jpg.rf.4140b36c940e145351efea8830c9bc30.jpg\n",
      "/kaggle/input/dentistry-image-dataset/train/images/0000290_png_jpg.rf.7f9dff6b7e6e7e92a9701303fc83e087.jpg\n",
      "/kaggle/input/dentistry-image-dataset/train/images/0000681_png_jpg.rf.f8092bfa32943d85e04c44191d07a49f.jpg\n",
      "/kaggle/input/dentistry-image-dataset/train/images/0000665_png_jpg.rf.63660ba0cde7082a5129e2008941ccf2.jpg\n",
      "/kaggle/input/dentistry-image-dataset/train/images/0000088_png_jpg.rf.5543888fb078d2921aaea2a64da9568e.jpg\n",
      "/kaggle/input/dentistry-image-dataset/train/images/0000645_png_jpg.rf.576371932838c19960b14564385ef88f.jpg\n",
      "/kaggle/input/dentistry-image-dataset/train/images/0000105_png_jpg.rf.bbc5dd16bd5df15ee4584131e6334211.jpg\n",
      "/kaggle/input/dentistry-image-dataset/train/images/0000655_png_jpg.rf.d918d7a58e416c248b131eaf82b96ceb.jpg\n",
      "/kaggle/input/dentistry-image-dataset/train/images/0000513_png_jpg.rf.5800673e99d27f1cedc4b66f96706221.jpg\n",
      "/kaggle/input/dentistry-image-dataset/train/images/0000201_png_jpg.rf.17850159980a140d656e7429ae5c6c35.jpg\n",
      "/kaggle/input/dentistry-image-dataset/train/images/0000402_png_jpg.rf.4356331f5f1ad0a04a8680492486f739.jpg\n",
      "/kaggle/input/dentistry-image-dataset/train/images/0000575_png_jpg.rf.9c4b2b24d00cb2f64f73786988a90d2e.jpg\n",
      "/kaggle/input/dentistry-image-dataset/train/images/0000478_png_jpg.rf.42bcb5873007915ce96f1543f8d1f94a.jpg\n",
      "/kaggle/input/dentistry-image-dataset/train/images/0000238_png_jpg.rf.df920b71c433b7d47206e95850c5c0cc.jpg\n",
      "/kaggle/input/dentistry-image-dataset/train/images/0000198_png_jpg.rf.18278c07827cf18c624e3b6b1bad63e0.jpg\n",
      "/kaggle/input/dentistry-image-dataset/train/images/0000656_png_jpg.rf.d7112519fc1d275784c5c0ad48fca98d.jpg\n",
      "/kaggle/input/dentistry-image-dataset/train/images/0000041_png_jpg.rf.b69aacf86b074bd2dff6d25ffaebd02f.jpg\n",
      "/kaggle/input/dentistry-image-dataset/train/images/0000249_png_jpg.rf.28723ed4bf6d8138e4f797672d3eb1fe.jpg\n",
      "/kaggle/input/dentistry-image-dataset/train/images/0000228_png_jpg.rf.173e1c0f5a2fe3ad40ebee303473e23c.jpg\n",
      "/kaggle/input/dentistry-image-dataset/train/images/0000126_png_jpg.rf.d1352cd491bc84c3ea59f04590cc4405.jpg\n",
      "/kaggle/input/dentistry-image-dataset/train/images/0000526_png_jpg.rf.a4230ce713435773a4a1f803bfd432e7.jpg\n",
      "/kaggle/input/dentistry-image-dataset/train/images/0000414_png_jpg.rf.3fc04cab68c35b0c4bb4e3e231b5793f.jpg\n",
      "/kaggle/input/dentistry-image-dataset/train/images/0000179_png_jpg.rf.45021592c4ccccd7824ea9e164ad1322.jpg\n",
      "/kaggle/input/dentistry-image-dataset/train/images/0000608_png_jpg.rf.db89b3428c9a226194a3a2d11eb9845c.jpg\n",
      "/kaggle/input/dentistry-image-dataset/train/images/0000498_png_jpg.rf.e15f78b10cffa2e5201ba3138cf5bc56.jpg\n",
      "/kaggle/input/dentistry-image-dataset/train/images/0000152_png_jpg.rf.25b7dce5c722fd77865819b39c62c718.jpg\n",
      "/kaggle/input/dentistry-image-dataset/train/images/0000406_png_jpg.rf.c3c9330cc2f9a6282bfc46035f5af7b2.jpg\n",
      "/kaggle/input/dentistry-image-dataset/train/images/0000189_png_jpg.rf.35b0856b20e7d5b789306e1dedb7f6d9.jpg\n",
      "/kaggle/input/dentistry-image-dataset/train/images/0000351_png_jpg.rf.5b71262c0e86ffcd59d9da64a50868e2.jpg\n",
      "/kaggle/input/dentistry-image-dataset/train/images/0000534_png_jpg.rf.4ce49a8283375f74909d4892d641df94.jpg\n",
      "/kaggle/input/dentistry-image-dataset/train/images/0000052_png_jpg.rf.933b15347d6831ea978c74b8e8f24d26.jpg\n",
      "/kaggle/input/dentistry-image-dataset/train/images/0000622_png_jpg.rf.f057d8c5f24181ea07b324803b977396.jpg\n",
      "/kaggle/input/dentistry-image-dataset/train/images/0000446_png_jpg.rf.a84874932c5374338c6e6b8e046167e2.jpg\n",
      "/kaggle/input/dentistry-image-dataset/train/images/0000411_png_jpg.rf.7a670f29546058b0f973fc58754456ab.jpg\n",
      "/kaggle/input/dentistry-image-dataset/train/images/0000490_png_jpg.rf.ea0bcc140aad27e4e2a2e64874a53776.jpg\n",
      "/kaggle/input/dentistry-image-dataset/train/images/0000516_png_jpg.rf.bbe3bf77d149709c15773c55dfcec952.jpg\n",
      "/kaggle/input/dentistry-image-dataset/train/images/0000417_png_jpg.rf.105b5f54c87764a40a26c63feff63462.jpg\n",
      "/kaggle/input/dentistry-image-dataset/train/images/0000150_png_jpg.rf.b2e348b9ffe0bd67ad7e1bcabaff77cc.jpg\n",
      "/kaggle/input/dentistry-image-dataset/train/images/0000178_png_jpg.rf.0d968c3f74bb858935bf110840b3ed80.jpg\n",
      "/kaggle/input/dentistry-image-dataset/train/images/0000116_png_jpg.rf.7efd0dbed0955f98b7226bfa2d1d886d.jpg\n",
      "/kaggle/input/dentistry-image-dataset/train/images/0000453_png_jpg.rf.e117e94eebf48e0b9e273d6ef1bc92ba.jpg\n",
      "/kaggle/input/dentistry-image-dataset/train/images/0000584_png_jpg.rf.4d44ce90f445b79e9b85a20c779673eb.jpg\n",
      "/kaggle/input/dentistry-image-dataset/train/images/0000103_png_jpg.rf.b3d5386a261538da38813f224af75f2d.jpg\n",
      "/kaggle/input/dentistry-image-dataset/train/images/0000676_png_jpg.rf.7a0a630c98e2128ce624039e2a1c2a45.jpg\n",
      "/kaggle/input/dentistry-image-dataset/train/images/0000531_png_jpg.rf.2dd42a071c74a2626de298ab4f121233.jpg\n",
      "/kaggle/input/dentistry-image-dataset/train/images/0000083_png_jpg.rf.8554471556c89a8cdf25e899f66d34b3.jpg\n",
      "/kaggle/input/dentistry-image-dataset/train/images/0000241_png_jpg.rf.4cde57053d58db97dc1631966665d0ca.jpg\n",
      "/kaggle/input/dentistry-image-dataset/train/images/0000627_png_jpg.rf.43a529322522d8cb4c4de464062557ce.jpg\n",
      "/kaggle/input/dentistry-image-dataset/train/images/0000013_png_jpg.rf.a7faa40bd8099a593a5e14a5a87aee5a.jpg\n",
      "/kaggle/input/dentistry-image-dataset/train/images/0000207_png_jpg.rf.22bff1ca22334c989871d934dd98e245.jpg\n",
      "/kaggle/input/dentistry-image-dataset/train/images/0000123_png_jpg.rf.cabe5c71d48d980822ae53e6d2d2c41c.jpg\n",
      "/kaggle/input/dentistry-image-dataset/train/images/0000316_png_jpg.rf.2543e0204f8723fff4e4da0255b09b65.jpg\n",
      "/kaggle/input/dentistry-image-dataset/train/images/0000318_png_jpg.rf.5f4f3108c952cfa8694dbd5ae41bcd2b.jpg\n",
      "/kaggle/input/dentistry-image-dataset/train/images/0000077_png_jpg.rf.bb354a6f757eac3b90f645bd8056baa4.jpg\n",
      "/kaggle/input/dentistry-image-dataset/train/images/0000441_png_jpg.rf.50b2fe75816f51004b76388f5b611742.jpg\n",
      "/kaggle/input/dentistry-image-dataset/train/images/0000252_png_jpg.rf.a6863879d1a9899fb8348691f35a3a33.jpg\n",
      "/kaggle/input/dentistry-image-dataset/train/images/0000529_png_jpg.rf.ab5d8561e69b61063178fbb90dc5575d.jpg\n",
      "/kaggle/input/dentistry-image-dataset/train/images/0000165_png_jpg.rf.dbe5f4870cea0d7c2ba4c4e46649d90e.jpg\n",
      "/kaggle/input/dentistry-image-dataset/train/images/0000484_png_jpg.rf.00c9bc3b1ae3805af536510b97485e73.jpg\n",
      "/kaggle/input/dentistry-image-dataset/train/images/0000049_png_jpg.rf.dec8302bc916e95c8711c3e939bce22b.jpg\n",
      "/kaggle/input/dentistry-image-dataset/train/images/0000310_png_jpg.rf.ecff74e4219c92ca4c4008402e01f0e5.jpg\n",
      "/kaggle/input/dentistry-image-dataset/train/images/0000630_png_jpg.rf.fa7f92f0a03a1348285c13f24130372d.jpg\n",
      "/kaggle/input/dentistry-image-dataset/train/images/0000076_png_jpg.rf.c0a602d5537985742722520af39fa647.jpg\n",
      "/kaggle/input/dentistry-image-dataset/train/images/0000580_png_jpg.rf.7dc2c3926fbba2073f240cb6828d5a02.jpg\n",
      "/kaggle/input/dentistry-image-dataset/train/images/0000489_png_jpg.rf.87d932176859c279f775806f5a9a7a8c.jpg\n",
      "/kaggle/input/dentistry-image-dataset/train/images/0000053_png_jpg.rf.51f70ee778adcc1fea5e29bfe3bf1ea1.jpg\n",
      "/kaggle/input/dentistry-image-dataset/train/images/0000562_png_jpg.rf.cf159a9df194920d5d93b30b5c8f59a9.jpg\n",
      "/kaggle/input/dentistry-image-dataset/train/images/0000061_png_jpg.rf.4d2117c364dd8df2ae90b7a04618504e.jpg\n",
      "/kaggle/input/dentistry-image-dataset/train/images/0000210_png_jpg.rf.5a861304f5f3b326d128741615dceb42.jpg\n",
      "/kaggle/input/dentistry-image-dataset/train/images/0000293_png_jpg.rf.dda81c3be5f91d58e94c4bc4569309b5.jpg\n",
      "/kaggle/input/dentistry-image-dataset/train/images/0000389_png_jpg.rf.4af68be979526668966247192cf1168d.jpg\n",
      "/kaggle/input/dentistry-image-dataset/train/images/0000019_png_jpg.rf.1e29dee96ee017efeee7fa119e034db8.jpg\n",
      "/kaggle/input/dentistry-image-dataset/train/images/0000224_png_jpg.rf.8810ba29a9840045f5450206b6d237a5.jpg\n",
      "/kaggle/input/dentistry-image-dataset/train/images/0000242_png_jpg.rf.ae66ed31e3ccc500040ae71faee00472.jpg\n",
      "/kaggle/input/dentistry-image-dataset/train/images/0000536_png_jpg.rf.07699c45e2463a6a17c722f4091e8ecc.jpg\n",
      "/kaggle/input/dentistry-image-dataset/train/images/0000071_png_jpg.rf.89e984ebb2d0f90a088c2e4bf43c22dc.jpg\n",
      "/kaggle/input/dentistry-image-dataset/train/images/0000018_png_jpg.rf.6dbbf8fd812a9006c73ba711e571f342.jpg\n",
      "/kaggle/input/dentistry-image-dataset/train/images/0000309_png_jpg.rf.e391453f7b03ab0afa3e513c9ae60b88.jpg\n",
      "/kaggle/input/dentistry-image-dataset/train/images/0000463_png_jpg.rf.97dd624f16235a4e1aa2422f7f2d93b8.jpg\n",
      "/kaggle/input/dentistry-image-dataset/train/images/0000085_png_jpg.rf.e0ebef41faed86740064f8438d65bc66.jpg\n",
      "/kaggle/input/dentistry-image-dataset/train/images/0000163_png_jpg.rf.736637eb40916f8540648dacfdfb3b64.jpg\n",
      "/kaggle/input/dentistry-image-dataset/train/images/0000039_png_jpg.rf.0e12bdb7fede4d2890906b3218454778.jpg\n",
      "/kaggle/input/dentistry-image-dataset/train/images/0000671_png_jpg.rf.8d68c32288f094c2b07ae38f1f2d4701.jpg\n",
      "/kaggle/input/dentistry-image-dataset/train/images/0000081_png_jpg.rf.66a6d0838520a9552fb1abd6daa9db65.jpg\n",
      "/kaggle/input/dentistry-image-dataset/train/images/0000012_png_jpg.rf.1928d117828bad3cf346a9610297916d.jpg\n",
      "/kaggle/input/dentistry-image-dataset/train/images/0000344_png_jpg.rf.fda841379c4425ae9bcaf6362d886f7d.jpg\n",
      "/kaggle/input/dentistry-image-dataset/train/images/0000264_png_jpg.rf.a61b7179957b6fd2ee714d2d28c906a3.jpg\n",
      "/kaggle/input/dentistry-image-dataset/train/images/0000196_png_jpg.rf.0368fab02a6e124bf58c77ded14b0246.jpg\n",
      "/kaggle/input/dentistry-image-dataset/train/images/0000261_png_jpg.rf.4f23d902a320ca06a45f471e1f2c7d9a.jpg\n",
      "/kaggle/input/dentistry-image-dataset/train/images/0000213_png_jpg.rf.11e10f4208e2cc387ec5f37cbe44475f.jpg\n",
      "/kaggle/input/dentistry-image-dataset/train/images/0000303_png_jpg.rf.6793f6aa5c3f6386742ccbb0863f5e9f.jpg\n",
      "/kaggle/input/dentistry-image-dataset/train/images/0000396_png_jpg.rf.2653b6f34013e2c981bd1b79209727dc.jpg\n",
      "/kaggle/input/dentistry-image-dataset/train/images/0000408_png_jpg.rf.d4270ee4f1065db6defe4f6afc01f9dc.jpg\n",
      "/kaggle/input/dentistry-image-dataset/train/images/0000391_png_jpg.rf.b7b1766dcf4878e81001399ac9829b7d.jpg\n",
      "/kaggle/input/dentistry-image-dataset/train/images/0000617_png_jpg.rf.e90205c899cda8c65c70159881968cac.jpg\n",
      "/kaggle/input/dentistry-image-dataset/train/images/0000662_png_jpg.rf.1436684467c9dfd354fac4950b7a99a7.jpg\n",
      "/kaggle/input/dentistry-image-dataset/train/images/0000109_png_jpg.rf.17493e01f30c146c3842b5637a013315.jpg\n",
      "/kaggle/input/dentistry-image-dataset/train/images/0000352_png_jpg.rf.a320bc3ba3cd0a532ce0df882f730d3f.jpg\n",
      "/kaggle/input/dentistry-image-dataset/train/images/0000108_png_jpg.rf.3276de0cc5b79b58939d103814639aa3.jpg\n",
      "/kaggle/input/dentistry-image-dataset/train/images/0000376_png_jpg.rf.5ecc0dbc5417c7406fd4119f82889205.jpg\n",
      "/kaggle/input/dentistry-image-dataset/train/images/0000403_png_jpg.rf.b7b8976786c84f5a9faeb4efdf09547a.jpg\n",
      "/kaggle/input/dentistry-image-dataset/train/images/0000500_png_jpg.rf.25952bcb1ca0b1f34307ebf3b0f4f812.jpg\n",
      "/kaggle/input/dentistry-image-dataset/train/images/0000107_png_jpg.rf.ddbd2efc31de0776769e18db31aa25b4.jpg\n",
      "/kaggle/input/dentistry-image-dataset/train/images/0000205_png_jpg.rf.87b1a7fd49025f379b1c9c6f10fd5508.jpg\n",
      "/kaggle/input/dentistry-image-dataset/train/images/0000304_png_jpg.rf.0e6fef6d7845bffcb23fd7a54ea7781b.jpg\n",
      "/kaggle/input/dentistry-image-dataset/train/images/0000398_png_jpg.rf.3d3907eb18bfbd226b3f08fba3051aba.jpg\n",
      "/kaggle/input/dentistry-image-dataset/train/images/0000135_png_jpg.rf.403924042e8a1b99589ec45aafcd1b0e.jpg\n",
      "/kaggle/input/dentistry-image-dataset/train/images/0000506_png_jpg.rf.c5ab3b6a94051b69af1d6de492e8bc5a.jpg\n",
      "/kaggle/input/dentistry-image-dataset/train/images/0000456_png_jpg.rf.5eefe41e1a37fd4f977fb805ebb3b6c1.jpg\n",
      "/kaggle/input/dentistry-image-dataset/train/images/0000270_png_jpg.rf.d2f397e08628027faf0b5df1f5648577.jpg\n",
      "/kaggle/input/dentistry-image-dataset/train/images/0000157_png_jpg.rf.2dad0d9fef948bb160fc0c00c438fc3d.jpg\n",
      "/kaggle/input/dentistry-image-dataset/train/images/0000063_png_jpg.rf.41bdbe708a52329bb9b61f80a07d54a5.jpg\n",
      "/kaggle/input/dentistry-image-dataset/train/images/0000117_png_jpg.rf.594dad28116af1810e8d39f3518a8d43.jpg\n",
      "/kaggle/input/dentistry-image-dataset/train/images/0000648_png_jpg.rf.b1da83241bee91a805e344dfafbd049a.jpg\n",
      "/kaggle/input/dentistry-image-dataset/train/images/0000244_png_jpg.rf.f7514d3a054250134e3b58096b20ba7e.jpg\n",
      "/kaggle/input/dentistry-image-dataset/train/images/0000347_png_jpg.rf.0755925ef09b159e4b535db43662bf9e.jpg\n",
      "/kaggle/input/dentistry-image-dataset/train/images/0000221_png_jpg.rf.1b56df661ead9a0693fabf9a4dba3974.jpg\n",
      "/kaggle/input/dentistry-image-dataset/train/images/0000087_png_jpg.rf.e24a6e853074f7b2bb97491f6dc499d2.jpg\n",
      "/kaggle/input/dentistry-image-dataset/train/images/0000067_png_jpg.rf.39a6cc8eed9805c42138ce047e6d0134.jpg\n",
      "/kaggle/input/dentistry-image-dataset/train/images/0000330_png_jpg.rf.9920c7c48a31a9efb265d957f854e0ce.jpg\n",
      "/kaggle/input/dentistry-image-dataset/train/images/0000302_png_jpg.rf.ce4b891ae2b4e1c8cf692e9e158ee355.jpg\n",
      "/kaggle/input/dentistry-image-dataset/train/images/0000227_png_jpg.rf.0b21e4bd50e72db7800b57a532c598c7.jpg\n",
      "/kaggle/input/dentistry-image-dataset/train/images/0000551_png_jpg.rf.46403127390812043dfee91caef85624.jpg\n",
      "/kaggle/input/dentistry-image-dataset/train/images/0000299_png_jpg.rf.2267ac33d04cd24093f4b0bb8b784341.jpg\n",
      "/kaggle/input/dentistry-image-dataset/train/images/0000273_png_jpg.rf.7723fd5a8ff8ad5dfea9f00ffacbf907.jpg\n",
      "/kaggle/input/dentistry-image-dataset/train/images/0000345_png_jpg.rf.adcb46791a878c244e54097372cd5018.jpg\n",
      "/kaggle/input/dentistry-image-dataset/train/images/0000514_png_jpg.rf.950492b2c07148c0dba2a29b83d8ec37.jpg\n",
      "/kaggle/input/dentistry-image-dataset/train/images/0000412_png_jpg.rf.5e16373ad43b4aefcc0d222d2d438d48.jpg\n",
      "/kaggle/input/dentistry-image-dataset/train/images/0000089_png_jpg.rf.f10926fbddf2986a385266b08c6492ce.jpg\n",
      "/kaggle/input/dentistry-image-dataset/train/images/0000258_png_jpg.rf.91739b2160a1fb26d79d57b8d42487bc.jpg\n",
      "/kaggle/input/dentistry-image-dataset/train/images/0000533_png_jpg.rf.d1335f471a0391a86ac3d103ed0f2dac.jpg\n",
      "/kaggle/input/dentistry-image-dataset/train/images/0000055_png_jpg.rf.fcc5b5080acb3c24403c7d622dd048d4.jpg\n",
      "/kaggle/input/dentistry-image-dataset/train/images/0000454_png_jpg.rf.aca72614701132aee4c9cfc5a31da364.jpg\n",
      "/kaggle/input/dentistry-image-dataset/train/images/0000687_png_jpg.rf.99561691356a57732b49f092dc9c1c0c.jpg\n",
      "/kaggle/input/dentistry-image-dataset/train/images/0000337_png_jpg.rf.2a321f72cd95d32ddb7b3f9034582a24.jpg\n",
      "/kaggle/input/dentistry-image-dataset/train/images/0000054_png_jpg.rf.a5a860d350ac724fdbf5556cd327a5f7.jpg\n",
      "/kaggle/input/dentistry-image-dataset/train/images/0000685_png_jpg.rf.40eb50ae235ee64c0d8f3893fa3cee0e.jpg\n",
      "/kaggle/input/dentistry-image-dataset/train/images/0000397_png_jpg.rf.090aac41f360695d4e5e4db4933b0d2f.jpg\n",
      "/kaggle/input/dentistry-image-dataset/train/images/0000101_png_jpg.rf.065984d40b8455aeacdfc68ed7955fc7.jpg\n",
      "/kaggle/input/dentistry-image-dataset/train/images/0000487_png_jpg.rf.91355c2dc3605b6a7bad1416cd9765d5.jpg\n",
      "/kaggle/input/dentistry-image-dataset/train/images/0000137_png_jpg.rf.8774deb71ca6ff1e84e061a135454ab3.jpg\n",
      "/kaggle/input/dentistry-image-dataset/train/images/0000650_png_jpg.rf.c1377f99ad430c0acefda94fa8929338.jpg\n",
      "/kaggle/input/dentistry-image-dataset/train/images/0000122_png_jpg.rf.e765ded1b0c387011329f1e6153b176f.jpg\n",
      "/kaggle/input/dentistry-image-dataset/train/images/0000612_png_jpg.rf.ab69193e91af008a91e301292b0eef8e.jpg\n",
      "/kaggle/input/dentistry-image-dataset/train/images/0000139_png_jpg.rf.abb965c4bd80e92787577159b15a54f1.jpg\n",
      "/kaggle/input/dentistry-image-dataset/train/images/0000307_png_jpg.rf.bf4cc3a27297b13f43a3f5ed8bf4aded.jpg\n",
      "/kaggle/input/dentistry-image-dataset/train/images/0000447_png_jpg.rf.645d8818987a6014ff00c234c8e31531.jpg\n",
      "/kaggle/input/dentistry-image-dataset/train/images/0000279_png_jpg.rf.d363be117ed643d16b7bffde09c138f8.jpg\n",
      "/kaggle/input/dentistry-image-dataset/train/images/0000451_png_jpg.rf.911321aab45fc0cccbea68fddc0d7fba.jpg\n",
      "/kaggle/input/dentistry-image-dataset/train/images/0000254_png_jpg.rf.9f09d953be1d03c797c1df7ede5f6ad3.jpg\n",
      "/kaggle/input/dentistry-image-dataset/train/images/0000262_png_jpg.rf.4cb4ff5ea1b93ca9942641a93810c7dd.jpg\n",
      "/kaggle/input/dentistry-image-dataset/train/images/0000217_png_jpg.rf.6863a4368c37fa2013e604321d0585d7.jpg\n",
      "/kaggle/input/dentistry-image-dataset/train/images/0000192_png_jpg.rf.a4153925df11d1d4f11c123f0fd4af9b.jpg\n",
      "/kaggle/input/dentistry-image-dataset/train/images/0000281_png_jpg.rf.9de0ce7eb010fb5eb408c027d26b018d.jpg\n",
      "/kaggle/input/dentistry-image-dataset/train/images/0000423_png_jpg.rf.c8d46c3bf7edf0f712454d2506357d18.jpg\n",
      "/kaggle/input/dentistry-image-dataset/train/images/0000312_png_jpg.rf.3a1951438d21e5b48549d47c47b18c94.jpg\n",
      "/kaggle/input/dentistry-image-dataset/train/images/0000492_png_jpg.rf.d24357340fbfe9993fe1cf6a19f09de9.jpg\n",
      "/kaggle/input/dentistry-image-dataset/train/images/0000232_png_jpg.rf.1b04aefb77b192555f0544a30ed60385.jpg\n",
      "/kaggle/input/dentistry-image-dataset/train/images/0000206_png_jpg.rf.f529ce5bd290374c3414325536fa8190.jpg\n",
      "/kaggle/input/dentistry-image-dataset/train/images/0000057_png_jpg.rf.7c08a205aa357155053ca14eec9ef7be.jpg\n",
      "/kaggle/input/dentistry-image-dataset/train/images/0000050_png_jpg.rf.07ec374ca1099594a00eefdc1b300c26.jpg\n",
      "/kaggle/input/dentistry-image-dataset/train/images/0000325_png_jpg.rf.bb9e9fcb75fdd69a9ce3801fcc9b13b3.jpg\n",
      "/kaggle/input/dentistry-image-dataset/train/images/0000429_png_jpg.rf.a24398b210ac3fc218eb3520cfb97d0f.jpg\n",
      "/kaggle/input/dentistry-image-dataset/train/images/0000607_png_jpg.rf.4b738bf4fe25135645b790ebc3416903.jpg\n",
      "/kaggle/input/dentistry-image-dataset/train/images/0000268_png_jpg.rf.a22464a1490fe8a585a4c2eedf739f89.jpg\n"
     ]
    }
   ],
   "source": [
    "# This Python 3 environment comes with many helpful analytics libraries installed\n",
    "# It is defined by the kaggle/python Docker image: https://github.com/kaggle/docker-python\n",
    "# For example, here's several helpful packages to load\n",
    "\n",
    "import numpy as np # linear algebra\n",
    "import pandas as pd # data processing, CSV file I/O (e.g. pd.read_csv)\n",
    "\n",
    "# Input data files are available in the read-only \"../input/\" directory\n",
    "# For example, running this (by clicking run or pressing Shift+Enter) will list all files under the input directory\n",
    "\n",
    "import os\n",
    "for dirname, _, filenames in os.walk('/kaggle/input'):\n",
    "    for filename in filenames:\n",
    "        print(os.path.join(dirname, filename))\n",
    "\n",
    "# You can write up to 20GB to the current directory (/kaggle/working/) that gets preserved as output when you create a version using \"Save & Run All\" \n",
    "# You can also write temporary files to /kaggle/temp/, but they won't be saved outside of the current session"
   ]
  },
  {
   "cell_type": "code",
   "execution_count": 4,
   "metadata": {
    "execution": {
     "iopub.execute_input": "2023-12-28T02:55:56.463667Z",
     "iopub.status.busy": "2023-12-28T02:55:56.463254Z",
     "iopub.status.idle": "2023-12-28T02:56:10.889606Z",
     "shell.execute_reply": "2023-12-28T02:56:10.888470Z",
     "shell.execute_reply.started": "2023-12-28T02:55:56.463631Z"
    }
   },
   "outputs": [
    {
     "name": "stdout",
     "output_type": "stream",
     "text": [
      "Collecting ultralytics\n",
      "  Obtaining dependency information for ultralytics from https://files.pythonhosted.org/packages/28/76/3f4ba6c345461cbf79fb45828cdc42b15f60b65a3474e35ad6f476d1d4c7/ultralytics-8.0.230-py3-none-any.whl.metadata\n",
      "  Downloading ultralytics-8.0.230-py3-none-any.whl.metadata (32 kB)\n",
      "Requirement already satisfied: matplotlib>=3.3.0 in /opt/conda/lib/python3.10/site-packages (from ultralytics) (3.7.4)\n",
      "Requirement already satisfied: numpy>=1.22.2 in /opt/conda/lib/python3.10/site-packages (from ultralytics) (1.24.3)\n",
      "Requirement already satisfied: opencv-python>=4.6.0 in /opt/conda/lib/python3.10/site-packages (from ultralytics) (4.8.1.78)\n",
      "Requirement already satisfied: pillow>=7.1.2 in /opt/conda/lib/python3.10/site-packages (from ultralytics) (10.1.0)\n",
      "Requirement already satisfied: pyyaml>=5.3.1 in /opt/conda/lib/python3.10/site-packages (from ultralytics) (6.0.1)\n",
      "Requirement already satisfied: requests>=2.23.0 in /opt/conda/lib/python3.10/site-packages (from ultralytics) (2.31.0)\n",
      "Requirement already satisfied: scipy>=1.4.1 in /opt/conda/lib/python3.10/site-packages (from ultralytics) (1.11.4)\n",
      "Requirement already satisfied: torch>=1.8.0 in /opt/conda/lib/python3.10/site-packages (from ultralytics) (2.0.0)\n",
      "Requirement already satisfied: torchvision>=0.9.0 in /opt/conda/lib/python3.10/site-packages (from ultralytics) (0.15.1)\n",
      "Requirement already satisfied: tqdm>=4.64.0 in /opt/conda/lib/python3.10/site-packages (from ultralytics) (4.66.1)\n",
      "Requirement already satisfied: pandas>=1.1.4 in /opt/conda/lib/python3.10/site-packages (from ultralytics) (2.0.3)\n",
      "Requirement already satisfied: seaborn>=0.11.0 in /opt/conda/lib/python3.10/site-packages (from ultralytics) (0.12.2)\n",
      "Requirement already satisfied: psutil in /opt/conda/lib/python3.10/site-packages (from ultralytics) (5.9.3)\n",
      "Requirement already satisfied: py-cpuinfo in /opt/conda/lib/python3.10/site-packages (from ultralytics) (9.0.0)\n",
      "Collecting thop>=0.1.1 (from ultralytics)\n",
      "  Downloading thop-0.1.1.post2209072238-py3-none-any.whl (15 kB)\n",
      "Requirement already satisfied: contourpy>=1.0.1 in /opt/conda/lib/python3.10/site-packages (from matplotlib>=3.3.0->ultralytics) (1.1.0)\n",
      "Requirement already satisfied: cycler>=0.10 in /opt/conda/lib/python3.10/site-packages (from matplotlib>=3.3.0->ultralytics) (0.11.0)\n",
      "Requirement already satisfied: fonttools>=4.22.0 in /opt/conda/lib/python3.10/site-packages (from matplotlib>=3.3.0->ultralytics) (4.42.1)\n",
      "Requirement already satisfied: kiwisolver>=1.0.1 in /opt/conda/lib/python3.10/site-packages (from matplotlib>=3.3.0->ultralytics) (1.4.4)\n",
      "Requirement already satisfied: packaging>=20.0 in /opt/conda/lib/python3.10/site-packages (from matplotlib>=3.3.0->ultralytics) (21.3)\n",
      "Requirement already satisfied: pyparsing>=2.3.1 in /opt/conda/lib/python3.10/site-packages (from matplotlib>=3.3.0->ultralytics) (3.0.9)\n",
      "Requirement already satisfied: python-dateutil>=2.7 in /opt/conda/lib/python3.10/site-packages (from matplotlib>=3.3.0->ultralytics) (2.8.2)\n",
      "Requirement already satisfied: pytz>=2020.1 in /opt/conda/lib/python3.10/site-packages (from pandas>=1.1.4->ultralytics) (2023.3)\n",
      "Requirement already satisfied: tzdata>=2022.1 in /opt/conda/lib/python3.10/site-packages (from pandas>=1.1.4->ultralytics) (2023.3)\n",
      "Requirement already satisfied: charset-normalizer<4,>=2 in /opt/conda/lib/python3.10/site-packages (from requests>=2.23.0->ultralytics) (3.2.0)\n",
      "Requirement already satisfied: idna<4,>=2.5 in /opt/conda/lib/python3.10/site-packages (from requests>=2.23.0->ultralytics) (3.4)\n",
      "Requirement already satisfied: urllib3<3,>=1.21.1 in /opt/conda/lib/python3.10/site-packages (from requests>=2.23.0->ultralytics) (1.26.15)\n",
      "Requirement already satisfied: certifi>=2017.4.17 in /opt/conda/lib/python3.10/site-packages (from requests>=2.23.0->ultralytics) (2023.11.17)\n",
      "Requirement already satisfied: filelock in /opt/conda/lib/python3.10/site-packages (from torch>=1.8.0->ultralytics) (3.12.2)\n",
      "Requirement already satisfied: typing-extensions in /opt/conda/lib/python3.10/site-packages (from torch>=1.8.0->ultralytics) (4.5.0)\n",
      "Requirement already satisfied: sympy in /opt/conda/lib/python3.10/site-packages (from torch>=1.8.0->ultralytics) (1.12)\n",
      "Requirement already satisfied: networkx in /opt/conda/lib/python3.10/site-packages (from torch>=1.8.0->ultralytics) (3.1)\n",
      "Requirement already satisfied: jinja2 in /opt/conda/lib/python3.10/site-packages (from torch>=1.8.0->ultralytics) (3.1.2)\n",
      "Requirement already satisfied: six>=1.5 in /opt/conda/lib/python3.10/site-packages (from python-dateutil>=2.7->matplotlib>=3.3.0->ultralytics) (1.16.0)\n",
      "Requirement already satisfied: MarkupSafe>=2.0 in /opt/conda/lib/python3.10/site-packages (from jinja2->torch>=1.8.0->ultralytics) (2.1.3)\n",
      "Requirement already satisfied: mpmath>=0.19 in /opt/conda/lib/python3.10/site-packages (from sympy->torch>=1.8.0->ultralytics) (1.3.0)\n",
      "Downloading ultralytics-8.0.230-py3-none-any.whl (663 kB)\n",
      "\u001b[2K   \u001b[90m━━━━━━━━━━━━━━━━━━━━━━━━━━━━━━━━━━━━━━━━\u001b[0m \u001b[32m663.2/663.2 kB\u001b[0m \u001b[31m5.6 MB/s\u001b[0m eta \u001b[36m0:00:00\u001b[0m00:01\u001b[0m00:01\u001b[0m\n",
      "\u001b[?25hInstalling collected packages: thop, ultralytics\n",
      "Successfully installed thop-0.1.1.post2209072238 ultralytics-8.0.230\n"
     ]
    }
   ],
   "source": [
    "!pip install ultralytics"
   ]
  },
  {
   "cell_type": "code",
   "execution_count": 5,
   "metadata": {
    "execution": {
     "iopub.execute_input": "2023-12-28T02:56:13.917948Z",
     "iopub.status.busy": "2023-12-28T02:56:13.917564Z",
     "iopub.status.idle": "2023-12-28T02:56:18.420518Z",
     "shell.execute_reply": "2023-12-28T02:56:18.419752Z",
     "shell.execute_reply.started": "2023-12-28T02:56:13.917916Z"
    }
   },
   "outputs": [],
   "source": [
    "from ultralytics import YOLO\n",
    "import matplotlib.pyplot as plt \n",
    "from PIL import Image"
   ]
  },
  {
   "cell_type": "code",
   "execution_count": 6,
   "metadata": {
    "execution": {
     "iopub.execute_input": "2023-12-28T02:56:22.280941Z",
     "iopub.status.busy": "2023-12-28T02:56:22.280158Z",
     "iopub.status.idle": "2023-12-28T02:56:23.520756Z",
     "shell.execute_reply": "2023-12-28T02:56:23.518506Z",
     "shell.execute_reply.started": "2023-12-28T02:56:22.280907Z"
    }
   },
   "outputs": [
    {
     "name": "stdout",
     "output_type": "stream",
     "text": [
      "\n",
      "                   from  n    params  module                                       arguments                     \n",
      "  0                  -1  1       464  ultralytics.nn.modules.conv.Conv             [3, 16, 3, 2]                 \n",
      "  1                  -1  1      4672  ultralytics.nn.modules.conv.Conv             [16, 32, 3, 2]                \n",
      "  2                  -1  1      7360  ultralytics.nn.modules.block.C2f             [32, 32, 1, True]             \n",
      "  3                  -1  1     18560  ultralytics.nn.modules.conv.Conv             [32, 64, 3, 2]                \n",
      "  4                  -1  2     49664  ultralytics.nn.modules.block.C2f             [64, 64, 2, True]             \n",
      "  5                  -1  1     73984  ultralytics.nn.modules.conv.Conv             [64, 128, 3, 2]               \n",
      "  6                  -1  2    197632  ultralytics.nn.modules.block.C2f             [128, 128, 2, True]           \n",
      "  7                  -1  1    295424  ultralytics.nn.modules.conv.Conv             [128, 256, 3, 2]              \n",
      "  8                  -1  1    460288  ultralytics.nn.modules.block.C2f             [256, 256, 1, True]           \n",
      "  9                  -1  1    164608  ultralytics.nn.modules.block.SPPF            [256, 256, 5]                 \n",
      " 10                  -1  1         0  torch.nn.modules.upsampling.Upsample         [None, 2, 'nearest']          \n",
      " 11             [-1, 6]  1         0  ultralytics.nn.modules.conv.Concat           [1]                           \n",
      " 12                  -1  1    148224  ultralytics.nn.modules.block.C2f             [384, 128, 1]                 \n",
      " 13                  -1  1         0  torch.nn.modules.upsampling.Upsample         [None, 2, 'nearest']          \n",
      " 14             [-1, 4]  1         0  ultralytics.nn.modules.conv.Concat           [1]                           \n",
      " 15                  -1  1     37248  ultralytics.nn.modules.block.C2f             [192, 64, 1]                  \n",
      " 16                  -1  1     36992  ultralytics.nn.modules.conv.Conv             [64, 64, 3, 2]                \n",
      " 17            [-1, 12]  1         0  ultralytics.nn.modules.conv.Concat           [1]                           \n",
      " 18                  -1  1    123648  ultralytics.nn.modules.block.C2f             [192, 128, 1]                 \n",
      " 19                  -1  1    147712  ultralytics.nn.modules.conv.Conv             [128, 128, 3, 2]              \n",
      " 20             [-1, 9]  1         0  ultralytics.nn.modules.conv.Concat           [1]                           \n",
      " 21                  -1  1    493056  ultralytics.nn.modules.block.C2f             [384, 256, 1]                 \n",
      " 22        [15, 18, 21]  1   1150432  ultralytics.nn.modules.head.Segment          [80, 32, 64, [64, 128, 256]]  \n",
      "YOLOv8n-seg summary: 261 layers, 3409968 parameters, 3409952 gradients, 12.8 GFLOPs\n",
      "\n",
      "Downloading https://github.com/ultralytics/assets/releases/download/v0.0.0/yolov8n-seg.pt to 'yolov8n-seg.pt'...\n"
     ]
    },
    {
     "name": "stderr",
     "output_type": "stream",
     "text": [
      "100%|██████████| 6.73M/6.73M [00:00<00:00, 82.9MB/s]\n"
     ]
    }
   ],
   "source": [
    "model=YOLO(\"yolov8n-seg.yaml\")\n",
    "model=YOLO(\"yolov8n-seg.pt\")"
   ]
  },
  {
   "cell_type": "code",
   "execution_count": 7,
   "metadata": {
    "execution": {
     "iopub.execute_input": "2023-12-28T02:56:30.398370Z",
     "iopub.status.busy": "2023-12-28T02:56:30.397965Z",
     "iopub.status.idle": "2023-12-28T02:56:30.413409Z",
     "shell.execute_reply": "2023-12-28T02:56:30.412644Z",
     "shell.execute_reply.started": "2023-12-28T02:56:30.398336Z"
    }
   },
   "outputs": [],
   "source": [
    "import yaml\n",
    "yaml_path='/kaggle/input/dentistry-image-dataset/data.yaml'\n",
    "with open(yaml_path,'r') as file:\n",
    "    yaml_data=yaml.safe_load(file)\n",
    "    num_classes=str(yaml_data['nc'])"
   ]
  },
  {
   "cell_type": "code",
   "execution_count": 8,
   "metadata": {
    "execution": {
     "iopub.execute_input": "2023-12-28T02:56:36.174303Z",
     "iopub.status.busy": "2023-12-28T02:56:36.173932Z",
     "iopub.status.idle": "2023-12-28T02:56:36.181998Z",
     "shell.execute_reply": "2023-12-28T02:56:36.181023Z",
     "shell.execute_reply.started": "2023-12-28T02:56:36.174272Z"
    }
   },
   "outputs": [
    {
     "data": {
      "text/plain": [
       "'35'"
      ]
     },
     "execution_count": 8,
     "metadata": {},
     "output_type": "execute_result"
    }
   ],
   "source": [
    "num_classes"
   ]
  },
  {
   "cell_type": "code",
   "execution_count": 8,
   "metadata": {
    "execution": {
     "iopub.execute_input": "2023-12-27T21:45:57.029775Z",
     "iopub.status.busy": "2023-12-27T21:45:57.029308Z",
     "iopub.status.idle": "2023-12-27T21:45:57.035804Z",
     "shell.execute_reply": "2023-12-27T21:45:57.034263Z",
     "shell.execute_reply.started": "2023-12-27T21:45:57.029721Z"
    }
   },
   "outputs": [],
   "source": [
    "os.mkdir('/kaggle/working/results')"
   ]
  },
  {
   "cell_type": "code",
   "execution_count": 9,
   "metadata": {
    "execution": {
     "iopub.execute_input": "2023-12-28T02:58:00.542089Z",
     "iopub.status.busy": "2023-12-28T02:58:00.541049Z",
     "iopub.status.idle": "2023-12-28T04:15:15.740007Z",
     "shell.execute_reply": "2023-12-28T04:15:15.738893Z",
     "shell.execute_reply.started": "2023-12-28T02:58:00.542052Z"
    }
   },
   "outputs": [
    {
     "name": "stdout",
     "output_type": "stream",
     "text": [
      "Ultralytics YOLOv8.0.230 🚀 Python-3.10.12 torch-2.0.0 CUDA:0 (Tesla T4, 15110MiB)\n",
      "\u001b[34m\u001b[1mengine/trainer: \u001b[0mtask=segment, mode=train, model=yolov8n-seg.pt, data=/kaggle/input/dentistry-image-dataset/data.yaml, epochs=100, time=None, patience=0, batch=7, imgsz=64, save=True, save_period=-1, cache=False, device=None, workers=8, project=results, name=train_1, exist_ok=False, pretrained=True, optimizer=auto, verbose=True, seed=0, deterministic=True, single_cls=False, rect=False, cos_lr=False, close_mosaic=10, resume=False, amp=True, fraction=1.0, profile=False, freeze=None, overlap_mask=True, mask_ratio=4, dropout=0.0, val=True, split=val, save_json=False, save_hybrid=False, conf=None, iou=0.7, max_det=300, half=False, dnn=False, plots=True, source=None, vid_stride=1, stream_buffer=False, visualize=False, augment=False, agnostic_nms=False, classes=None, retina_masks=False, embed=None, show=False, save_frames=False, save_txt=False, save_conf=False, save_crop=False, show_labels=True, show_conf=True, show_boxes=True, line_width=None, format=torchscript, keras=False, optimize=False, int8=False, dynamic=False, simplify=False, opset=None, workspace=4, nms=False, lr0=0.01, lrf=0.01, momentum=0.937, weight_decay=0.0005, warmup_epochs=3.0, warmup_momentum=0.8, warmup_bias_lr=0.1, box=7.5, cls=0.5, dfl=1.5, pose=12.0, kobj=1.0, label_smoothing=0.0, nbs=64, hsv_h=0.015, hsv_s=0.7, hsv_v=0.4, degrees=0.0, translate=0.1, scale=0.5, shear=0.0, perspective=0.0, flipud=0.0, fliplr=0.5, mosaic=1.0, mixup=0.0, copy_paste=0.0, cfg=None, tracker=botsort.yaml, save_dir=results/train_1\n",
      "Downloading https://ultralytics.com/assets/Arial.ttf to '/root/.config/Ultralytics/Arial.ttf'...\n"
     ]
    },
    {
     "name": "stderr",
     "output_type": "stream",
     "text": [
      "100%|██████████| 755k/755k [00:00<00:00, 15.0MB/s]\n",
      "2023-12-28 02:58:03,295\tINFO util.py:129 -- Outdated packages:\n",
      "  ipywidgets==7.7.1 found, needs ipywidgets>=8\n",
      "Run `pip install -U ipywidgets`, then restart the notebook server for rich notebook output.\n",
      "2023-12-28 02:58:03,837\tINFO util.py:129 -- Outdated packages:\n",
      "  ipywidgets==7.7.1 found, needs ipywidgets>=8\n",
      "Run `pip install -U ipywidgets`, then restart the notebook server for rich notebook output.\n",
      "/opt/conda/lib/python3.10/site-packages/scipy/__init__.py:146: UserWarning: A NumPy version >=1.16.5 and <1.23.0 is required for this version of SciPy (detected version 1.24.3\n",
      "  warnings.warn(f\"A NumPy version >={np_minversion} and <{np_maxversion}\"\n"
     ]
    },
    {
     "name": "stdout",
     "output_type": "stream",
     "text": [
      "Overriding model.yaml nc=80 with nc=35\n",
      "\n",
      "                   from  n    params  module                                       arguments                     \n",
      "  0                  -1  1       464  ultralytics.nn.modules.conv.Conv             [3, 16, 3, 2]                 \n",
      "  1                  -1  1      4672  ultralytics.nn.modules.conv.Conv             [16, 32, 3, 2]                \n",
      "  2                  -1  1      7360  ultralytics.nn.modules.block.C2f             [32, 32, 1, True]             \n",
      "  3                  -1  1     18560  ultralytics.nn.modules.conv.Conv             [32, 64, 3, 2]                \n",
      "  4                  -1  2     49664  ultralytics.nn.modules.block.C2f             [64, 64, 2, True]             \n",
      "  5                  -1  1     73984  ultralytics.nn.modules.conv.Conv             [64, 128, 3, 2]               \n",
      "  6                  -1  2    197632  ultralytics.nn.modules.block.C2f             [128, 128, 2, True]           \n",
      "  7                  -1  1    295424  ultralytics.nn.modules.conv.Conv             [128, 256, 3, 2]              \n",
      "  8                  -1  1    460288  ultralytics.nn.modules.block.C2f             [256, 256, 1, True]           \n",
      "  9                  -1  1    164608  ultralytics.nn.modules.block.SPPF            [256, 256, 5]                 \n",
      " 10                  -1  1         0  torch.nn.modules.upsampling.Upsample         [None, 2, 'nearest']          \n",
      " 11             [-1, 6]  1         0  ultralytics.nn.modules.conv.Concat           [1]                           \n",
      " 12                  -1  1    148224  ultralytics.nn.modules.block.C2f             [384, 128, 1]                 \n",
      " 13                  -1  1         0  torch.nn.modules.upsampling.Upsample         [None, 2, 'nearest']          \n",
      " 14             [-1, 4]  1         0  ultralytics.nn.modules.conv.Concat           [1]                           \n",
      " 15                  -1  1     37248  ultralytics.nn.modules.block.C2f             [192, 64, 1]                  \n",
      " 16                  -1  1     36992  ultralytics.nn.modules.conv.Conv             [64, 64, 3, 2]                \n",
      " 17            [-1, 12]  1         0  ultralytics.nn.modules.conv.Concat           [1]                           \n",
      " 18                  -1  1    123648  ultralytics.nn.modules.block.C2f             [192, 128, 1]                 \n",
      " 19                  -1  1    147712  ultralytics.nn.modules.conv.Conv             [128, 128, 3, 2]              \n",
      " 20             [-1, 9]  1         0  ultralytics.nn.modules.conv.Concat           [1]                           \n",
      " 21                  -1  1    493056  ultralytics.nn.modules.block.C2f             [384, 256, 1]                 \n",
      " 22        [15, 18, 21]  1   1010905  ultralytics.nn.modules.head.Segment          [35, 32, 64, [64, 128, 256]]  \n",
      "YOLOv8n-seg summary: 261 layers, 3270441 parameters, 3270425 gradients, 12.1 GFLOPs\n",
      "\n",
      "Transferred 381/417 items from pretrained weights\n",
      "\u001b[34m\u001b[1mTensorBoard: \u001b[0mStart with 'tensorboard --logdir results/train_1', view at http://localhost:6006/\n"
     ]
    },
    {
     "name": "stderr",
     "output_type": "stream",
     "text": [
      "\u001b[34m\u001b[1mwandb\u001b[0m: Logging into wandb.ai. (Learn how to deploy a W&B server locally: https://wandb.me/wandb-server)\n",
      "\u001b[34m\u001b[1mwandb\u001b[0m: You can find your API key in your browser here: https://wandb.ai/authorize\n",
      "\u001b[34m\u001b[1mwandb\u001b[0m: Paste an API key from your profile and hit enter, or press ctrl+c to quit:"
     ]
    },
    {
     "name": "stdin",
     "output_type": "stream",
     "text": [
      "  ········································\n"
     ]
    },
    {
     "name": "stderr",
     "output_type": "stream",
     "text": [
      "\u001b[34m\u001b[1mwandb\u001b[0m: Appending key for api.wandb.ai to your netrc file: /root/.netrc\n"
     ]
    },
    {
     "data": {
      "text/html": [
       "Tracking run with wandb version 0.16.1"
      ],
      "text/plain": [
       "<IPython.core.display.HTML object>"
      ]
     },
     "metadata": {},
     "output_type": "display_data"
    },
    {
     "data": {
      "text/html": [
       "Run data is saved locally in <code>/kaggle/working/wandb/run-20231228_025831-me7q290u</code>"
      ],
      "text/plain": [
       "<IPython.core.display.HTML object>"
      ]
     },
     "metadata": {},
     "output_type": "display_data"
    },
    {
     "data": {
      "text/html": [
       "Syncing run <strong><a href='https://wandb.ai/mernaalbert03/results/runs/me7q290u' target=\"_blank\">train_1</a></strong> to <a href='https://wandb.ai/mernaalbert03/results' target=\"_blank\">Weights & Biases</a> (<a href='https://wandb.me/run' target=\"_blank\">docs</a>)<br/>"
      ],
      "text/plain": [
       "<IPython.core.display.HTML object>"
      ]
     },
     "metadata": {},
     "output_type": "display_data"
    },
    {
     "data": {
      "text/html": [
       " View project at <a href='https://wandb.ai/mernaalbert03/results' target=\"_blank\">https://wandb.ai/mernaalbert03/results</a>"
      ],
      "text/plain": [
       "<IPython.core.display.HTML object>"
      ]
     },
     "metadata": {},
     "output_type": "display_data"
    },
    {
     "data": {
      "text/html": [
       " View run at <a href='https://wandb.ai/mernaalbert03/results/runs/me7q290u' target=\"_blank\">https://wandb.ai/mernaalbert03/results/runs/me7q290u</a>"
      ],
      "text/plain": [
       "<IPython.core.display.HTML object>"
      ]
     },
     "metadata": {},
     "output_type": "display_data"
    },
    {
     "name": "stdout",
     "output_type": "stream",
     "text": [
      "Freezing layer 'model.22.dfl.conv.weight'\n",
      "\u001b[34m\u001b[1mAMP: \u001b[0mrunning Automatic Mixed Precision (AMP) checks with YOLOv8n...\n",
      "Downloading https://github.com/ultralytics/assets/releases/download/v0.0.0/yolov8n.pt to 'yolov8n.pt'...\n"
     ]
    },
    {
     "name": "stderr",
     "output_type": "stream",
     "text": [
      "100%|██████████| 6.23M/6.23M [00:00<00:00, 75.2MB/s]\n"
     ]
    },
    {
     "name": "stdout",
     "output_type": "stream",
     "text": [
      "\u001b[34m\u001b[1mAMP: \u001b[0mchecks passed ✅\n"
     ]
    },
    {
     "name": "stderr",
     "output_type": "stream",
     "text": [
      "\u001b[34m\u001b[1mtrain: \u001b[0mScanning /kaggle/input/dentistry-image-dataset/train/labels... 452 images, 0 backgrounds, 0 corrupt: 100%|██████████| 452/452 [00:01<00:00, 339.07it/s]"
     ]
    },
    {
     "name": "stdout",
     "output_type": "stream",
     "text": [
      "\u001b[34m\u001b[1mtrain: \u001b[0mWARNING ⚠️ Cache directory /kaggle/input/dentistry-image-dataset/train is not writeable, cache not saved.\n"
     ]
    },
    {
     "name": "stderr",
     "output_type": "stream",
     "text": [
      "\n"
     ]
    },
    {
     "name": "stdout",
     "output_type": "stream",
     "text": [
      "\u001b[34m\u001b[1malbumentations: \u001b[0mBlur(p=0.01, blur_limit=(3, 7)), MedianBlur(p=0.01, blur_limit=(3, 7)), ToGray(p=0.01), CLAHE(p=0.01, clip_limit=(1, 4.0), tile_grid_size=(8, 8))\n"
     ]
    },
    {
     "name": "stderr",
     "output_type": "stream",
     "text": [
      "\u001b[34m\u001b[1mval: \u001b[0mScanning /kaggle/input/dentistry-image-dataset/valid/labels... 113 images, 0 backgrounds, 0 corrupt: 100%|██████████| 113/113 [00:00<00:00, 210.11it/s]\n"
     ]
    },
    {
     "name": "stdout",
     "output_type": "stream",
     "text": [
      "\u001b[34m\u001b[1mval: \u001b[0mWARNING ⚠️ Cache directory /kaggle/input/dentistry-image-dataset/valid is not writeable, cache not saved.\n",
      "Plotting labels to results/train_1/labels.jpg... \n",
      "\u001b[34m\u001b[1moptimizer:\u001b[0m 'optimizer=auto' found, ignoring 'lr0=0.01' and 'momentum=0.937' and determining best 'optimizer', 'lr0' and 'momentum' automatically... \n",
      "\u001b[34m\u001b[1moptimizer:\u001b[0m AdamW(lr=0.000256, momentum=0.9) with parameter groups 66 weight(decay=0.0), 77 weight(decay=0.0004921875), 76 bias(decay=0.0)\n",
      "100 epochs...\n",
      "\n",
      "      Epoch    GPU_mem   box_loss   seg_loss   cls_loss   dfl_loss  Instances       Size\n"
     ]
    },
    {
     "name": "stderr",
     "output_type": "stream",
     "text": [
      "      1/100     0.442G      2.213      6.487        2.5      0.625        102         64: 100%|██████████| 65/65 [00:48<00:00,  1.33it/s]\n",
      "                 Class     Images  Instances      Box(P          R      mAP50  mAP50-95)     Mask(P          R      mAP50  mAP50-95): 100%|██████████| 9/9 [00:01<00:00,  5.12it/s]"
     ]
    },
    {
     "name": "stdout",
     "output_type": "stream",
     "text": [
      "                   all        113       3363          0          0          0          0          0          0          0          0\n"
     ]
    },
    {
     "name": "stderr",
     "output_type": "stream",
     "text": [
      "\n"
     ]
    },
    {
     "name": "stdout",
     "output_type": "stream",
     "text": [
      "\n",
      "      Epoch    GPU_mem   box_loss   seg_loss   cls_loss   dfl_loss  Instances       Size\n"
     ]
    },
    {
     "name": "stderr",
     "output_type": "stream",
     "text": [
      "      2/100     0.434G      4.561      5.611      5.353      1.114         89         64: 100%|██████████| 65/65 [00:43<00:00,  1.51it/s]\n",
      "                 Class     Images  Instances      Box(P          R      mAP50  mAP50-95)     Mask(P          R      mAP50  mAP50-95): 100%|██████████| 9/9 [00:02<00:00,  3.98it/s]"
     ]
    },
    {
     "name": "stdout",
     "output_type": "stream",
     "text": [
      "                   all        113       3363          0          0          0          0          0          0          0          0\n"
     ]
    },
    {
     "name": "stderr",
     "output_type": "stream",
     "text": [
      "\n"
     ]
    },
    {
     "name": "stdout",
     "output_type": "stream",
     "text": [
      "\n",
      "      Epoch    GPU_mem   box_loss   seg_loss   cls_loss   dfl_loss  Instances       Size\n"
     ]
    },
    {
     "name": "stderr",
     "output_type": "stream",
     "text": [
      "      3/100     0.436G      4.357      5.213      5.356      1.059         99         64: 100%|██████████| 65/65 [00:42<00:00,  1.52it/s]\n",
      "                 Class     Images  Instances      Box(P          R      mAP50  mAP50-95)     Mask(P          R      mAP50  mAP50-95): 100%|██████████| 9/9 [00:02<00:00,  3.54it/s]"
     ]
    },
    {
     "name": "stdout",
     "output_type": "stream",
     "text": [
      "                   all        113       3363          0          0          0          0          0          0          0          0\n"
     ]
    },
    {
     "name": "stderr",
     "output_type": "stream",
     "text": [
      "\n"
     ]
    },
    {
     "name": "stdout",
     "output_type": "stream",
     "text": [
      "\n",
      "      Epoch    GPU_mem   box_loss   seg_loss   cls_loss   dfl_loss  Instances       Size\n"
     ]
    },
    {
     "name": "stderr",
     "output_type": "stream",
     "text": [
      "      4/100     0.436G      4.346      5.322      5.244       1.05        100         64: 100%|██████████| 65/65 [00:43<00:00,  1.51it/s]\n",
      "                 Class     Images  Instances      Box(P          R      mAP50  mAP50-95)     Mask(P          R      mAP50  mAP50-95): 100%|██████████| 9/9 [00:02<00:00,  3.45it/s]"
     ]
    },
    {
     "name": "stdout",
     "output_type": "stream",
     "text": [
      "                   all        113       3363          0          0          0          0          0          0          0          0\n"
     ]
    },
    {
     "name": "stderr",
     "output_type": "stream",
     "text": [
      "\n"
     ]
    },
    {
     "name": "stdout",
     "output_type": "stream",
     "text": [
      "\n",
      "      Epoch    GPU_mem   box_loss   seg_loss   cls_loss   dfl_loss  Instances       Size\n"
     ]
    },
    {
     "name": "stderr",
     "output_type": "stream",
     "text": [
      "      5/100     0.436G      4.197      5.388      5.147      1.025        105         64: 100%|██████████| 65/65 [00:43<00:00,  1.49it/s]\n",
      "                 Class     Images  Instances      Box(P          R      mAP50  mAP50-95)     Mask(P          R      mAP50  mAP50-95): 100%|██████████| 9/9 [00:01<00:00,  5.38it/s]"
     ]
    },
    {
     "name": "stdout",
     "output_type": "stream",
     "text": [
      "                   all        113       3363          0          0          0          0          0          0          0          0\n"
     ]
    },
    {
     "name": "stderr",
     "output_type": "stream",
     "text": [
      "\n"
     ]
    },
    {
     "name": "stdout",
     "output_type": "stream",
     "text": [
      "\n",
      "      Epoch    GPU_mem   box_loss   seg_loss   cls_loss   dfl_loss  Instances       Size\n"
     ]
    },
    {
     "name": "stderr",
     "output_type": "stream",
     "text": [
      "      6/100     0.436G      3.895       5.47      5.038     0.9703         52         64: 100%|██████████| 65/65 [00:42<00:00,  1.53it/s]\n",
      "                 Class     Images  Instances      Box(P          R      mAP50  mAP50-95)     Mask(P          R      mAP50  mAP50-95): 100%|██████████| 9/9 [00:01<00:00,  4.98it/s]"
     ]
    },
    {
     "name": "stdout",
     "output_type": "stream",
     "text": [
      "                   all        113       3363          0          0          0          0          0          0          0          0\n"
     ]
    },
    {
     "name": "stderr",
     "output_type": "stream",
     "text": [
      "\n"
     ]
    },
    {
     "name": "stdout",
     "output_type": "stream",
     "text": [
      "\n",
      "      Epoch    GPU_mem   box_loss   seg_loss   cls_loss   dfl_loss  Instances       Size\n"
     ]
    },
    {
     "name": "stderr",
     "output_type": "stream",
     "text": [
      "      7/100     0.436G      3.849       5.41      4.908       0.94         99         64: 100%|██████████| 65/65 [00:43<00:00,  1.51it/s]\n",
      "                 Class     Images  Instances      Box(P          R      mAP50  mAP50-95)     Mask(P          R      mAP50  mAP50-95): 100%|██████████| 9/9 [00:01<00:00,  5.71it/s]"
     ]
    },
    {
     "name": "stdout",
     "output_type": "stream",
     "text": [
      "                   all        113       3363    0.00571   0.000289    0.00294   0.000589          0          0          0          0\n"
     ]
    },
    {
     "name": "stderr",
     "output_type": "stream",
     "text": [
      "\n"
     ]
    },
    {
     "name": "stdout",
     "output_type": "stream",
     "text": [
      "\n",
      "      Epoch    GPU_mem   box_loss   seg_loss   cls_loss   dfl_loss  Instances       Size\n"
     ]
    },
    {
     "name": "stderr",
     "output_type": "stream",
     "text": [
      "      8/100     0.436G      3.644      5.343      4.738     0.9118         68         64: 100%|██████████| 65/65 [00:42<00:00,  1.54it/s]\n",
      "                 Class     Images  Instances      Box(P          R      mAP50  mAP50-95)     Mask(P          R      mAP50  mAP50-95): 100%|██████████| 9/9 [00:01<00:00,  5.34it/s]"
     ]
    },
    {
     "name": "stdout",
     "output_type": "stream",
     "text": [
      "                   all        113       3363    0.00571   0.000289    0.00294   0.000589          0          0          0          0\n"
     ]
    },
    {
     "name": "stderr",
     "output_type": "stream",
     "text": [
      "\n"
     ]
    },
    {
     "name": "stdout",
     "output_type": "stream",
     "text": [
      "\n",
      "      Epoch    GPU_mem   box_loss   seg_loss   cls_loss   dfl_loss  Instances       Size\n"
     ]
    },
    {
     "name": "stderr",
     "output_type": "stream",
     "text": [
      "      9/100     0.436G      3.545      5.303      4.609     0.9011        111         64: 100%|██████████| 65/65 [00:43<00:00,  1.50it/s]\n",
      "                 Class     Images  Instances      Box(P          R      mAP50  mAP50-95)     Mask(P          R      mAP50  mAP50-95): 100%|██████████| 9/9 [00:01<00:00,  6.11it/s]"
     ]
    },
    {
     "name": "stdout",
     "output_type": "stream",
     "text": [
      "                   all        113       3363    0.00571   0.000289    0.00294   0.000589          0          0          0          0\n"
     ]
    },
    {
     "name": "stderr",
     "output_type": "stream",
     "text": [
      "\n"
     ]
    },
    {
     "name": "stdout",
     "output_type": "stream",
     "text": [
      "\n",
      "      Epoch    GPU_mem   box_loss   seg_loss   cls_loss   dfl_loss  Instances       Size\n"
     ]
    },
    {
     "name": "stderr",
     "output_type": "stream",
     "text": [
      "     10/100     0.436G      3.464      5.309      4.482     0.8793         90         64: 100%|██████████| 65/65 [00:43<00:00,  1.49it/s]\n",
      "                 Class     Images  Instances      Box(P          R      mAP50  mAP50-95)     Mask(P          R      mAP50  mAP50-95): 100%|██████████| 9/9 [00:01<00:00,  5.84it/s]"
     ]
    },
    {
     "name": "stdout",
     "output_type": "stream",
     "text": [
      "                   all        113       3363    0.00571   0.000289    0.00294   0.000589          0          0          0          0\n"
     ]
    },
    {
     "name": "stderr",
     "output_type": "stream",
     "text": [
      "\n"
     ]
    },
    {
     "name": "stdout",
     "output_type": "stream",
     "text": [
      "\n",
      "      Epoch    GPU_mem   box_loss   seg_loss   cls_loss   dfl_loss  Instances       Size\n"
     ]
    },
    {
     "name": "stderr",
     "output_type": "stream",
     "text": [
      "     11/100     0.436G      3.362      5.125      4.307     0.8815         86         64: 100%|██████████| 65/65 [00:42<00:00,  1.53it/s]\n",
      "                 Class     Images  Instances      Box(P          R      mAP50  mAP50-95)     Mask(P          R      mAP50  mAP50-95): 100%|██████████| 9/9 [00:02<00:00,  3.77it/s]"
     ]
    },
    {
     "name": "stdout",
     "output_type": "stream",
     "text": [
      "                   all        113       3363     0.0267    0.00502     0.0148    0.00411    0.00143   0.000952   0.000753   0.000227\n"
     ]
    },
    {
     "name": "stderr",
     "output_type": "stream",
     "text": [
      "\n"
     ]
    },
    {
     "name": "stdout",
     "output_type": "stream",
     "text": [
      "\n",
      "      Epoch    GPU_mem   box_loss   seg_loss   cls_loss   dfl_loss  Instances       Size\n"
     ]
    },
    {
     "name": "stderr",
     "output_type": "stream",
     "text": [
      "     12/100     0.436G      3.389      5.178      4.174     0.8586         63         64: 100%|██████████| 65/65 [00:42<00:00,  1.52it/s]\n",
      "                 Class     Images  Instances      Box(P          R      mAP50  mAP50-95)     Mask(P          R      mAP50  mAP50-95): 100%|██████████| 9/9 [00:02<00:00,  3.47it/s]\n"
     ]
    },
    {
     "name": "stdout",
     "output_type": "stream",
     "text": [
      "                   all        113       3363     0.0365     0.0266     0.0232    0.00728    0.00565     0.0114    0.00369     0.0013\n",
      "\n",
      "      Epoch    GPU_mem   box_loss   seg_loss   cls_loss   dfl_loss  Instances       Size\n"
     ]
    },
    {
     "name": "stderr",
     "output_type": "stream",
     "text": [
      "     13/100     0.436G      3.317      5.138       4.05     0.8621        110         64: 100%|██████████| 65/65 [00:42<00:00,  1.52it/s]\n",
      "                 Class     Images  Instances      Box(P          R      mAP50  mAP50-95)     Mask(P          R      mAP50  mAP50-95): 100%|██████████| 9/9 [00:02<00:00,  3.58it/s]\n"
     ]
    },
    {
     "name": "stdout",
     "output_type": "stream",
     "text": [
      "                   all        113       3363      0.028     0.0738     0.0252     0.0074    0.00785     0.0293    0.00564     0.0017\n",
      "\n",
      "      Epoch    GPU_mem   box_loss   seg_loss   cls_loss   dfl_loss  Instances       Size\n"
     ]
    },
    {
     "name": "stderr",
     "output_type": "stream",
     "text": [
      "     14/100     0.438G      3.313      5.051      3.962      0.855        118         64: 100%|██████████| 65/65 [00:43<00:00,  1.49it/s]\n",
      "                 Class     Images  Instances      Box(P          R      mAP50  mAP50-95)     Mask(P          R      mAP50  mAP50-95): 100%|██████████| 9/9 [00:02<00:00,  3.70it/s]"
     ]
    },
    {
     "name": "stdout",
     "output_type": "stream",
     "text": [
      "                   all        113       3363     0.0411     0.0819     0.0327    0.00891    0.00781     0.0301    0.00596     0.0021\n"
     ]
    },
    {
     "name": "stderr",
     "output_type": "stream",
     "text": [
      "\n"
     ]
    },
    {
     "name": "stdout",
     "output_type": "stream",
     "text": [
      "\n",
      "      Epoch    GPU_mem   box_loss   seg_loss   cls_loss   dfl_loss  Instances       Size\n"
     ]
    },
    {
     "name": "stderr",
     "output_type": "stream",
     "text": [
      "     15/100     0.438G      3.243      4.953      3.832     0.8482         73         64: 100%|██████████| 65/65 [00:42<00:00,  1.52it/s]\n",
      "                 Class     Images  Instances      Box(P          R      mAP50  mAP50-95)     Mask(P          R      mAP50  mAP50-95): 100%|██████████| 9/9 [00:02<00:00,  3.33it/s]"
     ]
    },
    {
     "name": "stdout",
     "output_type": "stream",
     "text": [
      "                   all        113       3363     0.0339     0.0717     0.0271     0.0087    0.00281     0.0101    0.00171   0.000551\n"
     ]
    },
    {
     "name": "stderr",
     "output_type": "stream",
     "text": [
      "\n"
     ]
    },
    {
     "name": "stdout",
     "output_type": "stream",
     "text": [
      "\n",
      "      Epoch    GPU_mem   box_loss   seg_loss   cls_loss   dfl_loss  Instances       Size\n"
     ]
    },
    {
     "name": "stderr",
     "output_type": "stream",
     "text": [
      "     16/100     0.436G      3.272      5.109      3.756     0.8536         81         64: 100%|██████████| 65/65 [00:42<00:00,  1.53it/s]\n",
      "                 Class     Images  Instances      Box(P          R      mAP50  mAP50-95)     Mask(P          R      mAP50  mAP50-95): 100%|██████████| 9/9 [00:02<00:00,  3.14it/s]\n"
     ]
    },
    {
     "name": "stdout",
     "output_type": "stream",
     "text": [
      "                   all        113       3363     0.0346     0.0864     0.0296    0.00941    0.00689     0.0249    0.00551    0.00209\n",
      "\n",
      "      Epoch    GPU_mem   box_loss   seg_loss   cls_loss   dfl_loss  Instances       Size\n"
     ]
    },
    {
     "name": "stderr",
     "output_type": "stream",
     "text": [
      "     17/100     0.436G      3.175      5.087      3.621     0.8407         96         64: 100%|██████████| 65/65 [00:42<00:00,  1.51it/s]\n",
      "                 Class     Images  Instances      Box(P          R      mAP50  mAP50-95)     Mask(P          R      mAP50  mAP50-95): 100%|██████████| 9/9 [00:02<00:00,  3.12it/s]"
     ]
    },
    {
     "name": "stdout",
     "output_type": "stream",
     "text": [
      "                   all        113       3363     0.0351      0.134     0.0339    0.00984    0.00341     0.0164    0.00277   0.000938\n"
     ]
    },
    {
     "name": "stderr",
     "output_type": "stream",
     "text": [
      "\n"
     ]
    },
    {
     "name": "stdout",
     "output_type": "stream",
     "text": [
      "\n",
      "      Epoch    GPU_mem   box_loss   seg_loss   cls_loss   dfl_loss  Instances       Size\n"
     ]
    },
    {
     "name": "stderr",
     "output_type": "stream",
     "text": [
      "     18/100     0.438G      3.193      5.038      3.534     0.8406        101         64: 100%|██████████| 65/65 [00:43<00:00,  1.50it/s]\n",
      "                 Class     Images  Instances      Box(P          R      mAP50  mAP50-95)     Mask(P          R      mAP50  mAP50-95): 100%|██████████| 9/9 [00:02<00:00,  3.16it/s]\n"
     ]
    },
    {
     "name": "stdout",
     "output_type": "stream",
     "text": [
      "                   all        113       3363     0.0334      0.156      0.033    0.00976    0.00485      0.026    0.00299    0.00102\n",
      "\n",
      "      Epoch    GPU_mem   box_loss   seg_loss   cls_loss   dfl_loss  Instances       Size\n"
     ]
    },
    {
     "name": "stderr",
     "output_type": "stream",
     "text": [
      "     19/100     0.438G      3.196      4.939      3.471     0.8386         78         64: 100%|██████████| 65/65 [00:42<00:00,  1.51it/s]\n",
      "                 Class     Images  Instances      Box(P          R      mAP50  mAP50-95)     Mask(P          R      mAP50  mAP50-95): 100%|██████████| 9/9 [00:02<00:00,  3.58it/s]"
     ]
    },
    {
     "name": "stdout",
     "output_type": "stream",
     "text": [
      "                   all        113       3363     0.0322      0.181     0.0347       0.01    0.00208     0.0159    0.00134   0.000433\n"
     ]
    },
    {
     "name": "stderr",
     "output_type": "stream",
     "text": [
      "\n"
     ]
    },
    {
     "name": "stdout",
     "output_type": "stream",
     "text": [
      "\n",
      "      Epoch    GPU_mem   box_loss   seg_loss   cls_loss   dfl_loss  Instances       Size\n"
     ]
    },
    {
     "name": "stderr",
     "output_type": "stream",
     "text": [
      "     20/100     0.438G      3.096      4.887      3.352      0.836         76         64: 100%|██████████| 65/65 [00:44<00:00,  1.45it/s]\n",
      "                 Class     Images  Instances      Box(P          R      mAP50  mAP50-95)     Mask(P          R      mAP50  mAP50-95): 100%|██████████| 9/9 [00:02<00:00,  3.69it/s]\n"
     ]
    },
    {
     "name": "stdout",
     "output_type": "stream",
     "text": [
      "                   all        113       3363     0.0366      0.225     0.0435     0.0127    0.00535     0.0412    0.00448    0.00165\n",
      "\n",
      "      Epoch    GPU_mem   box_loss   seg_loss   cls_loss   dfl_loss  Instances       Size\n"
     ]
    },
    {
     "name": "stderr",
     "output_type": "stream",
     "text": [
      "     21/100     0.438G      3.141      4.985      3.262     0.8291         77         64: 100%|██████████| 65/65 [00:42<00:00,  1.52it/s]\n",
      "                 Class     Images  Instances      Box(P          R      mAP50  mAP50-95)     Mask(P          R      mAP50  mAP50-95): 100%|██████████| 9/9 [00:02<00:00,  3.38it/s]\n"
     ]
    },
    {
     "name": "stdout",
     "output_type": "stream",
     "text": [
      "                   all        113       3363     0.0311      0.186     0.0363     0.0103     0.0335     0.0272    0.00445    0.00163\n",
      "\n",
      "      Epoch    GPU_mem   box_loss   seg_loss   cls_loss   dfl_loss  Instances       Size\n"
     ]
    },
    {
     "name": "stderr",
     "output_type": "stream",
     "text": [
      "     22/100     0.438G      3.099      4.894      3.225     0.8329        116         64: 100%|██████████| 65/65 [00:44<00:00,  1.47it/s]\n",
      "                 Class     Images  Instances      Box(P          R      mAP50  mAP50-95)     Mask(P          R      mAP50  mAP50-95): 100%|██████████| 9/9 [00:02<00:00,  3.45it/s]"
     ]
    },
    {
     "name": "stdout",
     "output_type": "stream",
     "text": [
      "                   all        113       3363      0.035      0.235     0.0461     0.0138     0.0041     0.0337    0.00301     0.0012\n"
     ]
    },
    {
     "name": "stderr",
     "output_type": "stream",
     "text": [
      "\n"
     ]
    },
    {
     "name": "stdout",
     "output_type": "stream",
     "text": [
      "\n",
      "      Epoch    GPU_mem   box_loss   seg_loss   cls_loss   dfl_loss  Instances       Size\n"
     ]
    },
    {
     "name": "stderr",
     "output_type": "stream",
     "text": [
      "     23/100      0.44G      3.099      4.716      3.107     0.8355         81         64: 100%|██████████| 65/65 [00:42<00:00,  1.53it/s]\n",
      "                 Class     Images  Instances      Box(P          R      mAP50  mAP50-95)     Mask(P          R      mAP50  mAP50-95): 100%|██████████| 9/9 [00:02<00:00,  3.24it/s]"
     ]
    },
    {
     "name": "stdout",
     "output_type": "stream",
     "text": [
      "                   all        113       3363     0.0349      0.249     0.0483     0.0142    0.00276     0.0237    0.00181   0.000685\n"
     ]
    },
    {
     "name": "stderr",
     "output_type": "stream",
     "text": [
      "\n"
     ]
    },
    {
     "name": "stdout",
     "output_type": "stream",
     "text": [
      "\n",
      "      Epoch    GPU_mem   box_loss   seg_loss   cls_loss   dfl_loss  Instances       Size\n"
     ]
    },
    {
     "name": "stderr",
     "output_type": "stream",
     "text": [
      "     24/100      0.44G      3.021      4.943      3.027     0.8205        103         64: 100%|██████████| 65/65 [00:43<00:00,  1.50it/s]\n",
      "                 Class     Images  Instances      Box(P          R      mAP50  mAP50-95)     Mask(P          R      mAP50  mAP50-95): 100%|██████████| 9/9 [00:02<00:00,  3.03it/s]"
     ]
    },
    {
     "name": "stdout",
     "output_type": "stream",
     "text": [
      "                   all        113       3363     0.0309      0.227     0.0429     0.0129    0.00321     0.0276    0.00222   0.000767\n"
     ]
    },
    {
     "name": "stderr",
     "output_type": "stream",
     "text": [
      "\n"
     ]
    },
    {
     "name": "stdout",
     "output_type": "stream",
     "text": [
      "\n",
      "      Epoch    GPU_mem   box_loss   seg_loss   cls_loss   dfl_loss  Instances       Size\n"
     ]
    },
    {
     "name": "stderr",
     "output_type": "stream",
     "text": [
      "     25/100      0.44G      3.055      4.851      3.002     0.8329         92         64: 100%|██████████| 65/65 [00:42<00:00,  1.54it/s]\n",
      "                 Class     Images  Instances      Box(P          R      mAP50  mAP50-95)     Mask(P          R      mAP50  mAP50-95): 100%|██████████| 9/9 [00:02<00:00,  3.41it/s]\n"
     ]
    },
    {
     "name": "stdout",
     "output_type": "stream",
     "text": [
      "                   all        113       3363     0.0351      0.256     0.0527     0.0159    0.00189     0.0172    0.00118   0.000571\n",
      "\n",
      "      Epoch    GPU_mem   box_loss   seg_loss   cls_loss   dfl_loss  Instances       Size\n"
     ]
    },
    {
     "name": "stderr",
     "output_type": "stream",
     "text": [
      "     26/100      0.44G      3.055      4.833      2.963     0.8281         91         64: 100%|██████████| 65/65 [00:42<00:00,  1.53it/s]\n",
      "                 Class     Images  Instances      Box(P          R      mAP50  mAP50-95)     Mask(P          R      mAP50  mAP50-95): 100%|██████████| 9/9 [00:02<00:00,  3.28it/s]"
     ]
    },
    {
     "name": "stdout",
     "output_type": "stream",
     "text": [
      "                   all        113       3363     0.0352      0.272      0.053     0.0161    0.00273     0.0254     0.0025   0.000826\n"
     ]
    },
    {
     "name": "stderr",
     "output_type": "stream",
     "text": [
      "\n"
     ]
    },
    {
     "name": "stdout",
     "output_type": "stream",
     "text": [
      "\n",
      "      Epoch    GPU_mem   box_loss   seg_loss   cls_loss   dfl_loss  Instances       Size\n"
     ]
    },
    {
     "name": "stderr",
     "output_type": "stream",
     "text": [
      "     27/100      0.44G      3.041      4.883      2.894     0.8291         89         64: 100%|██████████| 65/65 [00:44<00:00,  1.47it/s]\n",
      "                 Class     Images  Instances      Box(P          R      mAP50  mAP50-95)     Mask(P          R      mAP50  mAP50-95): 100%|██████████| 9/9 [00:02<00:00,  3.70it/s]\n"
     ]
    },
    {
     "name": "stdout",
     "output_type": "stream",
     "text": [
      "                   all        113       3363     0.0362      0.273     0.0554     0.0163      0.156     0.0282    0.00802    0.00257\n",
      "\n",
      "      Epoch    GPU_mem   box_loss   seg_loss   cls_loss   dfl_loss  Instances       Size\n"
     ]
    },
    {
     "name": "stderr",
     "output_type": "stream",
     "text": [
      "     28/100      0.44G      3.015      4.752      2.844      0.821         71         64: 100%|██████████| 65/65 [00:43<00:00,  1.49it/s]\n",
      "                 Class     Images  Instances      Box(P          R      mAP50  mAP50-95)     Mask(P          R      mAP50  mAP50-95): 100%|██████████| 9/9 [00:02<00:00,  3.55it/s]\n"
     ]
    },
    {
     "name": "stdout",
     "output_type": "stream",
     "text": [
      "                   all        113       3363      0.182      0.143     0.0559     0.0166    0.00455     0.0406    0.00339    0.00111\n",
      "\n",
      "      Epoch    GPU_mem   box_loss   seg_loss   cls_loss   dfl_loss  Instances       Size\n"
     ]
    },
    {
     "name": "stderr",
     "output_type": "stream",
     "text": [
      "     29/100      0.44G      3.079       4.91       2.83     0.8252         70         64: 100%|██████████| 65/65 [00:42<00:00,  1.52it/s]\n",
      "                 Class     Images  Instances      Box(P          R      mAP50  mAP50-95)     Mask(P          R      mAP50  mAP50-95): 100%|██████████| 9/9 [00:02<00:00,  3.21it/s]"
     ]
    },
    {
     "name": "stdout",
     "output_type": "stream",
     "text": [
      "                   all        113       3363     0.0371      0.281     0.0569     0.0167      0.006     0.0508    0.00532    0.00179\n"
     ]
    },
    {
     "name": "stderr",
     "output_type": "stream",
     "text": [
      "\n"
     ]
    },
    {
     "name": "stdout",
     "output_type": "stream",
     "text": [
      "\n",
      "      Epoch    GPU_mem   box_loss   seg_loss   cls_loss   dfl_loss  Instances       Size\n"
     ]
    },
    {
     "name": "stderr",
     "output_type": "stream",
     "text": [
      "     30/100      0.44G      2.996      4.822       2.78     0.8269         59         64: 100%|██████████| 65/65 [00:43<00:00,  1.51it/s]\n",
      "                 Class     Images  Instances      Box(P          R      mAP50  mAP50-95)     Mask(P          R      mAP50  mAP50-95): 100%|██████████| 9/9 [00:02<00:00,  3.12it/s]\n"
     ]
    },
    {
     "name": "stdout",
     "output_type": "stream",
     "text": [
      "                   all        113       3363     0.0372      0.302     0.0617     0.0181    0.00378     0.0391    0.00305    0.00107\n",
      "\n",
      "      Epoch    GPU_mem   box_loss   seg_loss   cls_loss   dfl_loss  Instances       Size\n"
     ]
    },
    {
     "name": "stderr",
     "output_type": "stream",
     "text": [
      "     31/100      0.44G      2.964      4.897      2.712      0.824         97         64: 100%|██████████| 65/65 [00:43<00:00,  1.48it/s]\n",
      "                 Class     Images  Instances      Box(P          R      mAP50  mAP50-95)     Mask(P          R      mAP50  mAP50-95): 100%|██████████| 9/9 [00:02<00:00,  3.12it/s]"
     ]
    },
    {
     "name": "stdout",
     "output_type": "stream",
     "text": [
      "                   all        113       3363      0.158      0.204     0.0593     0.0167       0.47     0.0153    0.00595     0.0019\n"
     ]
    },
    {
     "name": "stderr",
     "output_type": "stream",
     "text": [
      "\n"
     ]
    },
    {
     "name": "stdout",
     "output_type": "stream",
     "text": [
      "\n",
      "      Epoch    GPU_mem   box_loss   seg_loss   cls_loss   dfl_loss  Instances       Size\n"
     ]
    },
    {
     "name": "stderr",
     "output_type": "stream",
     "text": [
      "     32/100      0.44G      3.014      4.862      2.675     0.8179         94         64: 100%|██████████| 65/65 [00:43<00:00,  1.50it/s]\n",
      "                 Class     Images  Instances      Box(P          R      mAP50  mAP50-95)     Mask(P          R      mAP50  mAP50-95): 100%|██████████| 9/9 [00:02<00:00,  3.33it/s]"
     ]
    },
    {
     "name": "stdout",
     "output_type": "stream",
     "text": [
      "                   all        113       3363     0.0373      0.278     0.0571     0.0167    0.00375     0.0316    0.00242   0.000841\n"
     ]
    },
    {
     "name": "stderr",
     "output_type": "stream",
     "text": [
      "\n"
     ]
    },
    {
     "name": "stdout",
     "output_type": "stream",
     "text": [
      "\n",
      "      Epoch    GPU_mem   box_loss   seg_loss   cls_loss   dfl_loss  Instances       Size\n"
     ]
    },
    {
     "name": "stderr",
     "output_type": "stream",
     "text": [
      "     33/100      0.44G      2.983       4.65      2.635     0.8238         95         64: 100%|██████████| 65/65 [00:42<00:00,  1.52it/s]\n",
      "                 Class     Images  Instances      Box(P          R      mAP50  mAP50-95)     Mask(P          R      mAP50  mAP50-95): 100%|██████████| 9/9 [00:02<00:00,  3.18it/s]\n"
     ]
    },
    {
     "name": "stdout",
     "output_type": "stream",
     "text": [
      "                   all        113       3363     0.0371        0.3      0.066     0.0191    0.00563     0.0524    0.00568    0.00204\n",
      "\n",
      "      Epoch    GPU_mem   box_loss   seg_loss   cls_loss   dfl_loss  Instances       Size\n"
     ]
    },
    {
     "name": "stderr",
     "output_type": "stream",
     "text": [
      "     34/100      0.44G      2.985      4.739      2.629      0.818         91         64: 100%|██████████| 65/65 [00:42<00:00,  1.52it/s]\n",
      "                 Class     Images  Instances      Box(P          R      mAP50  mAP50-95)     Mask(P          R      mAP50  mAP50-95): 100%|██████████| 9/9 [00:02<00:00,  3.58it/s]"
     ]
    },
    {
     "name": "stdout",
     "output_type": "stream",
     "text": [
      "                   all        113       3363      0.103      0.254     0.0632     0.0184     0.0061     0.0587    0.00654    0.00218\n"
     ]
    },
    {
     "name": "stderr",
     "output_type": "stream",
     "text": [
      "\n"
     ]
    },
    {
     "name": "stdout",
     "output_type": "stream",
     "text": [
      "\n",
      "      Epoch    GPU_mem   box_loss   seg_loss   cls_loss   dfl_loss  Instances       Size\n"
     ]
    },
    {
     "name": "stderr",
     "output_type": "stream",
     "text": [
      "     35/100      0.44G      2.974      4.791      2.587     0.8167         86         64: 100%|██████████| 65/65 [00:42<00:00,  1.53it/s]\n",
      "                 Class     Images  Instances      Box(P          R      mAP50  mAP50-95)     Mask(P          R      mAP50  mAP50-95): 100%|██████████| 9/9 [00:03<00:00,  2.94it/s]\n"
     ]
    },
    {
     "name": "stdout",
     "output_type": "stream",
     "text": [
      "                   all        113       3363      0.356      0.115     0.0699     0.0196      0.353     0.0141    0.00524    0.00149\n",
      "\n",
      "      Epoch    GPU_mem   box_loss   seg_loss   cls_loss   dfl_loss  Instances       Size\n"
     ]
    },
    {
     "name": "stderr",
     "output_type": "stream",
     "text": [
      "     36/100      0.44G       2.98      4.683      2.579      0.825         83         64: 100%|██████████| 65/65 [00:42<00:00,  1.51it/s]\n",
      "                 Class     Images  Instances      Box(P          R      mAP50  mAP50-95)     Mask(P          R      mAP50  mAP50-95): 100%|██████████| 9/9 [00:02<00:00,  3.13it/s]\n"
     ]
    },
    {
     "name": "stdout",
     "output_type": "stream",
     "text": [
      "                   all        113       3363      0.155      0.215     0.0703     0.0197    0.00831     0.0716    0.00809    0.00275\n",
      "\n",
      "      Epoch    GPU_mem   box_loss   seg_loss   cls_loss   dfl_loss  Instances       Size\n"
     ]
    },
    {
     "name": "stderr",
     "output_type": "stream",
     "text": [
      "     37/100      0.44G      2.955      4.811      2.512     0.8176         93         64: 100%|██████████| 65/65 [00:43<00:00,  1.49it/s]\n",
      "                 Class     Images  Instances      Box(P          R      mAP50  mAP50-95)     Mask(P          R      mAP50  mAP50-95): 100%|██████████| 9/9 [00:02<00:00,  3.39it/s]"
     ]
    },
    {
     "name": "stdout",
     "output_type": "stream",
     "text": [
      "                   all        113       3363     0.0371       0.27     0.0633     0.0185    0.00595     0.0501    0.00549    0.00178\n"
     ]
    },
    {
     "name": "stderr",
     "output_type": "stream",
     "text": [
      "\n"
     ]
    },
    {
     "name": "stdout",
     "output_type": "stream",
     "text": [
      "\n",
      "      Epoch    GPU_mem   box_loss   seg_loss   cls_loss   dfl_loss  Instances       Size\n"
     ]
    },
    {
     "name": "stderr",
     "output_type": "stream",
     "text": [
      "     38/100      0.44G      2.973       4.76      2.503     0.8147        106         64: 100%|██████████| 65/65 [00:43<00:00,  1.49it/s]\n",
      "                 Class     Images  Instances      Box(P          R      mAP50  mAP50-95)     Mask(P          R      mAP50  mAP50-95): 100%|██████████| 9/9 [00:02<00:00,  3.46it/s]"
     ]
    },
    {
     "name": "stdout",
     "output_type": "stream",
     "text": [
      "                   all        113       3363       0.27      0.153     0.0734     0.0207      0.096      0.039    0.00628    0.00246\n"
     ]
    },
    {
     "name": "stderr",
     "output_type": "stream",
     "text": [
      "\n"
     ]
    },
    {
     "name": "stdout",
     "output_type": "stream",
     "text": [
      "\n",
      "      Epoch    GPU_mem   box_loss   seg_loss   cls_loss   dfl_loss  Instances       Size\n"
     ]
    },
    {
     "name": "stderr",
     "output_type": "stream",
     "text": [
      "     39/100     0.442G      2.934      4.785       2.48       0.82         76         64: 100%|██████████| 65/65 [00:43<00:00,  1.50it/s]\n",
      "                 Class     Images  Instances      Box(P          R      mAP50  mAP50-95)     Mask(P          R      mAP50  mAP50-95): 100%|██████████| 9/9 [00:03<00:00,  2.88it/s]\n"
     ]
    },
    {
     "name": "stdout",
     "output_type": "stream",
     "text": [
      "                   all        113       3363      0.363      0.113     0.0687       0.02     0.0955     0.0245    0.00581    0.00189\n",
      "\n",
      "      Epoch    GPU_mem   box_loss   seg_loss   cls_loss   dfl_loss  Instances       Size\n"
     ]
    },
    {
     "name": "stderr",
     "output_type": "stream",
     "text": [
      "     40/100     0.442G      2.943      4.762      2.453     0.8181        102         64: 100%|██████████| 65/65 [00:42<00:00,  1.52it/s]\n",
      "                 Class     Images  Instances      Box(P          R      mAP50  mAP50-95)     Mask(P          R      mAP50  mAP50-95): 100%|██████████| 9/9 [00:02<00:00,  3.22it/s]"
     ]
    },
    {
     "name": "stdout",
     "output_type": "stream",
     "text": [
      "                   all        113       3363      0.355      0.135     0.0734     0.0211      0.188     0.0318     0.0095    0.00385\n"
     ]
    },
    {
     "name": "stderr",
     "output_type": "stream",
     "text": [
      "\n"
     ]
    },
    {
     "name": "stdout",
     "output_type": "stream",
     "text": [
      "\n",
      "      Epoch    GPU_mem   box_loss   seg_loss   cls_loss   dfl_loss  Instances       Size\n"
     ]
    },
    {
     "name": "stderr",
     "output_type": "stream",
     "text": [
      "     41/100      0.44G      2.924      4.709      2.442     0.8255         86         64: 100%|██████████| 65/65 [00:43<00:00,  1.49it/s]\n",
      "                 Class     Images  Instances      Box(P          R      mAP50  mAP50-95)     Mask(P          R      mAP50  mAP50-95): 100%|██████████| 9/9 [00:02<00:00,  3.84it/s]"
     ]
    },
    {
     "name": "stdout",
     "output_type": "stream",
     "text": [
      "                   all        113       3363       0.33      0.141     0.0761     0.0221      0.303     0.0229     0.0105     0.0041\n"
     ]
    },
    {
     "name": "stderr",
     "output_type": "stream",
     "text": [
      "\n"
     ]
    },
    {
     "name": "stdout",
     "output_type": "stream",
     "text": [
      "\n",
      "      Epoch    GPU_mem   box_loss   seg_loss   cls_loss   dfl_loss  Instances       Size\n"
     ]
    },
    {
     "name": "stderr",
     "output_type": "stream",
     "text": [
      "     42/100      0.44G      2.928       4.75      2.426     0.8264         96         64: 100%|██████████| 65/65 [00:43<00:00,  1.50it/s]\n",
      "                 Class     Images  Instances      Box(P          R      mAP50  mAP50-95)     Mask(P          R      mAP50  mAP50-95): 100%|██████████| 9/9 [00:02<00:00,  3.45it/s]"
     ]
    },
    {
     "name": "stdout",
     "output_type": "stream",
     "text": [
      "                   all        113       3363      0.373      0.117     0.0676     0.0202    0.00673     0.0648    0.00684    0.00266\n"
     ]
    },
    {
     "name": "stderr",
     "output_type": "stream",
     "text": [
      "\n"
     ]
    },
    {
     "name": "stdout",
     "output_type": "stream",
     "text": [
      "\n",
      "      Epoch    GPU_mem   box_loss   seg_loss   cls_loss   dfl_loss  Instances       Size\n"
     ]
    },
    {
     "name": "stderr",
     "output_type": "stream",
     "text": [
      "     43/100      0.44G      2.899      4.693      2.392     0.8216         99         64: 100%|██████████| 65/65 [00:43<00:00,  1.50it/s]\n",
      "                 Class     Images  Instances      Box(P          R      mAP50  mAP50-95)     Mask(P          R      mAP50  mAP50-95): 100%|██████████| 9/9 [00:02<00:00,  3.31it/s]\n"
     ]
    },
    {
     "name": "stdout",
     "output_type": "stream",
     "text": [
      "                   all        113       3363      0.296      0.139     0.0739     0.0231      0.275     0.0156    0.00737    0.00318\n",
      "\n",
      "      Epoch    GPU_mem   box_loss   seg_loss   cls_loss   dfl_loss  Instances       Size\n"
     ]
    },
    {
     "name": "stderr",
     "output_type": "stream",
     "text": [
      "     44/100      0.44G      2.895      4.716      2.389     0.8181         96         64: 100%|██████████| 65/65 [00:42<00:00,  1.52it/s]\n",
      "                 Class     Images  Instances      Box(P          R      mAP50  mAP50-95)     Mask(P          R      mAP50  mAP50-95): 100%|██████████| 9/9 [00:02<00:00,  3.19it/s]\n"
     ]
    },
    {
     "name": "stdout",
     "output_type": "stream",
     "text": [
      "                   all        113       3363      0.284      0.146     0.0778     0.0241      0.254     0.0264     0.0104    0.00435\n",
      "\n",
      "      Epoch    GPU_mem   box_loss   seg_loss   cls_loss   dfl_loss  Instances       Size\n"
     ]
    },
    {
     "name": "stderr",
     "output_type": "stream",
     "text": [
      "     45/100      0.44G      2.896      4.786       2.44     0.8188         87         64: 100%|██████████| 65/65 [00:42<00:00,  1.53it/s]\n",
      "                 Class     Images  Instances      Box(P          R      mAP50  mAP50-95)     Mask(P          R      mAP50  mAP50-95): 100%|██████████| 9/9 [00:02<00:00,  3.25it/s]"
     ]
    },
    {
     "name": "stdout",
     "output_type": "stream",
     "text": [
      "                   all        113       3363      0.306      0.137     0.0733     0.0225      0.309     0.0218    0.00779    0.00319\n"
     ]
    },
    {
     "name": "stderr",
     "output_type": "stream",
     "text": [
      "\n"
     ]
    },
    {
     "name": "stdout",
     "output_type": "stream",
     "text": [
      "\n",
      "      Epoch    GPU_mem   box_loss   seg_loss   cls_loss   dfl_loss  Instances       Size\n"
     ]
    },
    {
     "name": "stderr",
     "output_type": "stream",
     "text": [
      "     46/100      0.44G      2.855      4.641      2.353     0.8125         86         64: 100%|██████████| 65/65 [00:43<00:00,  1.51it/s]\n",
      "                 Class     Images  Instances      Box(P          R      mAP50  mAP50-95)     Mask(P          R      mAP50  mAP50-95): 100%|██████████| 9/9 [00:02<00:00,  3.58it/s]\n"
     ]
    },
    {
     "name": "stdout",
     "output_type": "stream",
     "text": [
      "                   all        113       3363      0.319      0.128     0.0818     0.0246      0.303     0.0168     0.0104    0.00404\n",
      "\n",
      "      Epoch    GPU_mem   box_loss   seg_loss   cls_loss   dfl_loss  Instances       Size\n"
     ]
    },
    {
     "name": "stderr",
     "output_type": "stream",
     "text": [
      "     47/100      0.44G      2.867      4.735      2.362     0.8157        111         64: 100%|██████████| 65/65 [00:43<00:00,  1.51it/s]\n",
      "                 Class     Images  Instances      Box(P          R      mAP50  mAP50-95)     Mask(P          R      mAP50  mAP50-95): 100%|██████████| 9/9 [00:02<00:00,  3.39it/s]"
     ]
    },
    {
     "name": "stdout",
     "output_type": "stream",
     "text": [
      "                   all        113       3363      0.348       0.13     0.0818     0.0241      0.129     0.0286    0.00771    0.00296\n"
     ]
    },
    {
     "name": "stderr",
     "output_type": "stream",
     "text": [
      "\n"
     ]
    },
    {
     "name": "stdout",
     "output_type": "stream",
     "text": [
      "\n",
      "      Epoch    GPU_mem   box_loss   seg_loss   cls_loss   dfl_loss  Instances       Size\n"
     ]
    },
    {
     "name": "stderr",
     "output_type": "stream",
     "text": [
      "     48/100      0.44G      2.882       4.79      2.339     0.8109         70         64: 100%|██████████| 65/65 [00:42<00:00,  1.53it/s]\n",
      "                 Class     Images  Instances      Box(P          R      mAP50  mAP50-95)     Mask(P          R      mAP50  mAP50-95): 100%|██████████| 9/9 [00:02<00:00,  3.28it/s]\n"
     ]
    },
    {
     "name": "stdout",
     "output_type": "stream",
     "text": [
      "                   all        113       3363      0.315      0.131     0.0808      0.024      0.224      0.023    0.00927    0.00361\n",
      "\n",
      "      Epoch    GPU_mem   box_loss   seg_loss   cls_loss   dfl_loss  Instances       Size\n"
     ]
    },
    {
     "name": "stderr",
     "output_type": "stream",
     "text": [
      "     49/100      0.44G      2.881      4.608      2.337     0.8131         87         64: 100%|██████████| 65/65 [00:42<00:00,  1.53it/s]\n",
      "                 Class     Images  Instances      Box(P          R      mAP50  mAP50-95)     Mask(P          R      mAP50  mAP50-95): 100%|██████████| 9/9 [00:02<00:00,  3.05it/s]"
     ]
    },
    {
     "name": "stdout",
     "output_type": "stream",
     "text": [
      "                   all        113       3363      0.339       0.12     0.0803     0.0244      0.277     0.0226     0.0105    0.00524\n"
     ]
    },
    {
     "name": "stderr",
     "output_type": "stream",
     "text": [
      "\n"
     ]
    },
    {
     "name": "stdout",
     "output_type": "stream",
     "text": [
      "\n",
      "      Epoch    GPU_mem   box_loss   seg_loss   cls_loss   dfl_loss  Instances       Size\n"
     ]
    },
    {
     "name": "stderr",
     "output_type": "stream",
     "text": [
      "     50/100     0.442G      2.904      4.682      2.317      0.813        110         64: 100%|██████████| 65/65 [00:42<00:00,  1.53it/s]\n",
      "                 Class     Images  Instances      Box(P          R      mAP50  mAP50-95)     Mask(P          R      mAP50  mAP50-95): 100%|██████████| 9/9 [00:03<00:00,  2.89it/s]"
     ]
    },
    {
     "name": "stdout",
     "output_type": "stream",
     "text": [
      "                   all        113       3363      0.296      0.142     0.0826      0.025       0.19     0.0191    0.00702    0.00296\n"
     ]
    },
    {
     "name": "stderr",
     "output_type": "stream",
     "text": [
      "\n"
     ]
    },
    {
     "name": "stdout",
     "output_type": "stream",
     "text": [
      "\n",
      "      Epoch    GPU_mem   box_loss   seg_loss   cls_loss   dfl_loss  Instances       Size\n"
     ]
    },
    {
     "name": "stderr",
     "output_type": "stream",
     "text": [
      "     51/100      0.44G      2.893      4.544      2.325     0.8123         99         64: 100%|██████████| 65/65 [00:43<00:00,  1.49it/s]\n",
      "                 Class     Images  Instances      Box(P          R      mAP50  mAP50-95)     Mask(P          R      mAP50  mAP50-95): 100%|██████████| 9/9 [00:02<00:00,  3.53it/s]"
     ]
    },
    {
     "name": "stdout",
     "output_type": "stream",
     "text": [
      "                   all        113       3363      0.406      0.132     0.0783      0.024      0.163     0.0236    0.00885    0.00347\n"
     ]
    },
    {
     "name": "stderr",
     "output_type": "stream",
     "text": [
      "\n"
     ]
    },
    {
     "name": "stdout",
     "output_type": "stream",
     "text": [
      "\n",
      "      Epoch    GPU_mem   box_loss   seg_loss   cls_loss   dfl_loss  Instances       Size\n"
     ]
    },
    {
     "name": "stderr",
     "output_type": "stream",
     "text": [
      "     52/100      0.44G      2.875      4.715      2.271     0.8117         99         64: 100%|██████████| 65/65 [00:42<00:00,  1.52it/s]\n",
      "                 Class     Images  Instances      Box(P          R      mAP50  mAP50-95)     Mask(P          R      mAP50  mAP50-95): 100%|██████████| 9/9 [00:03<00:00,  2.96it/s]\n"
     ]
    },
    {
     "name": "stdout",
     "output_type": "stream",
     "text": [
      "                   all        113       3363      0.342      0.125     0.0861     0.0267      0.235     0.0317     0.0159    0.00604\n",
      "\n",
      "      Epoch    GPU_mem   box_loss   seg_loss   cls_loss   dfl_loss  Instances       Size\n"
     ]
    },
    {
     "name": "stderr",
     "output_type": "stream",
     "text": [
      "     53/100      0.44G      2.871      4.762      2.278     0.8121        120         64: 100%|██████████| 65/65 [00:43<00:00,  1.51it/s]\n",
      "                 Class     Images  Instances      Box(P          R      mAP50  mAP50-95)     Mask(P          R      mAP50  mAP50-95): 100%|██████████| 9/9 [00:02<00:00,  3.16it/s]\n"
     ]
    },
    {
     "name": "stdout",
     "output_type": "stream",
     "text": [
      "                   all        113       3363      0.376      0.139     0.0866     0.0259       0.14     0.0438     0.0126    0.00503\n",
      "\n",
      "      Epoch    GPU_mem   box_loss   seg_loss   cls_loss   dfl_loss  Instances       Size\n"
     ]
    },
    {
     "name": "stderr",
     "output_type": "stream",
     "text": [
      "     54/100     0.442G      2.852        4.7      2.262      0.814         78         64: 100%|██████████| 65/65 [00:43<00:00,  1.48it/s]\n",
      "                 Class     Images  Instances      Box(P          R      mAP50  mAP50-95)     Mask(P          R      mAP50  mAP50-95): 100%|██████████| 9/9 [00:02<00:00,  3.34it/s]"
     ]
    },
    {
     "name": "stdout",
     "output_type": "stream",
     "text": [
      "                   all        113       3363      0.376      0.121     0.0822     0.0251      0.127     0.0251    0.00697    0.00259\n"
     ]
    },
    {
     "name": "stderr",
     "output_type": "stream",
     "text": [
      "\n"
     ]
    },
    {
     "name": "stdout",
     "output_type": "stream",
     "text": [
      "\n",
      "      Epoch    GPU_mem   box_loss   seg_loss   cls_loss   dfl_loss  Instances       Size\n"
     ]
    },
    {
     "name": "stderr",
     "output_type": "stream",
     "text": [
      "     55/100      0.44G       2.85       4.59      2.276      0.814         90         64: 100%|██████████| 65/65 [00:43<00:00,  1.50it/s]\n",
      "                 Class     Images  Instances      Box(P          R      mAP50  mAP50-95)     Mask(P          R      mAP50  mAP50-95): 100%|██████████| 9/9 [00:02<00:00,  3.41it/s]\n"
     ]
    },
    {
     "name": "stdout",
     "output_type": "stream",
     "text": [
      "                   all        113       3363      0.352      0.136     0.0894     0.0274      0.253     0.0265     0.0125    0.00523\n",
      "\n",
      "      Epoch    GPU_mem   box_loss   seg_loss   cls_loss   dfl_loss  Instances       Size\n"
     ]
    },
    {
     "name": "stderr",
     "output_type": "stream",
     "text": [
      "     56/100     0.442G      2.832      4.621       2.27     0.8216        127         64: 100%|██████████| 65/65 [00:44<00:00,  1.47it/s]\n",
      "                 Class     Images  Instances      Box(P          R      mAP50  mAP50-95)     Mask(P          R      mAP50  mAP50-95): 100%|██████████| 9/9 [00:02<00:00,  4.11it/s]"
     ]
    },
    {
     "name": "stdout",
     "output_type": "stream",
     "text": [
      "                   all        113       3363      0.329      0.146     0.0916     0.0276      0.226     0.0288     0.0123    0.00484\n"
     ]
    },
    {
     "name": "stderr",
     "output_type": "stream",
     "text": [
      "\n"
     ]
    },
    {
     "name": "stdout",
     "output_type": "stream",
     "text": [
      "\n",
      "      Epoch    GPU_mem   box_loss   seg_loss   cls_loss   dfl_loss  Instances       Size\n"
     ]
    },
    {
     "name": "stderr",
     "output_type": "stream",
     "text": [
      "     57/100      0.44G      2.825      4.602      2.244     0.8188         69         64: 100%|██████████| 65/65 [00:42<00:00,  1.51it/s]\n",
      "                 Class     Images  Instances      Box(P          R      mAP50  mAP50-95)     Mask(P          R      mAP50  mAP50-95): 100%|██████████| 9/9 [00:02<00:00,  3.04it/s]"
     ]
    },
    {
     "name": "stdout",
     "output_type": "stream",
     "text": [
      "                   all        113       3363      0.307      0.149     0.0859     0.0261      0.134     0.0316    0.00918    0.00363\n"
     ]
    },
    {
     "name": "stderr",
     "output_type": "stream",
     "text": [
      "\n"
     ]
    },
    {
     "name": "stdout",
     "output_type": "stream",
     "text": [
      "\n",
      "      Epoch    GPU_mem   box_loss   seg_loss   cls_loss   dfl_loss  Instances       Size\n"
     ]
    },
    {
     "name": "stderr",
     "output_type": "stream",
     "text": [
      "     58/100     0.442G      2.814      4.573      2.258     0.8193         88         64: 100%|██████████| 65/65 [00:42<00:00,  1.53it/s]\n",
      "                 Class     Images  Instances      Box(P          R      mAP50  mAP50-95)     Mask(P          R      mAP50  mAP50-95): 100%|██████████| 9/9 [00:02<00:00,  3.30it/s]\n"
     ]
    },
    {
     "name": "stdout",
     "output_type": "stream",
     "text": [
      "                   all        113       3363      0.339      0.161     0.0932     0.0282      0.225     0.0277     0.0111     0.0046\n",
      "\n",
      "      Epoch    GPU_mem   box_loss   seg_loss   cls_loss   dfl_loss  Instances       Size\n"
     ]
    },
    {
     "name": "stderr",
     "output_type": "stream",
     "text": [
      "     59/100     0.442G       2.88      4.655      2.248     0.8092        113         64: 100%|██████████| 65/65 [00:43<00:00,  1.48it/s]\n",
      "                 Class     Images  Instances      Box(P          R      mAP50  mAP50-95)     Mask(P          R      mAP50  mAP50-95): 100%|██████████| 9/9 [00:02<00:00,  3.25it/s]\n"
     ]
    },
    {
     "name": "stdout",
     "output_type": "stream",
     "text": [
      "                   all        113       3363      0.346      0.142     0.0934     0.0283      0.135     0.0346     0.0114    0.00467\n",
      "\n",
      "      Epoch    GPU_mem   box_loss   seg_loss   cls_loss   dfl_loss  Instances       Size\n"
     ]
    },
    {
     "name": "stderr",
     "output_type": "stream",
     "text": [
      "     60/100     0.442G      2.857      4.619       2.23     0.8051         95         64: 100%|██████████| 65/65 [00:42<00:00,  1.52it/s]\n",
      "                 Class     Images  Instances      Box(P          R      mAP50  mAP50-95)     Mask(P          R      mAP50  mAP50-95): 100%|██████████| 9/9 [00:02<00:00,  3.26it/s]"
     ]
    },
    {
     "name": "stdout",
     "output_type": "stream",
     "text": [
      "                   all        113       3363      0.333      0.149     0.0913     0.0278       0.19     0.0247    0.00958    0.00385\n"
     ]
    },
    {
     "name": "stderr",
     "output_type": "stream",
     "text": [
      "\n"
     ]
    },
    {
     "name": "stdout",
     "output_type": "stream",
     "text": [
      "\n",
      "      Epoch    GPU_mem   box_loss   seg_loss   cls_loss   dfl_loss  Instances       Size\n"
     ]
    },
    {
     "name": "stderr",
     "output_type": "stream",
     "text": [
      "     61/100     0.442G      2.811      4.583      2.215     0.8159        129         64: 100%|██████████| 65/65 [00:44<00:00,  1.46it/s]\n",
      "                 Class     Images  Instances      Box(P          R      mAP50  mAP50-95)     Mask(P          R      mAP50  mAP50-95): 100%|██████████| 9/9 [00:02<00:00,  3.52it/s]"
     ]
    },
    {
     "name": "stdout",
     "output_type": "stream",
     "text": [
      "                   all        113       3363      0.338      0.148     0.0932     0.0282      0.226     0.0233     0.0118    0.00453\n"
     ]
    },
    {
     "name": "stderr",
     "output_type": "stream",
     "text": [
      "\n"
     ]
    },
    {
     "name": "stdout",
     "output_type": "stream",
     "text": [
      "\n",
      "      Epoch    GPU_mem   box_loss   seg_loss   cls_loss   dfl_loss  Instances       Size\n"
     ]
    },
    {
     "name": "stderr",
     "output_type": "stream",
     "text": [
      "     62/100     0.442G      2.881      4.601      2.241     0.8097         58         64: 100%|██████████| 65/65 [00:43<00:00,  1.50it/s]\n",
      "                 Class     Images  Instances      Box(P          R      mAP50  mAP50-95)     Mask(P          R      mAP50  mAP50-95): 100%|██████████| 9/9 [00:02<00:00,  3.24it/s]"
     ]
    },
    {
     "name": "stdout",
     "output_type": "stream",
     "text": [
      "                   all        113       3363       0.29      0.155     0.0903     0.0272      0.168     0.0297     0.0141    0.00574\n"
     ]
    },
    {
     "name": "stderr",
     "output_type": "stream",
     "text": [
      "\n"
     ]
    },
    {
     "name": "stdout",
     "output_type": "stream",
     "text": [
      "\n",
      "      Epoch    GPU_mem   box_loss   seg_loss   cls_loss   dfl_loss  Instances       Size\n"
     ]
    },
    {
     "name": "stderr",
     "output_type": "stream",
     "text": [
      "     63/100     0.442G      2.816      4.724      2.208     0.8084         74         64: 100%|██████████| 65/65 [00:44<00:00,  1.47it/s]\n",
      "                 Class     Images  Instances      Box(P          R      mAP50  mAP50-95)     Mask(P          R      mAP50  mAP50-95): 100%|██████████| 9/9 [00:02<00:00,  3.32it/s]\n"
     ]
    },
    {
     "name": "stdout",
     "output_type": "stream",
     "text": [
      "                   all        113       3363       0.29      0.155     0.0936     0.0284      0.168     0.0309     0.0128    0.00505\n",
      "\n",
      "      Epoch    GPU_mem   box_loss   seg_loss   cls_loss   dfl_loss  Instances       Size\n"
     ]
    },
    {
     "name": "stderr",
     "output_type": "stream",
     "text": [
      "     64/100      0.44G      2.801      4.548      2.189     0.8148         63         64: 100%|██████████| 65/65 [00:43<00:00,  1.49it/s]\n",
      "                 Class     Images  Instances      Box(P          R      mAP50  mAP50-95)     Mask(P          R      mAP50  mAP50-95): 100%|██████████| 9/9 [00:02<00:00,  3.33it/s]\n"
     ]
    },
    {
     "name": "stdout",
     "output_type": "stream",
     "text": [
      "                   all        113       3363      0.337      0.144     0.0906     0.0284      0.136      0.038     0.0104     0.0044\n",
      "\n",
      "      Epoch    GPU_mem   box_loss   seg_loss   cls_loss   dfl_loss  Instances       Size\n"
     ]
    },
    {
     "name": "stderr",
     "output_type": "stream",
     "text": [
      "     65/100      0.44G      2.804      4.627      2.171     0.8037         78         64: 100%|██████████| 65/65 [00:43<00:00,  1.51it/s]\n",
      "                 Class     Images  Instances      Box(P          R      mAP50  mAP50-95)     Mask(P          R      mAP50  mAP50-95): 100%|██████████| 9/9 [00:03<00:00,  2.98it/s]\n"
     ]
    },
    {
     "name": "stdout",
     "output_type": "stream",
     "text": [
      "                   all        113       3363      0.341      0.159     0.0941     0.0293       0.22     0.0218    0.00999    0.00429\n",
      "\n",
      "      Epoch    GPU_mem   box_loss   seg_loss   cls_loss   dfl_loss  Instances       Size\n"
     ]
    },
    {
     "name": "stderr",
     "output_type": "stream",
     "text": [
      "     66/100      0.44G      2.878      4.532      2.236     0.8153         69         64: 100%|██████████| 65/65 [00:43<00:00,  1.51it/s]\n",
      "                 Class     Images  Instances      Box(P          R      mAP50  mAP50-95)     Mask(P          R      mAP50  mAP50-95): 100%|██████████| 9/9 [00:02<00:00,  3.10it/s]\n"
     ]
    },
    {
     "name": "stdout",
     "output_type": "stream",
     "text": [
      "                   all        113       3363      0.284      0.169     0.0946     0.0284      0.166     0.0253     0.0109    0.00403\n",
      "\n",
      "      Epoch    GPU_mem   box_loss   seg_loss   cls_loss   dfl_loss  Instances       Size\n"
     ]
    },
    {
     "name": "stderr",
     "output_type": "stream",
     "text": [
      "     67/100      0.44G       2.83      4.521      2.185     0.8093         92         64: 100%|██████████| 65/65 [00:43<00:00,  1.49it/s]\n",
      "                 Class     Images  Instances      Box(P          R      mAP50  mAP50-95)     Mask(P          R      mAP50  mAP50-95): 100%|██████████| 9/9 [00:02<00:00,  3.47it/s]\n"
     ]
    },
    {
     "name": "stdout",
     "output_type": "stream",
     "text": [
      "                   all        113       3363      0.293      0.158      0.096     0.0293      0.167     0.0295     0.0121    0.00487\n",
      "\n",
      "      Epoch    GPU_mem   box_loss   seg_loss   cls_loss   dfl_loss  Instances       Size\n"
     ]
    },
    {
     "name": "stderr",
     "output_type": "stream",
     "text": [
      "     68/100      0.44G      2.825      4.619      2.192     0.8054        106         64: 100%|██████████| 65/65 [00:44<00:00,  1.46it/s]\n",
      "                 Class     Images  Instances      Box(P          R      mAP50  mAP50-95)     Mask(P          R      mAP50  mAP50-95): 100%|██████████| 9/9 [00:02<00:00,  3.88it/s]"
     ]
    },
    {
     "name": "stdout",
     "output_type": "stream",
     "text": [
      "                   all        113       3363      0.387      0.144     0.0942     0.0291      0.224     0.0289     0.0122    0.00531\n"
     ]
    },
    {
     "name": "stderr",
     "output_type": "stream",
     "text": [
      "\n"
     ]
    },
    {
     "name": "stdout",
     "output_type": "stream",
     "text": [
      "\n",
      "      Epoch    GPU_mem   box_loss   seg_loss   cls_loss   dfl_loss  Instances       Size\n"
     ]
    },
    {
     "name": "stderr",
     "output_type": "stream",
     "text": [
      "     69/100      0.44G      2.846      4.647       2.19     0.8104         70         64: 100%|██████████| 65/65 [00:43<00:00,  1.50it/s]\n",
      "                 Class     Images  Instances      Box(P          R      mAP50  mAP50-95)     Mask(P          R      mAP50  mAP50-95): 100%|██████████| 9/9 [00:02<00:00,  3.23it/s]\n"
     ]
    },
    {
     "name": "stdout",
     "output_type": "stream",
     "text": [
      "                   all        113       3363      0.346      0.156     0.0971     0.0296       0.24     0.0314     0.0149    0.00625\n",
      "\n",
      "      Epoch    GPU_mem   box_loss   seg_loss   cls_loss   dfl_loss  Instances       Size\n"
     ]
    },
    {
     "name": "stderr",
     "output_type": "stream",
     "text": [
      "     70/100     0.442G      2.819      4.532      2.165      0.801        111         64: 100%|██████████| 65/65 [00:42<00:00,  1.52it/s]\n",
      "                 Class     Images  Instances      Box(P          R      mAP50  mAP50-95)     Mask(P          R      mAP50  mAP50-95): 100%|██████████| 9/9 [00:02<00:00,  3.03it/s]"
     ]
    },
    {
     "name": "stdout",
     "output_type": "stream",
     "text": [
      "                   all        113       3363      0.284      0.178     0.0961     0.0296       0.17     0.0297     0.0124    0.00499\n"
     ]
    },
    {
     "name": "stderr",
     "output_type": "stream",
     "text": [
      "\n"
     ]
    },
    {
     "name": "stdout",
     "output_type": "stream",
     "text": [
      "\n",
      "      Epoch    GPU_mem   box_loss   seg_loss   cls_loss   dfl_loss  Instances       Size\n"
     ]
    },
    {
     "name": "stderr",
     "output_type": "stream",
     "text": [
      "     71/100      0.44G      2.864      4.479      2.194     0.8126        138         64: 100%|██████████| 65/65 [00:43<00:00,  1.50it/s]\n",
      "                 Class     Images  Instances      Box(P          R      mAP50  mAP50-95)     Mask(P          R      mAP50  mAP50-95): 100%|██████████| 9/9 [00:02<00:00,  3.28it/s]\n"
     ]
    },
    {
     "name": "stdout",
     "output_type": "stream",
     "text": [
      "                   all        113       3363      0.312      0.174     0.0947     0.0291      0.198     0.0326     0.0129    0.00527\n",
      "\n",
      "      Epoch    GPU_mem   box_loss   seg_loss   cls_loss   dfl_loss  Instances       Size\n"
     ]
    },
    {
     "name": "stderr",
     "output_type": "stream",
     "text": [
      "     72/100     0.442G      2.791      4.587      2.171     0.8106         65         64: 100%|██████████| 65/65 [00:43<00:00,  1.50it/s]\n",
      "                 Class     Images  Instances      Box(P          R      mAP50  mAP50-95)     Mask(P          R      mAP50  mAP50-95): 100%|██████████| 9/9 [00:02<00:00,  3.68it/s]\n"
     ]
    },
    {
     "name": "stdout",
     "output_type": "stream",
     "text": [
      "                   all        113       3363      0.336       0.15     0.0957     0.0297      0.237     0.0351     0.0167    0.00683\n",
      "\n",
      "      Epoch    GPU_mem   box_loss   seg_loss   cls_loss   dfl_loss  Instances       Size\n"
     ]
    },
    {
     "name": "stderr",
     "output_type": "stream",
     "text": [
      "     73/100      0.44G      2.788      4.654      2.155     0.8084        110         64: 100%|██████████| 65/65 [00:42<00:00,  1.53it/s]\n",
      "                 Class     Images  Instances      Box(P          R      mAP50  mAP50-95)     Mask(P          R      mAP50  mAP50-95): 100%|██████████| 9/9 [00:02<00:00,  3.18it/s]\n"
     ]
    },
    {
     "name": "stdout",
     "output_type": "stream",
     "text": [
      "                   all        113       3363      0.315      0.159     0.0969     0.0302      0.208     0.0425     0.0175    0.00742\n",
      "\n",
      "      Epoch    GPU_mem   box_loss   seg_loss   cls_loss   dfl_loss  Instances       Size\n"
     ]
    },
    {
     "name": "stderr",
     "output_type": "stream",
     "text": [
      "     74/100      0.44G      2.788      4.497      2.166     0.8079         97         64: 100%|██████████| 65/65 [00:43<00:00,  1.50it/s]\n",
      "                 Class     Images  Instances      Box(P          R      mAP50  mAP50-95)     Mask(P          R      mAP50  mAP50-95): 100%|██████████| 9/9 [00:02<00:00,  3.09it/s]\n"
     ]
    },
    {
     "name": "stdout",
     "output_type": "stream",
     "text": [
      "                   all        113       3363      0.312      0.165     0.0942     0.0291        0.2     0.0354     0.0139     0.0059\n",
      "\n",
      "      Epoch    GPU_mem   box_loss   seg_loss   cls_loss   dfl_loss  Instances       Size\n"
     ]
    },
    {
     "name": "stderr",
     "output_type": "stream",
     "text": [
      "     75/100      0.44G      2.802      4.544      2.148     0.8043        101         64: 100%|██████████| 65/65 [00:42<00:00,  1.52it/s]\n",
      "                 Class     Images  Instances      Box(P          R      mAP50  mAP50-95)     Mask(P          R      mAP50  mAP50-95): 100%|██████████| 9/9 [00:02<00:00,  3.36it/s]\n"
     ]
    },
    {
     "name": "stdout",
     "output_type": "stream",
     "text": [
      "                   all        113       3363      0.323      0.157     0.0979     0.0302      0.196     0.0267     0.0122    0.00555\n",
      "\n",
      "      Epoch    GPU_mem   box_loss   seg_loss   cls_loss   dfl_loss  Instances       Size\n"
     ]
    },
    {
     "name": "stderr",
     "output_type": "stream",
     "text": [
      "     76/100      0.44G      2.825      4.685      2.175     0.8084        102         64: 100%|██████████| 65/65 [00:42<00:00,  1.52it/s]\n",
      "                 Class     Images  Instances      Box(P          R      mAP50  mAP50-95)     Mask(P          R      mAP50  mAP50-95): 100%|██████████| 9/9 [00:02<00:00,  3.17it/s]\n"
     ]
    },
    {
     "name": "stdout",
     "output_type": "stream",
     "text": [
      "                   all        113       3363      0.325      0.161      0.102     0.0311      0.201     0.0291     0.0132    0.00563\n",
      "\n",
      "      Epoch    GPU_mem   box_loss   seg_loss   cls_loss   dfl_loss  Instances       Size\n"
     ]
    },
    {
     "name": "stderr",
     "output_type": "stream",
     "text": [
      "     77/100      0.44G      2.802      4.625      2.149     0.8101         86         64: 100%|██████████| 65/65 [00:43<00:00,  1.50it/s]\n",
      "                 Class     Images  Instances      Box(P          R      mAP50  mAP50-95)     Mask(P          R      mAP50  mAP50-95): 100%|██████████| 9/9 [00:03<00:00,  2.93it/s]\n"
     ]
    },
    {
     "name": "stdout",
     "output_type": "stream",
     "text": [
      "                   all        113       3363      0.289      0.179      0.102     0.0315      0.169     0.0347     0.0147    0.00574\n",
      "\n",
      "      Epoch    GPU_mem   box_loss   seg_loss   cls_loss   dfl_loss  Instances       Size\n"
     ]
    },
    {
     "name": "stderr",
     "output_type": "stream",
     "text": [
      "     78/100     0.442G      2.781       4.64      2.157     0.8083         65         64: 100%|██████████| 65/65 [00:42<00:00,  1.52it/s]\n",
      "                 Class     Images  Instances      Box(P          R      mAP50  mAP50-95)     Mask(P          R      mAP50  mAP50-95): 100%|██████████| 9/9 [00:02<00:00,  3.42it/s]\n"
     ]
    },
    {
     "name": "stdout",
     "output_type": "stream",
     "text": [
      "                   all        113       3363       0.29      0.182      0.103     0.0316       0.17     0.0389     0.0156    0.00582\n",
      "\n",
      "      Epoch    GPU_mem   box_loss   seg_loss   cls_loss   dfl_loss  Instances       Size\n"
     ]
    },
    {
     "name": "stderr",
     "output_type": "stream",
     "text": [
      "     79/100      0.44G      2.802      4.634      2.124     0.8059         88         64: 100%|██████████| 65/65 [00:43<00:00,  1.48it/s]\n",
      "                 Class     Images  Instances      Box(P          R      mAP50  mAP50-95)     Mask(P          R      mAP50  mAP50-95): 100%|██████████| 9/9 [00:02<00:00,  3.30it/s]"
     ]
    },
    {
     "name": "stdout",
     "output_type": "stream",
     "text": [
      "                   all        113       3363      0.316      0.178      0.104     0.0323      0.169     0.0337     0.0137    0.00503\n"
     ]
    },
    {
     "name": "stderr",
     "output_type": "stream",
     "text": [
      "\n"
     ]
    },
    {
     "name": "stdout",
     "output_type": "stream",
     "text": [
      "\n",
      "      Epoch    GPU_mem   box_loss   seg_loss   cls_loss   dfl_loss  Instances       Size\n"
     ]
    },
    {
     "name": "stderr",
     "output_type": "stream",
     "text": [
      "     80/100     0.442G      2.815      4.632       2.16     0.8071        110         64: 100%|██████████| 65/65 [00:43<00:00,  1.50it/s]\n",
      "                 Class     Images  Instances      Box(P          R      mAP50  mAP50-95)     Mask(P          R      mAP50  mAP50-95): 100%|██████████| 9/9 [00:02<00:00,  3.05it/s]\n"
     ]
    },
    {
     "name": "stdout",
     "output_type": "stream",
     "text": [
      "                   all        113       3363      0.291      0.179      0.105     0.0321       0.17     0.0348     0.0148    0.00573\n",
      "\n",
      "      Epoch    GPU_mem   box_loss   seg_loss   cls_loss   dfl_loss  Instances       Size\n"
     ]
    },
    {
     "name": "stderr",
     "output_type": "stream",
     "text": [
      "     81/100     0.442G      2.797      4.559       2.17     0.8122         33         64: 100%|██████████| 65/65 [00:43<00:00,  1.50it/s]\n",
      "                 Class     Images  Instances      Box(P          R      mAP50  mAP50-95)     Mask(P          R      mAP50  mAP50-95): 100%|██████████| 9/9 [00:02<00:00,  3.42it/s]"
     ]
    },
    {
     "name": "stdout",
     "output_type": "stream",
     "text": [
      "                   all        113       3363      0.292      0.179      0.106     0.0327      0.171     0.0343      0.015    0.00596\n"
     ]
    },
    {
     "name": "stderr",
     "output_type": "stream",
     "text": [
      "\n"
     ]
    },
    {
     "name": "stdout",
     "output_type": "stream",
     "text": [
      "\n",
      "      Epoch    GPU_mem   box_loss   seg_loss   cls_loss   dfl_loss  Instances       Size\n"
     ]
    },
    {
     "name": "stderr",
     "output_type": "stream",
     "text": [
      "     82/100      0.44G      2.774      4.529       2.14     0.8124         66         64: 100%|██████████| 65/65 [00:43<00:00,  1.49it/s]\n",
      "                 Class     Images  Instances      Box(P          R      mAP50  mAP50-95)     Mask(P          R      mAP50  mAP50-95): 100%|██████████| 9/9 [00:03<00:00,  2.78it/s]"
     ]
    },
    {
     "name": "stdout",
     "output_type": "stream",
     "text": [
      "                   all        113       3363      0.293      0.186      0.106     0.0324      0.171     0.0394     0.0159    0.00644\n"
     ]
    },
    {
     "name": "stderr",
     "output_type": "stream",
     "text": [
      "\n"
     ]
    },
    {
     "name": "stdout",
     "output_type": "stream",
     "text": [
      "\n",
      "      Epoch    GPU_mem   box_loss   seg_loss   cls_loss   dfl_loss  Instances       Size\n"
     ]
    },
    {
     "name": "stderr",
     "output_type": "stream",
     "text": [
      "     83/100      0.44G      2.773      4.519      2.121      0.805        101         64: 100%|██████████| 65/65 [00:42<00:00,  1.51it/s]\n",
      "                 Class     Images  Instances      Box(P          R      mAP50  mAP50-95)     Mask(P          R      mAP50  mAP50-95): 100%|██████████| 9/9 [00:02<00:00,  3.18it/s]"
     ]
    },
    {
     "name": "stdout",
     "output_type": "stream",
     "text": [
      "                   all        113       3363      0.317      0.184      0.106     0.0329      0.201     0.0416     0.0158    0.00646\n"
     ]
    },
    {
     "name": "stderr",
     "output_type": "stream",
     "text": [
      "\n"
     ]
    },
    {
     "name": "stdout",
     "output_type": "stream",
     "text": [
      "\n",
      "      Epoch    GPU_mem   box_loss   seg_loss   cls_loss   dfl_loss  Instances       Size\n"
     ]
    },
    {
     "name": "stderr",
     "output_type": "stream",
     "text": [
      "     84/100      0.44G      2.786      4.545      2.142     0.8075        105         64: 100%|██████████| 65/65 [00:43<00:00,  1.49it/s]\n",
      "                 Class     Images  Instances      Box(P          R      mAP50  mAP50-95)     Mask(P          R      mAP50  mAP50-95): 100%|██████████| 9/9 [00:02<00:00,  3.33it/s]\n"
     ]
    },
    {
     "name": "stdout",
     "output_type": "stream",
     "text": [
      "                   all        113       3363      0.329      0.173      0.107     0.0331        0.2     0.0362     0.0148    0.00621\n",
      "\n",
      "      Epoch    GPU_mem   box_loss   seg_loss   cls_loss   dfl_loss  Instances       Size\n"
     ]
    },
    {
     "name": "stderr",
     "output_type": "stream",
     "text": [
      "     85/100      0.44G       2.76      4.596      2.129     0.8042         62         64: 100%|██████████| 65/65 [00:43<00:00,  1.48it/s]\n",
      "                 Class     Images  Instances      Box(P          R      mAP50  mAP50-95)     Mask(P          R      mAP50  mAP50-95): 100%|██████████| 9/9 [00:02<00:00,  3.39it/s]"
     ]
    },
    {
     "name": "stdout",
     "output_type": "stream",
     "text": [
      "                   all        113       3363      0.323      0.172      0.104     0.0322      0.199      0.036     0.0147    0.00635\n"
     ]
    },
    {
     "name": "stderr",
     "output_type": "stream",
     "text": [
      "\n"
     ]
    },
    {
     "name": "stdout",
     "output_type": "stream",
     "text": [
      "\n",
      "      Epoch    GPU_mem   box_loss   seg_loss   cls_loss   dfl_loss  Instances       Size\n"
     ]
    },
    {
     "name": "stderr",
     "output_type": "stream",
     "text": [
      "     86/100     0.442G      2.761      4.487       2.11     0.7993        107         64: 100%|██████████| 65/65 [00:43<00:00,  1.50it/s]\n",
      "                 Class     Images  Instances      Box(P          R      mAP50  mAP50-95)     Mask(P          R      mAP50  mAP50-95): 100%|██████████| 9/9 [00:02<00:00,  3.05it/s]\n"
     ]
    },
    {
     "name": "stdout",
     "output_type": "stream",
     "text": [
      "                   all        113       3363      0.324      0.182      0.106     0.0328      0.196      0.032     0.0133    0.00552\n",
      "\n",
      "      Epoch    GPU_mem   box_loss   seg_loss   cls_loss   dfl_loss  Instances       Size\n"
     ]
    },
    {
     "name": "stderr",
     "output_type": "stream",
     "text": [
      "     87/100     0.442G      2.756      4.431      2.129     0.8116         63         64: 100%|██████████| 65/65 [00:43<00:00,  1.51it/s]\n",
      "                 Class     Images  Instances      Box(P          R      mAP50  mAP50-95)     Mask(P          R      mAP50  mAP50-95): 100%|██████████| 9/9 [00:02<00:00,  3.29it/s]\n"
     ]
    },
    {
     "name": "stdout",
     "output_type": "stream",
     "text": [
      "                   all        113       3363      0.289      0.196      0.105     0.0324      0.169     0.0366     0.0135    0.00562\n",
      "\n",
      "      Epoch    GPU_mem   box_loss   seg_loss   cls_loss   dfl_loss  Instances       Size\n"
     ]
    },
    {
     "name": "stderr",
     "output_type": "stream",
     "text": [
      "     88/100      0.44G      2.781      4.505      2.154     0.8107         99         64: 100%|██████████| 65/65 [00:42<00:00,  1.54it/s]\n",
      "                 Class     Images  Instances      Box(P          R      mAP50  mAP50-95)     Mask(P          R      mAP50  mAP50-95): 100%|██████████| 9/9 [00:02<00:00,  3.10it/s]\n"
     ]
    },
    {
     "name": "stdout",
     "output_type": "stream",
     "text": [
      "                   all        113       3363      0.319      0.196      0.105     0.0321      0.198      0.036     0.0138    0.00575\n",
      "\n",
      "      Epoch    GPU_mem   box_loss   seg_loss   cls_loss   dfl_loss  Instances       Size\n"
     ]
    },
    {
     "name": "stderr",
     "output_type": "stream",
     "text": [
      "     89/100     0.442G       2.77      4.599      2.107     0.8034         68         64: 100%|██████████| 65/65 [00:42<00:00,  1.52it/s]\n",
      "                 Class     Images  Instances      Box(P          R      mAP50  mAP50-95)     Mask(P          R      mAP50  mAP50-95): 100%|██████████| 9/9 [00:02<00:00,  3.18it/s]"
     ]
    },
    {
     "name": "stdout",
     "output_type": "stream",
     "text": [
      "                   all        113       3363      0.319      0.199      0.105     0.0323      0.171     0.0372     0.0148    0.00605\n"
     ]
    },
    {
     "name": "stderr",
     "output_type": "stream",
     "text": [
      "\n"
     ]
    },
    {
     "name": "stdout",
     "output_type": "stream",
     "text": [
      "\n",
      "      Epoch    GPU_mem   box_loss   seg_loss   cls_loss   dfl_loss  Instances       Size\n"
     ]
    },
    {
     "name": "stderr",
     "output_type": "stream",
     "text": [
      "     90/100     0.442G       2.76      4.547      2.128     0.8097         69         64: 100%|██████████| 65/65 [00:42<00:00,  1.52it/s]\n",
      "                 Class     Images  Instances      Box(P          R      mAP50  mAP50-95)     Mask(P          R      mAP50  mAP50-95): 100%|██████████| 9/9 [00:02<00:00,  3.19it/s]\n"
     ]
    },
    {
     "name": "stdout",
     "output_type": "stream",
     "text": [
      "                   all        113       3363       0.32      0.185      0.102     0.0317        0.2     0.0357     0.0143    0.00585\n",
      "Closing dataloader mosaic\n",
      "\u001b[34m\u001b[1malbumentations: \u001b[0mBlur(p=0.01, blur_limit=(3, 7)), MedianBlur(p=0.01, blur_limit=(3, 7)), ToGray(p=0.01), CLAHE(p=0.01, clip_limit=(1, 4.0), tile_grid_size=(8, 8))\n",
      "\n",
      "      Epoch    GPU_mem   box_loss   seg_loss   cls_loss   dfl_loss  Instances       Size\n"
     ]
    },
    {
     "name": "stderr",
     "output_type": "stream",
     "text": [
      "     91/100      0.44G      2.716      4.471      2.109     0.8223        128         64: 100%|██████████| 65/65 [00:25<00:00,  2.53it/s]\n",
      "                 Class     Images  Instances      Box(P          R      mAP50  mAP50-95)     Mask(P          R      mAP50  mAP50-95): 100%|██████████| 9/9 [00:01<00:00,  4.55it/s]"
     ]
    },
    {
     "name": "stdout",
     "output_type": "stream",
     "text": [
      "                   all        113       3363      0.323      0.174        0.1     0.0308      0.201     0.0367     0.0126    0.00504\n"
     ]
    },
    {
     "name": "stderr",
     "output_type": "stream",
     "text": [
      "\n"
     ]
    },
    {
     "name": "stdout",
     "output_type": "stream",
     "text": [
      "\n",
      "      Epoch    GPU_mem   box_loss   seg_loss   cls_loss   dfl_loss  Instances       Size\n"
     ]
    },
    {
     "name": "stderr",
     "output_type": "stream",
     "text": [
      "     92/100      0.44G      2.776       4.64      2.102     0.8172        111         64: 100%|██████████| 65/65 [00:21<00:00,  2.98it/s]\n",
      "                 Class     Images  Instances      Box(P          R      mAP50  mAP50-95)     Mask(P          R      mAP50  mAP50-95): 100%|██████████| 9/9 [00:01<00:00,  5.53it/s]"
     ]
    },
    {
     "name": "stdout",
     "output_type": "stream",
     "text": [
      "                   all        113       3363      0.322      0.157      0.099     0.0308        0.2     0.0323     0.0116     0.0048\n"
     ]
    },
    {
     "name": "stderr",
     "output_type": "stream",
     "text": [
      "\n"
     ]
    },
    {
     "name": "stdout",
     "output_type": "stream",
     "text": [
      "\n",
      "      Epoch    GPU_mem   box_loss   seg_loss   cls_loss   dfl_loss  Instances       Size\n"
     ]
    },
    {
     "name": "stderr",
     "output_type": "stream",
     "text": [
      "     93/100      0.44G      2.689      4.522       2.07     0.8175         84         64: 100%|██████████| 65/65 [00:22<00:00,  2.85it/s]\n",
      "                 Class     Images  Instances      Box(P          R      mAP50  mAP50-95)     Mask(P          R      mAP50  mAP50-95): 100%|██████████| 9/9 [00:01<00:00,  4.81it/s]"
     ]
    },
    {
     "name": "stdout",
     "output_type": "stream",
     "text": [
      "                   all        113       3363      0.325      0.159        0.1      0.031      0.202     0.0334     0.0115    0.00436\n"
     ]
    },
    {
     "name": "stderr",
     "output_type": "stream",
     "text": [
      "\n"
     ]
    },
    {
     "name": "stdout",
     "output_type": "stream",
     "text": [
      "\n",
      "      Epoch    GPU_mem   box_loss   seg_loss   cls_loss   dfl_loss  Instances       Size\n"
     ]
    },
    {
     "name": "stderr",
     "output_type": "stream",
     "text": [
      "     94/100      0.44G      2.711      4.476      2.083     0.8193        107         64: 100%|██████████| 65/65 [00:22<00:00,  2.88it/s]\n",
      "                 Class     Images  Instances      Box(P          R      mAP50  mAP50-95)     Mask(P          R      mAP50  mAP50-95): 100%|██████████| 9/9 [00:01<00:00,  4.99it/s]"
     ]
    },
    {
     "name": "stdout",
     "output_type": "stream",
     "text": [
      "                   all        113       3363      0.325      0.159      0.102     0.0317      0.202     0.0315     0.0113    0.00425\n"
     ]
    },
    {
     "name": "stderr",
     "output_type": "stream",
     "text": [
      "\n"
     ]
    },
    {
     "name": "stdout",
     "output_type": "stream",
     "text": [
      "\n",
      "      Epoch    GPU_mem   box_loss   seg_loss   cls_loss   dfl_loss  Instances       Size\n"
     ]
    },
    {
     "name": "stderr",
     "output_type": "stream",
     "text": [
      "     95/100      0.44G      2.723      4.561      2.093     0.8207         91         64: 100%|██████████| 65/65 [00:21<00:00,  2.98it/s]\n",
      "                 Class     Images  Instances      Box(P          R      mAP50  mAP50-95)     Mask(P          R      mAP50  mAP50-95): 100%|██████████| 9/9 [00:01<00:00,  5.02it/s]\n"
     ]
    },
    {
     "name": "stdout",
     "output_type": "stream",
     "text": [
      "                   all        113       3363      0.315      0.153     0.0991     0.0317       0.23     0.0265    0.00907    0.00364\n",
      "\n",
      "      Epoch    GPU_mem   box_loss   seg_loss   cls_loss   dfl_loss  Instances       Size\n"
     ]
    },
    {
     "name": "stderr",
     "output_type": "stream",
     "text": [
      "     96/100      0.44G      2.724      4.566      2.127     0.8212         72         64: 100%|██████████| 65/65 [00:22<00:00,  2.88it/s]\n",
      "                 Class     Images  Instances      Box(P          R      mAP50  mAP50-95)     Mask(P          R      mAP50  mAP50-95): 100%|██████████| 9/9 [00:01<00:00,  5.30it/s]\n"
     ]
    },
    {
     "name": "stdout",
     "output_type": "stream",
     "text": [
      "                   all        113       3363      0.317      0.163     0.0979     0.0312      0.197     0.0278    0.00916    0.00364\n",
      "\n",
      "      Epoch    GPU_mem   box_loss   seg_loss   cls_loss   dfl_loss  Instances       Size\n"
     ]
    },
    {
     "name": "stderr",
     "output_type": "stream",
     "text": [
      "     97/100      0.44G      2.684      4.493      2.072     0.8222         50         64: 100%|██████████| 65/65 [00:22<00:00,  2.85it/s]\n",
      "                 Class     Images  Instances      Box(P          R      mAP50  mAP50-95)     Mask(P          R      mAP50  mAP50-95): 100%|██████████| 9/9 [00:01<00:00,  5.52it/s]\n"
     ]
    },
    {
     "name": "stdout",
     "output_type": "stream",
     "text": [
      "                   all        113       3363      0.317      0.174     0.0961     0.0305      0.197     0.0306    0.00999    0.00389\n",
      "\n",
      "      Epoch    GPU_mem   box_loss   seg_loss   cls_loss   dfl_loss  Instances       Size\n"
     ]
    },
    {
     "name": "stderr",
     "output_type": "stream",
     "text": [
      "     98/100     0.442G      2.699       4.49      2.061     0.8143         54         64: 100%|██████████| 65/65 [00:21<00:00,  3.00it/s]\n",
      "                 Class     Images  Instances      Box(P          R      mAP50  mAP50-95)     Mask(P          R      mAP50  mAP50-95): 100%|██████████| 9/9 [00:01<00:00,  4.87it/s]"
     ]
    },
    {
     "name": "stdout",
     "output_type": "stream",
     "text": [
      "                   all        113       3363      0.326      0.151     0.0992     0.0314      0.201     0.0315     0.0111    0.00478\n"
     ]
    },
    {
     "name": "stderr",
     "output_type": "stream",
     "text": [
      "\n"
     ]
    },
    {
     "name": "stdout",
     "output_type": "stream",
     "text": [
      "\n",
      "      Epoch    GPU_mem   box_loss   seg_loss   cls_loss   dfl_loss  Instances       Size\n"
     ]
    },
    {
     "name": "stderr",
     "output_type": "stream",
     "text": [
      "     99/100     0.442G      2.692      4.515      2.062     0.8188        102         64: 100%|██████████| 65/65 [00:22<00:00,  2.88it/s]\n",
      "                 Class     Images  Instances      Box(P          R      mAP50  mAP50-95)     Mask(P          R      mAP50  mAP50-95): 100%|██████████| 9/9 [00:01<00:00,  6.57it/s]"
     ]
    },
    {
     "name": "stdout",
     "output_type": "stream",
     "text": [
      "                   all        113       3363      0.337      0.153      0.099     0.0312      0.199     0.0349     0.0114    0.00489\n"
     ]
    },
    {
     "name": "stderr",
     "output_type": "stream",
     "text": [
      "\n"
     ]
    },
    {
     "name": "stdout",
     "output_type": "stream",
     "text": [
      "\n",
      "      Epoch    GPU_mem   box_loss   seg_loss   cls_loss   dfl_loss  Instances       Size\n"
     ]
    },
    {
     "name": "stderr",
     "output_type": "stream",
     "text": [
      "    100/100      0.44G      2.707      4.538      2.103     0.8211        106         64: 100%|██████████| 65/65 [00:21<00:00,  2.98it/s]\n",
      "                 Class     Images  Instances      Box(P          R      mAP50  mAP50-95)     Mask(P          R      mAP50  mAP50-95): 100%|██████████| 9/9 [00:01<00:00,  4.99it/s]"
     ]
    },
    {
     "name": "stdout",
     "output_type": "stream",
     "text": [
      "                   all        113       3363       0.33      0.159     0.0987     0.0309      0.199     0.0348     0.0115    0.00476\n"
     ]
    },
    {
     "name": "stderr",
     "output_type": "stream",
     "text": [
      "\n"
     ]
    },
    {
     "name": "stdout",
     "output_type": "stream",
     "text": [
      "\n",
      "100 epochs completed in 1.255 hours.\n",
      "Optimizer stripped from results/train_1/weights/last.pt, 6.7MB\n",
      "Optimizer stripped from results/train_1/weights/best.pt, 6.7MB\n",
      "\n",
      "Validating results/train_1/weights/best.pt...\n",
      "Ultralytics YOLOv8.0.230 🚀 Python-3.10.12 torch-2.0.0 CUDA:0 (Tesla T4, 15110MiB)\n",
      "YOLOv8n-seg summary (fused): 195 layers, 3264889 parameters, 0 gradients, 12.0 GFLOPs\n"
     ]
    },
    {
     "name": "stderr",
     "output_type": "stream",
     "text": [
      "                 Class     Images  Instances      Box(P          R      mAP50  mAP50-95)     Mask(P          R      mAP50  mAP50-95): 100%|██████████| 9/9 [00:08<00:00,  1.10it/s]\n"
     ]
    },
    {
     "name": "stdout",
     "output_type": "stream",
     "text": [
      "                   all        113       3363      0.318      0.184      0.106      0.033      0.201     0.0416     0.0159    0.00637\n",
      "                    11        113        107          0          0          0          0          0          0   0.000938   9.38e-05\n",
      "                    12        113        106      0.145     0.0283      0.037    0.00799          0          0          0          0\n",
      "                    13        113        102      0.364      0.292      0.243     0.0702          0          0          0          0\n",
      "                    14        113         98      0.178      0.182     0.0915     0.0223          0          0          0          0\n",
      "                    15        113         89      0.148      0.135     0.0721     0.0181          0          0   0.000516   0.000207\n",
      "                    16        113         85      0.161      0.294     0.0934     0.0325     0.0128     0.0235    0.00459    0.00128\n",
      "                    17        113         89      0.274      0.427      0.183     0.0537          0          0    0.00309   0.000674\n",
      "                    18        113         62      0.129     0.0645     0.0478     0.0162          0          0    0.00528    0.00311\n",
      "                    21        113        106          0          0    0.00201   0.000501          0          0          0          0\n",
      "                    22        113        108      0.253     0.0185      0.115     0.0352          0          0     0.0037    0.00165\n",
      "                    23        113        106     0.0936     0.0377     0.0896     0.0255          0          0     0.0118    0.00314\n",
      "                    24        113         94     0.0927     0.0638     0.0553     0.0193          0          0    0.00438     0.0014\n",
      "                    25        113         87      0.153      0.103     0.0757     0.0221      0.017     0.0115    0.00319     0.0014\n",
      "                    26        113         88      0.239      0.398      0.241     0.0877     0.0137     0.0227    0.00334    0.00207\n",
      "                    27        113         83      0.184      0.301      0.103     0.0395     0.0958      0.157     0.0278     0.0105\n",
      "                    28        113         63      0.152      0.143     0.0678     0.0176      0.118      0.111     0.0556      0.022\n",
      "                    31        113        108          1          0          0          0          1          0          0          0\n",
      "                    32        113        112          1          0    0.00957     0.0022          1          0   0.000739   0.000296\n",
      "                    33        113        111      0.303      0.144      0.197     0.0611     0.0758      0.036     0.0236     0.0173\n",
      "                    34        113        105     0.0299     0.0286     0.0373     0.0103     0.0199      0.019     0.0119    0.00232\n",
      "                    35        113         99      0.199      0.384      0.194     0.0501     0.0679      0.131     0.0371     0.0114\n",
      "                    36        113         78      0.193      0.718       0.37      0.133     0.0414      0.154     0.0317      0.017\n",
      "                    37        113         90      0.238      0.589      0.359      0.117     0.0942      0.233     0.0743     0.0269\n",
      "                    38        113         69      0.371      0.304      0.188     0.0661      0.283      0.232      0.145      0.056\n",
      "                    41        113        109          1          0          0          0          1          0          0          0\n",
      "                    42        113        111          0          0    0.00241    0.00109          0          0          0          0\n",
      "                    43        113        111      0.112      0.036     0.0481     0.0139          0          0          0          0\n",
      "                    44        113        109      0.402      0.222      0.222     0.0649          0          0          0          0\n",
      "                    45        113         95      0.143      0.211     0.0648     0.0144          0          0    0.00257    0.00144\n",
      "                    46        113         80        0.2      0.613      0.216     0.0556    0.00817      0.025      0.012    0.00519\n",
      "                    47        113         87      0.266      0.598      0.224     0.0768      0.102       0.23     0.0508     0.0214\n",
      "                    48        113         72      0.113      0.111     0.0717     0.0204     0.0708     0.0694     0.0324     0.0114\n",
      "                 Crown        113        187          1          0    0.00157    0.00031          1          0    0.00327    0.00177\n",
      "               Implant        113         54          1          0   0.000988   0.000296          1          0    0.00182   0.000877\n",
      "            Root Canal        113        103          1          0      0.004   0.000661          1          0    0.00477     0.0022\n",
      "Speed: 0.1ms preprocess, 15.5ms inference, 0.0ms loss, 18.2ms postprocess per image\n",
      "Results saved to \u001b[1mresults/train_1\u001b[0m\n"
     ]
    },
    {
     "data": {
      "application/vnd.jupyter.widget-view+json": {
       "model_id": "",
       "version_major": 2,
       "version_minor": 0
      },
      "text/plain": [
       "VBox(children=(Label(value='9.969 MB of 9.969 MB uploaded\\r'), FloatProgress(value=1.0, max=1.0)))"
      ]
     },
     "metadata": {},
     "output_type": "display_data"
    },
    {
     "data": {
      "text/html": [
       "<style>\n",
       "    table.wandb td:nth-child(1) { padding: 0 10px; text-align: left ; width: auto;} td:nth-child(2) {text-align: left ; width: 100%}\n",
       "    .wandb-row { display: flex; flex-direction: row; flex-wrap: wrap; justify-content: flex-start; width: 100% }\n",
       "    .wandb-col { display: flex; flex-direction: column; flex-basis: 100%; flex: 1; padding: 10px; }\n",
       "    </style>\n",
       "<div class=\"wandb-row\"><div class=\"wandb-col\"><h3>Run history:</h3><br/><table class=\"wandb\"><tr><td>lr/pg0</td><td>▃████▇▇▇▇▇▆▆▆▆▆▅▅▅▅▅▅▄▄▄▄▄▃▃▃▃▃▃▂▂▂▂▂▁▁▁</td></tr><tr><td>lr/pg1</td><td>▃████▇▇▇▇▇▆▆▆▆▆▅▅▅▅▅▅▄▄▄▄▄▃▃▃▃▃▃▂▂▂▂▂▁▁▁</td></tr><tr><td>lr/pg2</td><td>▃████▇▇▇▇▇▆▆▆▆▆▅▅▅▅▅▅▄▄▄▄▄▃▃▃▃▃▃▂▂▂▂▂▁▁▁</td></tr><tr><td>metrics/mAP50(B)</td><td>▁▁▁▁▂▃▃▃▃▄▄▅▅▅▆▆▆▆▆▆▆▆▇▇▇▇▇▇▇▇██████▇█▇█</td></tr><tr><td>metrics/mAP50(M)</td><td>▁▁▁▁▁▃▃▂▃▂▂▂▄▄▄▃▅▅▅▅▅▄▆▆▆▅▆▇█▇▇▇█▇▇▇▆▆▅█</td></tr><tr><td>metrics/mAP50-95(B)</td><td>▁▁▁▁▂▃▃▃▃▄▄▅▅▅▅▅▆▆▆▆▆▆▇▇▇▇▇▇▇▇████████▇█</td></tr><tr><td>metrics/mAP50-95(M)</td><td>▁▁▁▁▁▃▃▂▃▂▂▂▃▃▄▃▅▅▅▆▅▄▆▆▆▆▆▇█▇▇▆█▇▇▇▆▅▅█</td></tr><tr><td>metrics/precision(B)</td><td>▁▁▁▁▁▁▂▂▂▂▂▄▄▃▄▇▇▆▆▇█▇▇▇▇▇▆▇▇▆▆▆▆▇▆▇▇▇▆▆</td></tr><tr><td>metrics/precision(M)</td><td>▁▁▁▁▁▁▁▁▁▁▁▁█▁▁▂▆▅▆▅▃▃▄▃▄▃▃▅▅▄▄▄▄▄▄▄▄▄▄▄</td></tr><tr><td>metrics/recall(B)</td><td>▁▁▁▁▁▃▃▅▆▇█▅▆█▇▄▅▅▄▄▄▄▅▅▅▅▅▅▅▅▆▆▆▅▆▆▅▅▅▆</td></tr><tr><td>metrics/recall(M)</td><td>▁▁▁▁▁▄▃▄▄▃▃▅▂▇█▃▃▄▃▃▃▃▄▄▃▅▄▄▄▄▄▄▅▅▅▅▄▄▄▅</td></tr><tr><td>model/GFLOPs</td><td>▁</td></tr><tr><td>model/parameters</td><td>▁</td></tr><tr><td>model/speed_PyTorch(ms)</td><td>▁</td></tr><tr><td>train/box_loss</td><td>▁█▆▆▅▅▄▄▄▄▄▄▃▄▄▃▃▃▃▃▃▃▃▃▃▃▃▃▃▃▃▃▃▃▃▃▃▃▃▃</td></tr><tr><td>train/cls_loss</td><td>▂█▇▇▆▅▅▄▄▃▃▃▂▂▂▂▂▂▂▂▂▁▁▁▁▁▁▁▁▁▁▁▁▁▁▁▁▁▁▁</td></tr><tr><td>train/dfl_loss</td><td>▁█▇▆▅▅▅▄▄▄▄▄▄▄▄▄▄▄▄▄▄▄▄▄▄▄▄▄▄▄▄▄▄▄▄▄▄▄▄▄</td></tr><tr><td>train/seg_loss</td><td>█▄▅▄▃▃▃▃▃▂▂▂▃▂▂▂▂▂▂▂▁▂▂▂▂▁▁▂▂▁▂▂▁▁▁▂▂▁▁▁</td></tr><tr><td>val/box_loss</td><td>▁▁█▇▇▇▇▇▇▆▆▆▆▆▆▆▆▆▆▆▆▆▆▆▆▆▆▆▆▆▆▆▆▆▆▆▆▆▆▆</td></tr><tr><td>val/cls_loss</td><td>▁▂██▇▆▆▆▅▅▄▄▄▄▄▄▄▄▄▄▄▄▄▄▄▄▄▄▄▄▄▄▄▄▄▄▄▄▄▄</td></tr><tr><td>val/dfl_loss</td><td>▁▁██▇▇▇▇▇▇▇▇▇▇▇▇▇▇▇▇▇▇▇▇▇▇▇▇▇▇▇▇▇▇▇▇▇▇▇▇</td></tr><tr><td>val/seg_loss</td><td>▅█▄▃▃▂▂▂▂▂▁▂▁▁▂▁▂▁▂▁▁▁▁▁▁▁▁▁▁▁▁▁▁▁▁▁▁▁▁▁</td></tr></table><br/></div><div class=\"wandb-col\"><h3>Run summary:</h3><br/><table class=\"wandb\"><tr><td>lr/pg0</td><td>1e-05</td></tr><tr><td>lr/pg1</td><td>1e-05</td></tr><tr><td>lr/pg2</td><td>1e-05</td></tr><tr><td>metrics/mAP50(B)</td><td>0.10649</td></tr><tr><td>metrics/mAP50(M)</td><td>0.01588</td></tr><tr><td>metrics/mAP50-95(B)</td><td>0.03303</td></tr><tr><td>metrics/mAP50-95(M)</td><td>0.00637</td></tr><tr><td>metrics/precision(B)</td><td>0.31814</td></tr><tr><td>metrics/precision(M)</td><td>0.20058</td></tr><tr><td>metrics/recall(B)</td><td>0.18416</td></tr><tr><td>metrics/recall(M)</td><td>0.04158</td></tr><tr><td>model/GFLOPs</td><td>12.146</td></tr><tr><td>model/parameters</td><td>3270441</td></tr><tr><td>model/speed_PyTorch(ms)</td><td>9.649</td></tr><tr><td>train/box_loss</td><td>2.70721</td></tr><tr><td>train/cls_loss</td><td>2.10318</td></tr><tr><td>train/dfl_loss</td><td>0.82111</td></tr><tr><td>train/seg_loss</td><td>4.53844</td></tr><tr><td>val/box_loss</td><td>2.66005</td></tr><tr><td>val/cls_loss</td><td>1.99307</td></tr><tr><td>val/dfl_loss</td><td>0.77943</td></tr><tr><td>val/seg_loss</td><td>4.7109</td></tr></table><br/></div></div>"
      ],
      "text/plain": [
       "<IPython.core.display.HTML object>"
      ]
     },
     "metadata": {},
     "output_type": "display_data"
    },
    {
     "data": {
      "text/html": [
       " View run <strong style=\"color:#cdcd00\">train_1</strong> at: <a href='https://wandb.ai/mernaalbert03/results/runs/me7q290u' target=\"_blank\">https://wandb.ai/mernaalbert03/results/runs/me7q290u</a><br/>Synced 6 W&B file(s), 32 media file(s), 9 artifact file(s) and 0 other file(s)"
      ],
      "text/plain": [
       "<IPython.core.display.HTML object>"
      ]
     },
     "metadata": {},
     "output_type": "display_data"
    },
    {
     "data": {
      "text/html": [
       "Find logs at: <code>./wandb/run-20231228_025831-me7q290u/logs</code>"
      ],
      "text/plain": [
       "<IPython.core.display.HTML object>"
      ]
     },
     "metadata": {},
     "output_type": "display_data"
    }
   ],
   "source": [
    "project='results'\n",
    "name=\"train_1\"\n",
    "model=model.train(data='/kaggle/input/dentistry-image-dataset/data.yaml',\n",
    "                  project=project,\n",
    "                  name=name,\n",
    "                  epochs=100,\n",
    "                  patience=0,\n",
    "                  batch=7,\n",
    "                  imgsz=64)"
   ]
  },
  {
   "cell_type": "code",
   "execution_count": 14,
   "metadata": {
    "execution": {
     "iopub.execute_input": "2023-12-28T04:36:12.525505Z",
     "iopub.status.busy": "2023-12-28T04:36:12.524903Z",
     "iopub.status.idle": "2023-12-28T04:36:12.544269Z",
     "shell.execute_reply": "2023-12-28T04:36:12.543337Z",
     "shell.execute_reply.started": "2023-12-28T04:36:12.525473Z"
    }
   },
   "outputs": [
    {
     "data": {
      "image/png": "[encoded data removed]",
      "text/plain": [
       "<IPython.core.display.Image object>"
      ]
     },
     "execution_count": 14,
     "metadata": {},
     "output_type": "execute_result"
    }
   ],
   "source": [
    "from IPython.display import Image\n",
    "Image(\"/kaggle/working/results/train_1/results.png\")"
   ]
  },
  {
   "cell_type": "code",
   "execution_count": 16,
   "metadata": {
    "execution": {
     "iopub.execute_input": "2023-12-28T04:37:54.196244Z",
     "iopub.status.busy": "2023-12-28T04:37:54.195335Z",
     "iopub.status.idle": "2023-12-28T04:37:54.203113Z",
     "shell.execute_reply": "2023-12-28T04:37:54.202164Z",
     "shell.execute_reply.started": "2023-12-28T04:37:54.196209Z"
    }
   },
   "outputs": [
    {
     "data": {
      "image/jpeg": "[encoded data removed]",
      "text/plain": [
       "<IPython.core.display.Image object>"
      ]
     },
     "execution_count": 16,
     "metadata": {},
     "output_type": "execute_result"
    }
   ],
   "source": [
    "Image(filename='/kaggle/working/results/train_1/train_batch5852.jpg')"
   ]
  },
  {
   "cell_type": "code",
   "execution_count": 17,
   "metadata": {
    "execution": {
     "iopub.execute_input": "2023-12-28T04:40:18.257331Z",
     "iopub.status.busy": "2023-12-28T04:40:18.256425Z",
     "iopub.status.idle": "2023-12-28T04:40:19.336289Z",
     "shell.execute_reply": "2023-12-28T04:40:19.334899Z",
     "shell.execute_reply.started": "2023-12-28T04:40:18.257296Z"
    }
   },
   "outputs": [
    {
     "name": "stdout",
     "output_type": "stream",
     "text": [
      "best.pt  last.pt\n"
     ]
    }
   ],
   "source": [
    "%ls /kaggle/working/results/train_1/weights"
   ]
  },
  {
   "cell_type": "code",
   "execution_count": 19,
   "metadata": {
    "execution": {
     "iopub.execute_input": "2023-12-28T04:50:39.398650Z",
     "iopub.status.busy": "2023-12-28T04:50:39.397744Z",
     "iopub.status.idle": "2023-12-28T04:50:39.459271Z",
     "shell.execute_reply": "2023-12-28T04:50:39.458298Z",
     "shell.execute_reply.started": "2023-12-28T04:50:39.398614Z"
    }
   },
   "outputs": [],
   "source": [
    "my_new_model = YOLO('/kaggle/working/results/train_1/weights/best.pt')"
   ]
  }
 ],
 "metadata": {
  "kaggle": {
   "accelerator": "none",
   "dataSources": [
    {
     "datasetId": 4226753,
     "sourceId": 7288438,
     "sourceType": "datasetVersion"
    }
   ],
   "dockerImageVersionId": 30626,
   "isGpuEnabled": false,
   "isInternetEnabled": true,
   "language": "python",
   "sourceType": "notebook"
  },
  "kernelspec": {
   "display_name": "Python 3 (ipykernel)",
   "language": "python",
   "name": "python3"
  },
  "language_info": {
   "codemirror_mode": {
    "name": "ipython",
    "version": 3
   },
   "file_extension": ".py",
   "mimetype": "text/x-python",
   "name": "python",
   "nbconvert_exporter": "python",
   "pygments_lexer": "ipython3",
   "version": "3.9.7"
  }
 },
 "nbformat": 4,
 "nbformat_minor": 4
}
